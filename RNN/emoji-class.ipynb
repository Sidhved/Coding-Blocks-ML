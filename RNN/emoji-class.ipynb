{
 "cells": [
  {
   "cell_type": "code",
   "execution_count": 1,
   "source": [
    "!pip install emoji\r\n",
    "import emoji as emoji\r\n",
    "import numpy as np\r\n",
    "import pandas as pd"
   ],
   "outputs": [
    {
     "output_type": "stream",
     "name": "stdout",
     "text": [
      "Collecting emoji\n",
      "  Using cached emoji-1.4.2.tar.gz (184 kB)\n",
      "Building wheels for collected packages: emoji\n",
      "  Building wheel for emoji (setup.py): started\n",
      "  Building wheel for emoji (setup.py): finished with status 'done'\n",
      "  Created wheel for emoji: filename=emoji-1.4.2-py3-none-any.whl size=186457 sha256=c8733e777b940575cde005b000485822181dbe29ce7c278ab496430d5e5ccb2f\n",
      "  Stored in directory: c:\\users\\dell\\appdata\\local\\pip\\cache\\wheels\\71\\4d\\3c\\cada364d4ea0026deee7208dee1e61bcebd20aa2ae5dc154ba\n",
      "Successfully built emoji\n",
      "Installing collected packages: emoji\n",
      "Successfully installed emoji-1.4.2\n"
     ]
    }
   ],
   "metadata": {}
  },
  {
   "cell_type": "code",
   "execution_count": 5,
   "source": [
    "train = pd.read_csv('D:/VS/Coding-Blocks-ML/RNN/dataset/train_emoji.csv', header=None)\r\n",
    "test = pd.read_csv('D:/VS/Coding-Blocks-ML/RNN/dataset/test_emoji.csv', header=None)"
   ],
   "outputs": [],
   "metadata": {}
  },
  {
   "cell_type": "code",
   "execution_count": 6,
   "source": [
    "train.head()"
   ],
   "outputs": [
    {
     "output_type": "execute_result",
     "data": {
      "text/plain": [
       "                                 0  1   2     3\n",
       "0           never talk to me again  3 NaN   NaN\n",
       "1  I am proud of your achievements  2 NaN   NaN\n",
       "2   It is the worst day in my life  3 NaN   NaN\n",
       "3                 Miss you so much  0 NaN   [0]\n",
       "4                     food is life  4 NaN   NaN"
      ],
      "text/html": [
       "<div>\n",
       "<style scoped>\n",
       "    .dataframe tbody tr th:only-of-type {\n",
       "        vertical-align: middle;\n",
       "    }\n",
       "\n",
       "    .dataframe tbody tr th {\n",
       "        vertical-align: top;\n",
       "    }\n",
       "\n",
       "    .dataframe thead th {\n",
       "        text-align: right;\n",
       "    }\n",
       "</style>\n",
       "<table border=\"1\" class=\"dataframe\">\n",
       "  <thead>\n",
       "    <tr style=\"text-align: right;\">\n",
       "      <th></th>\n",
       "      <th>0</th>\n",
       "      <th>1</th>\n",
       "      <th>2</th>\n",
       "      <th>3</th>\n",
       "    </tr>\n",
       "  </thead>\n",
       "  <tbody>\n",
       "    <tr>\n",
       "      <th>0</th>\n",
       "      <td>never talk to me again</td>\n",
       "      <td>3</td>\n",
       "      <td>NaN</td>\n",
       "      <td>NaN</td>\n",
       "    </tr>\n",
       "    <tr>\n",
       "      <th>1</th>\n",
       "      <td>I am proud of your achievements</td>\n",
       "      <td>2</td>\n",
       "      <td>NaN</td>\n",
       "      <td>NaN</td>\n",
       "    </tr>\n",
       "    <tr>\n",
       "      <th>2</th>\n",
       "      <td>It is the worst day in my life</td>\n",
       "      <td>3</td>\n",
       "      <td>NaN</td>\n",
       "      <td>NaN</td>\n",
       "    </tr>\n",
       "    <tr>\n",
       "      <th>3</th>\n",
       "      <td>Miss you so much</td>\n",
       "      <td>0</td>\n",
       "      <td>NaN</td>\n",
       "      <td>[0]</td>\n",
       "    </tr>\n",
       "    <tr>\n",
       "      <th>4</th>\n",
       "      <td>food is life</td>\n",
       "      <td>4</td>\n",
       "      <td>NaN</td>\n",
       "      <td>NaN</td>\n",
       "    </tr>\n",
       "  </tbody>\n",
       "</table>\n",
       "</div>"
      ]
     },
     "metadata": {},
     "execution_count": 6
    }
   ],
   "metadata": {}
  },
  {
   "cell_type": "code",
   "execution_count": 7,
   "source": [
    "emoji_dictionary = {\"0\": \"\\u2764\\uFE0F\", #:heart:\r\n",
    "                    \"1\": \":baseball:\",\r\n",
    "                    \"2\": \":beaming_face_with_smiling_eyes:\",\r\n",
    "                    \"3\": \":downcast_face_with_sweat:\",\r\n",
    "                    \"4\": \":fork_and_knife:\",}"
   ],
   "outputs": [],
   "metadata": {}
  },
  {
   "cell_type": "code",
   "execution_count": 8,
   "source": [
    "emoji.emojize(\":fork_and_knife:\")"
   ],
   "outputs": [
    {
     "output_type": "execute_result",
     "data": {
      "text/plain": [
       "'🍴'"
      ]
     },
     "metadata": {},
     "execution_count": 8
    }
   ],
   "metadata": {}
  },
  {
   "cell_type": "code",
   "execution_count": 9,
   "source": [
    "for e in emoji_dictionary.values():\r\n",
    "    print(emoji.emojize(e))"
   ],
   "outputs": [
    {
     "output_type": "stream",
     "name": "stdout",
     "text": [
      "❤️\n",
      "⚾\n",
      "😁\n",
      "😓\n",
      "🍴\n"
     ]
    }
   ],
   "metadata": {}
  },
  {
   "cell_type": "code",
   "execution_count": 10,
   "source": [
    "data = train.values\r\n",
    "for i in range(10):\r\n",
    "    print(data[i][0], emoji.emojize(emoji_dictionary[str(data[i][1])]))"
   ],
   "outputs": [
    {
     "output_type": "stream",
     "name": "stdout",
     "text": [
      "never talk to me again 😓\n",
      "I am proud of your achievements 😁\n",
      "It is the worst day in my life 😓\n",
      "Miss you so much ❤️\n",
      "food is life 🍴\n",
      "I love you mum ❤️\n",
      "Stop saying bullshit 😓\n",
      "congratulations on your acceptance 😁\n",
      "The assignment is too long  😓\n",
      "I want to go play ⚾\n"
     ]
    }
   ],
   "metadata": {}
  },
  {
   "cell_type": "code",
   "execution_count": 12,
   "source": [
    "from tensorflow.keras.utils import to_categorical"
   ],
   "outputs": [],
   "metadata": {}
  },
  {
   "cell_type": "code",
   "execution_count": 13,
   "source": [
    "XT = train[0]\r\n",
    "Xt = test[0]\r\n",
    "YT = to_categorical(train[1])\r\n",
    "Yt = to_categorical(test[1])\r\n",
    "\r\n",
    "print(XT.shape)\r\n",
    "print(Xt.shape)\r\n",
    "print(YT.shape)\r\n",
    "print(Yt.shape)"
   ],
   "outputs": [
    {
     "output_type": "stream",
     "name": "stdout",
     "text": [
      "(132,)\n",
      "(56,)\n",
      "(132, 5)\n",
      "(56, 5)\n"
     ]
    }
   ],
   "metadata": {}
  },
  {
   "cell_type": "code",
   "execution_count": 15,
   "source": [
    "embeddings = {}\r\n",
    "with open('glove.6B.50d.txt', encoding='utf-8') as f:\r\n",
    "    for line in f:\r\n",
    "        values = line.split()\r\n",
    "        word = values[0]\r\n",
    "        coeffs = np.asarray(values[1:], dtype='float32')\r\n",
    "\r\n",
    "        embeddings[word] = coeffs"
   ],
   "outputs": [],
   "metadata": {}
  },
  {
   "cell_type": "code",
   "execution_count": 18,
   "source": [
    "def getOutputEmbeddings(X):\r\n",
    "    \r\n",
    "    embedding_matrix_output = np.zeros((X.shape[0],10,50))\r\n",
    "    for ix in range(X.shape[0]):\r\n",
    "        X[ix] = X[ix].split()\r\n",
    "        for jx in range(len(X[ix])):\r\n",
    "            embedding_matrix_output[ix][jx] = embeddings[X[ix][jx].lower()]\r\n",
    "            \r\n",
    "    return embedding_matrix_output"
   ],
   "outputs": [],
   "metadata": {}
  },
  {
   "cell_type": "code",
   "execution_count": 19,
   "source": [
    "emb_XT = getOutputEmbeddings(XT)\r\n",
    "emb_Xt = getOutputEmbeddings(Xt)"
   ],
   "outputs": [
    {
     "output_type": "stream",
     "name": "stderr",
     "text": [
      "<ipython-input-18-4b9aff165303>:5: SettingWithCopyWarning: \n",
      "A value is trying to be set on a copy of a slice from a DataFrame\n",
      "\n",
      "See the caveats in the documentation: https://pandas.pydata.org/pandas-docs/stable/user_guide/indexing.html#returning-a-view-versus-a-copy\n",
      "  X[ix] = X[ix].split()\n"
     ]
    }
   ],
   "metadata": {}
  },
  {
   "cell_type": "code",
   "execution_count": 20,
   "source": [
    "print(emb_Xt.shape)\r\n",
    "print(emb_XT.shape)"
   ],
   "outputs": [
    {
     "output_type": "stream",
     "name": "stdout",
     "text": [
      "(56, 10, 50)\n",
      "(132, 10, 50)\n"
     ]
    }
   ],
   "metadata": {}
  },
  {
   "cell_type": "code",
   "execution_count": 21,
   "source": [
    "from keras.layers import *\r\n",
    "from keras.models import Sequential"
   ],
   "outputs": [],
   "metadata": {}
  },
  {
   "cell_type": "code",
   "execution_count": 22,
   "source": [
    "model = Sequential()\r\n",
    "model.add(LSTM(64, input_shape=(10, 50), return_sequences=True))\r\n",
    "model.add(Dropout(0.4))\r\n",
    "model.add(LSTM(64, input_shape=(10, 50)))\r\n",
    "model.add(Dropout(0.3))\r\n",
    "model.add(Dense(5))\r\n",
    "model.add(Activation('softmax'))\r\n",
    "model.summary()"
   ],
   "outputs": [
    {
     "output_type": "stream",
     "name": "stdout",
     "text": [
      "Model: \"sequential\"\n",
      "_________________________________________________________________\n",
      "Layer (type)                 Output Shape              Param #   \n",
      "=================================================================\n",
      "lstm (LSTM)                  (None, 10, 64)            29440     \n",
      "_________________________________________________________________\n",
      "dropout (Dropout)            (None, 10, 64)            0         \n",
      "_________________________________________________________________\n",
      "lstm_1 (LSTM)                (None, 64)                33024     \n",
      "_________________________________________________________________\n",
      "dropout_1 (Dropout)          (None, 64)                0         \n",
      "_________________________________________________________________\n",
      "dense (Dense)                (None, 5)                 325       \n",
      "_________________________________________________________________\n",
      "activation (Activation)      (None, 5)                 0         \n",
      "=================================================================\n",
      "Total params: 62,789\n",
      "Trainable params: 62,789\n",
      "Non-trainable params: 0\n",
      "_________________________________________________________________\n"
     ]
    }
   ],
   "metadata": {}
  },
  {
   "cell_type": "code",
   "execution_count": 23,
   "source": [
    "model.compile(optimizer='adam', loss='categorical_crossentropy', metrics=['acc'])\r\n",
    "model.fit(emb_XT, YT, batch_size=32, epochs=40, shuffle=True, validation_split=0.1)"
   ],
   "outputs": [
    {
     "output_type": "stream",
     "name": "stdout",
     "text": [
      "Epoch 1/40\n",
      "4/4 [==============================] - 45s 801ms/step - loss: 1.6056 - acc: 0.2608 - val_loss: 1.5745 - val_acc: 0.2143\n",
      "Epoch 2/40\n",
      "4/4 [==============================] - 0s 34ms/step - loss: 1.5194 - acc: 0.3525 - val_loss: 1.5878 - val_acc: 0.0714\n",
      "Epoch 3/40\n",
      "4/4 [==============================] - 0s 28ms/step - loss: 1.4822 - acc: 0.4354 - val_loss: 1.5723 - val_acc: 0.1429\n",
      "Epoch 4/40\n",
      "4/4 [==============================] - 0s 28ms/step - loss: 1.4334 - acc: 0.4497 - val_loss: 1.5264 - val_acc: 0.3571\n",
      "Epoch 5/40\n",
      "4/4 [==============================] - 0s 29ms/step - loss: 1.3894 - acc: 0.4763 - val_loss: 1.4737 - val_acc: 0.3571\n",
      "Epoch 6/40\n",
      "4/4 [==============================] - 0s 29ms/step - loss: 1.2911 - acc: 0.5636 - val_loss: 1.4160 - val_acc: 0.3571\n",
      "Epoch 7/40\n",
      "4/4 [==============================] - 0s 33ms/step - loss: 1.2043 - acc: 0.5542 - val_loss: 1.4072 - val_acc: 0.2857\n",
      "Epoch 8/40\n",
      "4/4 [==============================] - 0s 28ms/step - loss: 1.1009 - acc: 0.5532 - val_loss: 1.1911 - val_acc: 0.5000\n",
      "Epoch 9/40\n",
      "4/4 [==============================] - 0s 22ms/step - loss: 0.9554 - acc: 0.7175 - val_loss: 1.1759 - val_acc: 0.5000\n",
      "Epoch 10/40\n",
      "4/4 [==============================] - 0s 24ms/step - loss: 0.8883 - acc: 0.6897 - val_loss: 1.0491 - val_acc: 0.6429\n",
      "Epoch 11/40\n",
      "4/4 [==============================] - 0s 23ms/step - loss: 0.8037 - acc: 0.7520 - val_loss: 0.9509 - val_acc: 0.7143\n",
      "Epoch 12/40\n",
      "4/4 [==============================] - 0s 23ms/step - loss: 0.6515 - acc: 0.8048 - val_loss: 0.9944 - val_acc: 0.5000\n",
      "Epoch 13/40\n",
      "4/4 [==============================] - 0s 29ms/step - loss: 0.5096 - acc: 0.8598 - val_loss: 0.8656 - val_acc: 0.6429\n",
      "Epoch 14/40\n",
      "4/4 [==============================] - 0s 27ms/step - loss: 0.5502 - acc: 0.8176 - val_loss: 0.9124 - val_acc: 0.5714\n",
      "Epoch 15/40\n",
      "4/4 [==============================] - 0s 26ms/step - loss: 0.4227 - acc: 0.8442 - val_loss: 0.7730 - val_acc: 0.7143\n",
      "Epoch 16/40\n",
      "4/4 [==============================] - 0s 28ms/step - loss: 0.4423 - acc: 0.8614 - val_loss: 0.9670 - val_acc: 0.6429\n",
      "Epoch 17/40\n",
      "4/4 [==============================] - 0s 29ms/step - loss: 0.3049 - acc: 0.8841 - val_loss: 0.8925 - val_acc: 0.5714\n",
      "Epoch 18/40\n",
      "4/4 [==============================] - 0s 28ms/step - loss: 0.3157 - acc: 0.8796 - val_loss: 1.0517 - val_acc: 0.5714\n",
      "Epoch 19/40\n",
      "4/4 [==============================] - 0s 30ms/step - loss: 0.2719 - acc: 0.9033 - val_loss: 0.8713 - val_acc: 0.7143\n",
      "Epoch 20/40\n",
      "4/4 [==============================] - 0s 28ms/step - loss: 0.2714 - acc: 0.9038 - val_loss: 0.8899 - val_acc: 0.6429\n",
      "Epoch 21/40\n",
      "4/4 [==============================] - 0s 27ms/step - loss: 0.2595 - acc: 0.9015 - val_loss: 0.7792 - val_acc: 0.7143\n",
      "Epoch 22/40\n",
      "4/4 [==============================] - 0s 27ms/step - loss: 0.2628 - acc: 0.9216 - val_loss: 0.5951 - val_acc: 0.7857\n",
      "Epoch 23/40\n",
      "4/4 [==============================] - 0s 27ms/step - loss: 0.2716 - acc: 0.9023 - val_loss: 1.1168 - val_acc: 0.5714\n",
      "Epoch 24/40\n",
      "4/4 [==============================] - 0s 27ms/step - loss: 0.2646 - acc: 0.9239 - val_loss: 0.8075 - val_acc: 0.6429\n",
      "Epoch 25/40\n",
      "4/4 [==============================] - 0s 26ms/step - loss: 0.2575 - acc: 0.9213 - val_loss: 0.6773 - val_acc: 0.6429\n",
      "Epoch 26/40\n",
      "4/4 [==============================] - 0s 28ms/step - loss: 0.1616 - acc: 0.9455 - val_loss: 0.8290 - val_acc: 0.7143\n",
      "Epoch 27/40\n",
      "4/4 [==============================] - 0s 27ms/step - loss: 0.2211 - acc: 0.9062 - val_loss: 0.7188 - val_acc: 0.6429\n",
      "Epoch 28/40\n",
      "4/4 [==============================] - 0s 28ms/step - loss: 0.1407 - acc: 0.9578 - val_loss: 0.7396 - val_acc: 0.6429\n",
      "Epoch 29/40\n",
      "4/4 [==============================] - 0s 28ms/step - loss: 0.1349 - acc: 0.9442 - val_loss: 0.9483 - val_acc: 0.6429\n",
      "Epoch 30/40\n",
      "4/4 [==============================] - 0s 27ms/step - loss: 0.1217 - acc: 0.9539 - val_loss: 0.8760 - val_acc: 0.6429\n",
      "Epoch 31/40\n",
      "4/4 [==============================] - 0s 29ms/step - loss: 0.1351 - acc: 0.9708 - val_loss: 1.0198 - val_acc: 0.5714\n",
      "Epoch 32/40\n",
      "4/4 [==============================] - 0s 27ms/step - loss: 0.1056 - acc: 0.9732 - val_loss: 0.9781 - val_acc: 0.5714\n",
      "Epoch 33/40\n",
      "4/4 [==============================] - 0s 28ms/step - loss: 0.0761 - acc: 0.9914 - val_loss: 0.8726 - val_acc: 0.5714\n",
      "Epoch 34/40\n",
      "4/4 [==============================] - 0s 29ms/step - loss: 0.0544 - acc: 1.0000 - val_loss: 0.9211 - val_acc: 0.5714\n",
      "Epoch 35/40\n",
      "4/4 [==============================] - 0s 27ms/step - loss: 0.0856 - acc: 0.9877 - val_loss: 0.8436 - val_acc: 0.6429\n",
      "Epoch 36/40\n",
      "4/4 [==============================] - 0s 28ms/step - loss: 0.1074 - acc: 0.9692 - val_loss: 0.7325 - val_acc: 0.6429\n",
      "Epoch 37/40\n",
      "4/4 [==============================] - 0s 28ms/step - loss: 0.0735 - acc: 0.9846 - val_loss: 1.1001 - val_acc: 0.5714\n",
      "Epoch 38/40\n",
      "4/4 [==============================] - 0s 28ms/step - loss: 0.1018 - acc: 0.9528 - val_loss: 1.1284 - val_acc: 0.7143\n",
      "Epoch 39/40\n",
      "4/4 [==============================] - 0s 46ms/step - loss: 0.1086 - acc: 0.9708 - val_loss: 1.4931 - val_acc: 0.5000\n",
      "Epoch 40/40\n",
      "4/4 [==============================] - 0s 30ms/step - loss: 0.0742 - acc: 0.9773 - val_loss: 1.5071 - val_acc: 0.5714\n"
     ]
    },
    {
     "output_type": "execute_result",
     "data": {
      "text/plain": [
       "<keras.callbacks.History at 0x24881ed7730>"
      ]
     },
     "metadata": {},
     "execution_count": 23
    }
   ],
   "metadata": {}
  },
  {
   "cell_type": "code",
   "execution_count": 24,
   "source": [
    "model.evaluate(emb_Xt, Yt)"
   ],
   "outputs": [
    {
     "output_type": "stream",
     "name": "stdout",
     "text": [
      "2/2 [==============================] - 0s 11ms/step - loss: 1.8758 - acc: 0.6071\n"
     ]
    },
    {
     "output_type": "execute_result",
     "data": {
      "text/plain": [
       "[1.8757517337799072, 0.6071428656578064]"
      ]
     },
     "metadata": {},
     "execution_count": 24
    }
   ],
   "metadata": {}
  },
  {
   "cell_type": "code",
   "execution_count": 25,
   "source": [
    "pred = model.predict_classes(emb_Xt)"
   ],
   "outputs": [
    {
     "output_type": "stream",
     "name": "stderr",
     "text": [
      "C:\\Users\\DELL\\anaconda3\\lib\\site-packages\\keras\\engine\\sequential.py:450: UserWarning: `model.predict_classes()` is deprecated and will be removed after 2021-01-01. Please use instead:* `np.argmax(model.predict(x), axis=-1)`,   if your model does multi-class classification   (e.g. if it uses a `softmax` last-layer activation).* `(model.predict(x) > 0.5).astype(\"int32\")`,   if your model does binary classification   (e.g. if it uses a `sigmoid` last-layer activation).\n",
      "  warnings.warn('`model.predict_classes()` is deprecated and '\n"
     ]
    }
   ],
   "metadata": {}
  },
  {
   "cell_type": "code",
   "execution_count": 26,
   "source": [
    "for i in range(30):\r\n",
    "    print(\" \".join(Xt[i]))\r\n",
    "    print(emoji.emojize(emoji_dictionary[str(np.argmax(Yt[i]))]))\r\n",
    "    print(emoji.emojize(emoji_dictionary[str(pred[i])]))"
   ],
   "outputs": [
    {
     "output_type": "stream",
     "name": "stdout",
     "text": [
      "I want to eat\n",
      "🍴\n",
      "🍴\n",
      "he did not answer\n",
      "😓\n",
      "😓\n",
      "he got a raise\n",
      "😁\n",
      "😁\n",
      "she got me a present\n",
      "❤️\n",
      "❤️\n",
      "ha ha ha it was so funny\n",
      "😁\n",
      "😁\n",
      "he is a good friend\n",
      "❤️\n",
      "😁\n",
      "I am upset\n",
      "❤️\n",
      "😓\n",
      "We had such a lovely dinner tonight\n",
      "❤️\n",
      "😁\n",
      "where is the food\n",
      "🍴\n",
      "🍴\n",
      "Stop making this joke ha ha ha\n",
      "😁\n",
      "😁\n",
      "where is the ball\n",
      "⚾\n",
      "⚾\n",
      "work is hard\n",
      "😓\n",
      "😁\n",
      "This girl is messing with me\n",
      "😓\n",
      "❤️\n",
      "are you serious ha ha\n",
      "😁\n",
      "😓\n",
      "Let us go play baseball\n",
      "⚾\n",
      "⚾\n",
      "This stupid grader is not working\n",
      "😓\n",
      "😓\n",
      "work is horrible\n",
      "😓\n",
      "😁\n",
      "Congratulation for having a baby\n",
      "😁\n",
      "😁\n",
      "stop messing around\n",
      "😓\n",
      "😓\n",
      "any suggestions for dinner\n",
      "🍴\n",
      "😁\n",
      "I love taking breaks\n",
      "❤️\n",
      "❤️\n",
      "you brighten my day\n",
      "😁\n",
      "❤️\n",
      "I boiled rice\n",
      "🍴\n",
      "🍴\n",
      "she is a bully\n",
      "😓\n",
      "❤️\n",
      "Why are you feeling bad\n",
      "😓\n",
      "😓\n",
      "I am upset\n",
      "😓\n",
      "😓\n",
      "I worked during my birthday\n",
      "😓\n",
      "😁\n",
      "My grandmother is the love of my life\n",
      "❤️\n",
      "❤️\n",
      "enjoy your break\n",
      "😁\n",
      "⚾\n",
      "valentine day is near\n",
      "❤️\n",
      "😁\n"
     ]
    }
   ],
   "metadata": {}
  }
 ],
 "metadata": {
  "orig_nbformat": 4,
  "language_info": {
   "name": "python",
   "version": "3.8.5",
   "mimetype": "text/x-python",
   "codemirror_mode": {
    "name": "ipython",
    "version": 3
   },
   "pygments_lexer": "ipython3",
   "nbconvert_exporter": "python",
   "file_extension": ".py"
  },
  "kernelspec": {
   "name": "python3",
   "display_name": "Python 3.8.5 64-bit ('base': conda)"
  },
  "interpreter": {
   "hash": "cd8ac7ed5329ff1f59a8356dfddf06d159cf18414acbfd7b13d1d5cd1cbb5d7d"
  }
 },
 "nbformat": 4,
 "nbformat_minor": 2
}