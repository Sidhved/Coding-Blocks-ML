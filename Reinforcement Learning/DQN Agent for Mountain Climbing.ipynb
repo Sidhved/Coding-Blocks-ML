{
 "cells": [
  {
   "cell_type": "code",
   "execution_count": null,
   "source": [
    "env = gym.make('MountainCar-v0')\r\n",
    "for e in range(20):\r\n",
    "    observation = env.reset()\r\n",
    "    for t in range(100):\r\n",
    "        env.render()\r\n",
    "        action = env.action_space.sample()\r\n",
    "        observation, reward, done, other_info = env.step(action)\r\n",
    "\r\n",
    "        if done:\r\n",
    "            print(\"Game Episode : {}/{}, Highscore:{}, Exploration Rate: {:.2}\".format(e, 20, t, 1.0))\r\n",
    "            break\r\n",
    "env.close()\r\n",
    "print(\"Game Over!\")"
   ],
   "outputs": [],
   "metadata": {}
  }
 ],
 "metadata": {
  "orig_nbformat": 4,
  "language_info": {
   "name": "python",
   "version": "3.8.5"
  },
  "kernelspec": {
   "name": "python3",
   "display_name": "Python 3.8.5 64-bit ('base': conda)"
  },
  "interpreter": {
   "hash": "cd8ac7ed5329ff1f59a8356dfddf06d159cf18414acbfd7b13d1d5cd1cbb5d7d"
  }
 },
 "nbformat": 4,
 "nbformat_minor": 2
}