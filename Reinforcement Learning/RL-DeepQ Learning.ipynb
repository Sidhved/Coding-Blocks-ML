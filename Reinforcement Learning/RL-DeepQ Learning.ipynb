{
 "cells": [
  {
   "cell_type": "code",
   "execution_count": 1,
   "source": [
    "import gym"
   ],
   "outputs": [],
   "metadata": {}
  },
  {
   "cell_type": "code",
   "execution_count": 2,
   "source": [
    "env = gym.make('CartPole-v0')"
   ],
   "outputs": [],
   "metadata": {}
  },
  {
   "cell_type": "code",
   "execution_count": 3,
   "source": [
    "env.reset()"
   ],
   "outputs": [
    {
     "output_type": "execute_result",
     "data": {
      "text/plain": [
       "array([ 0.03374776, -0.00983765, -0.04704599, -0.01068387])"
      ]
     },
     "metadata": {},
     "execution_count": 3
    }
   ],
   "metadata": {}
  },
  {
   "cell_type": "code",
   "execution_count": 4,
   "source": [
    "env.action_space"
   ],
   "outputs": [
    {
     "output_type": "execute_result",
     "data": {
      "text/plain": [
       "Discrete(2)"
      ]
     },
     "metadata": {},
     "execution_count": 4
    }
   ],
   "metadata": {}
  },
  {
   "cell_type": "code",
   "execution_count": 5,
   "source": [
    "env.action_space.n"
   ],
   "outputs": [
    {
     "output_type": "execute_result",
     "data": {
      "text/plain": [
       "2"
      ]
     },
     "metadata": {},
     "execution_count": 5
    }
   ],
   "metadata": {}
  },
  {
   "cell_type": "code",
   "execution_count": 6,
   "source": [
    "env.observation_space.shape[0]"
   ],
   "outputs": [
    {
     "output_type": "execute_result",
     "data": {
      "text/plain": [
       "4"
      ]
     },
     "metadata": {},
     "execution_count": 6
    }
   ],
   "metadata": {}
  },
  {
   "cell_type": "code",
   "execution_count": 7,
   "source": [
    "env.reset()\r\n",
    "for t in range(1000):\r\n",
    "    random_action = env.action_space.sample()\r\n",
    "    env.step(random_action)\r\n",
    "    env.render()\r\n",
    "env.close()"
   ],
   "outputs": [
    {
     "output_type": "stream",
     "name": "stderr",
     "text": [
      "C:\\Users\\DELL\\anaconda3\\lib\\site-packages\\gym\\logger.py:34: UserWarning: \u001b[33mWARN: You are calling 'step()' even though this environment has already returned done = True. You should always call 'reset()' once you receive 'done = True' -- any further steps are undefined behavior.\u001b[0m\n",
      "  warnings.warn(colorize(\"%s: %s\" % (\"WARN\", msg % args), \"yellow\"))\n"
     ]
    }
   ],
   "metadata": {}
  },
  {
   "cell_type": "code",
   "execution_count": 8,
   "source": [
    "for e in range(20):\r\n",
    "    observation = env.reset()\r\n",
    "    for t in range(50):\r\n",
    "        env.render()\r\n",
    "        action = env.action_space.sample()\r\n",
    "        observation, reward, done, other_info = env.step(action)\r\n",
    "        if done:\r\n",
    "            # Game Episode is over\r\n",
    "            print(\"Game Episode :{}/{} High Score :{}\".format(e,20,t))\r\n",
    "            break\r\n",
    "\r\n",
    "env.close()\r\n",
    "print(\"All 20 episodes over!\")"
   ],
   "outputs": [
    {
     "output_type": "stream",
     "name": "stdout",
     "text": [
      "Game Episode :0/20 High Score :8\n",
      "Game Episode :1/20 High Score :18\n",
      "Game Episode :2/20 High Score :15\n",
      "Game Episode :3/20 High Score :17\n",
      "Game Episode :4/20 High Score :30\n",
      "Game Episode :5/20 High Score :21\n",
      "Game Episode :6/20 High Score :9\n",
      "Game Episode :7/20 High Score :11\n",
      "Game Episode :8/20 High Score :17\n",
      "Game Episode :9/20 High Score :16\n",
      "Game Episode :10/20 High Score :13\n",
      "Game Episode :11/20 High Score :28\n",
      "Game Episode :12/20 High Score :31\n",
      "Game Episode :13/20 High Score :10\n",
      "Game Episode :14/20 High Score :15\n",
      "Game Episode :15/20 High Score :11\n",
      "Game Episode :17/20 High Score :10\n",
      "Game Episode :19/20 High Score :42\n",
      "All 20 episodes over!\n"
     ]
    }
   ],
   "metadata": {}
  },
  {
   "cell_type": "markdown",
   "source": [
    "Q-Learning"
   ],
   "metadata": {}
  },
  {
   "cell_type": "code",
   "execution_count": 9,
   "source": [
    "import numpy as np\r\n",
    "import matplotlib.pyplot as plt\r\n",
    "import os\r\n",
    "from collections import deque\r\n",
    "from keras.models import Sequential\r\n",
    "from keras.layers import Dense\r\n",
    "from keras.optimizers import Adam\r\n",
    "import random"
   ],
   "outputs": [],
   "metadata": {}
  },
  {
   "cell_type": "code",
   "execution_count": null,
   "source": [],
   "outputs": [],
   "metadata": {}
  }
 ],
 "metadata": {
  "orig_nbformat": 4,
  "language_info": {
   "name": "python",
   "version": "3.8.5",
   "mimetype": "text/x-python",
   "codemirror_mode": {
    "name": "ipython",
    "version": 3
   },
   "pygments_lexer": "ipython3",
   "nbconvert_exporter": "python",
   "file_extension": ".py"
  },
  "kernelspec": {
   "name": "python3",
   "display_name": "Python 3.8.5 64-bit ('base': conda)"
  },
  "interpreter": {
   "hash": "cd8ac7ed5329ff1f59a8356dfddf06d159cf18414acbfd7b13d1d5cd1cbb5d7d"
  }
 },
 "nbformat": 4,
 "nbformat_minor": 2
}