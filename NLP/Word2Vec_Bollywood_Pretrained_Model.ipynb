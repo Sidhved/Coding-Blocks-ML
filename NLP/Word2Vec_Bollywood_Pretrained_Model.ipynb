{
  "nbformat": 4,
  "nbformat_minor": 0,
  "metadata": {
    "colab": {
      "name": "Word2Vec Bollywood Pretrained Model.ipynb",
      "provenance": [],
      "mount_file_id": "1nOwhNTogL3Af803yxNeBLRZ9IuHqvueI",
      "authorship_tag": "ABX9TyOlmbWhEWrg80i/x0+ToEZk",
      "include_colab_link": true
    },
    "kernelspec": {
      "name": "python3",
      "display_name": "Python 3"
    },
    "language_info": {
      "name": "python"
    }
  },
  "cells": [
    {
      "cell_type": "markdown",
      "metadata": {
        "id": "view-in-github",
        "colab_type": "text"
      },
      "source": [
        "<a href=\"https://colab.research.google.com/github/Sidhved/Coding-Blocks-ML/blob/main/NLP/Word2Vec_Bollywood_Pretrained_Model.ipynb\" target=\"_parent\"><img src=\"https://colab.research.google.com/assets/colab-badge.svg\" alt=\"Open In Colab\"/></a>"
      ]
    },
    {
      "cell_type": "code",
      "metadata": {
        "id": "-Ubq6pcroQB2"
      },
      "source": [
        "import gensim\n",
        "from gensim.models import word2vec\n",
        "from gensim.models import KeyedVectors\n",
        "from sklearn.metrics.pairwise import  cosine_similarity"
      ],
      "execution_count": 1,
      "outputs": []
    },
    {
      "cell_type": "code",
      "metadata": {
        "id": "LlCtxmvIok9N"
      },
      "source": [
        "word_vectors = KeyedVectors.load_word2vec_format('/content/drive/MyDrive/GoogleNews-vectors-negative300.bin.gz', binary=True)"
      ],
      "execution_count": 7,
      "outputs": []
    },
    {
      "cell_type": "code",
      "metadata": {
        "id": "OIEILdmkoyw-"
      },
      "source": [
        "v_apple = word_vectors[\"apple\"]\n",
        "v_mango = word_vectors[\"india\"]"
      ],
      "execution_count": 8,
      "outputs": []
    },
    {
      "cell_type": "code",
      "metadata": {
        "colab": {
          "base_uri": "https://localhost:8080/"
        },
        "id": "1hNt-rOSuDju",
        "outputId": "761688cf-818a-4ade-878d-267b01f74e1b"
      },
      "source": [
        "print(v_apple.shape)\n",
        "print(v_mango.shape)"
      ],
      "execution_count": 9,
      "outputs": [
        {
          "output_type": "stream",
          "text": [
            "(300,)\n",
            "(300,)\n"
          ],
          "name": "stdout"
        }
      ]
    },
    {
      "cell_type": "code",
      "metadata": {
        "colab": {
          "base_uri": "https://localhost:8080/"
        },
        "id": "jaZsH38fuHqs",
        "outputId": "18f56eb0-dc2d-46c6-c8a0-cc8d2cd8d9d7"
      },
      "source": [
        "cosine_similarity([v_mango], [v_apple])"
      ],
      "execution_count": 10,
      "outputs": [
        {
          "output_type": "execute_result",
          "data": {
            "text/plain": [
              "array([[0.17158596]], dtype=float32)"
            ]
          },
          "metadata": {
            "tags": []
          },
          "execution_count": 10
        }
      ]
    },
    {
      "cell_type": "code",
      "metadata": {
        "id": "fQlPGph2uNpb"
      },
      "source": [
        "import numpy as np"
      ],
      "execution_count": 11,
      "outputs": []
    },
    {
      "cell_type": "markdown",
      "metadata": {
        "id": "p5v8K_1Sul1Q"
      },
      "source": [
        "# 1. Find the Odd One Out"
      ]
    },
    {
      "cell_type": "code",
      "metadata": {
        "id": "g_IUxDkUuRH8"
      },
      "source": [
        "def odd_one_out(words):\n",
        "    \"\"\"Accepts a list of words and returns the odd word\"\"\"\n",
        "    \n",
        "    # Generate all word embeddings for the given list\n",
        "    all_word_vectors = [word_vectors[w] for w in words]\n",
        "    avg_vector = np.mean(all_word_vectors,axis=0)\n",
        "    print(avg_vector.shape)\n",
        "    \n",
        "    #Iterate over every word and find similarity\n",
        "    odd_one_out = None\n",
        "    min_similarity = 1.0 #Very high value\n",
        "    \n",
        "    for w in words:\n",
        "        sim = cosine_similarity([word_vectors[w]],[avg_vector])\n",
        "        if sim < min_similarity:\n",
        "            min_similarity = sim\n",
        "            odd_one_out = w\n",
        "    \n",
        "        print(\"Similairy btw %s and avg vector is %.2f\"%(w,sim))\n",
        "            \n",
        "    return odd_one_out"
      ],
      "execution_count": 15,
      "outputs": []
    },
    {
      "cell_type": "code",
      "metadata": {
        "id": "NAEWSuUixMhi"
      },
      "source": [
        "input_1 = [\"apple\",\"mango\",\"juice\",\"party\",\"orange\"] \n",
        "input_2 = [\"music\",\"dance\",\"sleep\",\"dancer\",\"food\"]        \n",
        "input_3  = [\"match\",\"player\",\"football\",\"cricket\",\"dancer\"]\n",
        "input_4 = [\"india\",\"paris\",\"russia\",\"france\",\"germany\"]"
      ],
      "execution_count": 16,
      "outputs": []
    },
    {
      "cell_type": "code",
      "metadata": {
        "colab": {
          "base_uri": "https://localhost:8080/",
          "height": 132
        },
        "id": "k1Z1wNkPxP1L",
        "outputId": "79d3e37a-9064-42c5-8b98-4b84fcf17297"
      },
      "source": [
        "odd_one_out(input_1)"
      ],
      "execution_count": 17,
      "outputs": [
        {
          "output_type": "stream",
          "text": [
            "(300,)\n",
            "Similairy btw apple and avg vector is 0.78\n",
            "Similairy btw mango and avg vector is 0.76\n",
            "Similairy btw juice and avg vector is 0.71\n",
            "Similairy btw party and avg vector is 0.36\n",
            "Similairy btw orange and avg vector is 0.65\n"
          ],
          "name": "stdout"
        },
        {
          "output_type": "execute_result",
          "data": {
            "application/vnd.google.colaboratory.intrinsic+json": {
              "type": "string"
            },
            "text/plain": [
              "'party'"
            ]
          },
          "metadata": {
            "tags": []
          },
          "execution_count": 17
        }
      ]
    },
    {
      "cell_type": "code",
      "metadata": {
        "colab": {
          "base_uri": "https://localhost:8080/",
          "height": 132
        },
        "id": "Uzh6jQTmxTO_",
        "outputId": "e3b17bc8-68ee-4787-bbdf-d97c1c51d860"
      },
      "source": [
        "odd_one_out(input_2)"
      ],
      "execution_count": 18,
      "outputs": [
        {
          "output_type": "stream",
          "text": [
            "(300,)\n",
            "Similairy btw music and avg vector is 0.66\n",
            "Similairy btw dance and avg vector is 0.81\n",
            "Similairy btw sleep and avg vector is 0.51\n",
            "Similairy btw dancer and avg vector is 0.72\n",
            "Similairy btw food and avg vector is 0.52\n"
          ],
          "name": "stdout"
        },
        {
          "output_type": "execute_result",
          "data": {
            "application/vnd.google.colaboratory.intrinsic+json": {
              "type": "string"
            },
            "text/plain": [
              "'sleep'"
            ]
          },
          "metadata": {
            "tags": []
          },
          "execution_count": 18
        }
      ]
    },
    {
      "cell_type": "code",
      "metadata": {
        "colab": {
          "base_uri": "https://localhost:8080/",
          "height": 132
        },
        "id": "2-xqkEO1xnae",
        "outputId": "c3dac8b7-8e48-4dbc-c689-3973cdfb7ec9"
      },
      "source": [
        "odd_one_out(input_3)"
      ],
      "execution_count": 19,
      "outputs": [
        {
          "output_type": "stream",
          "text": [
            "(300,)\n",
            "Similairy btw match and avg vector is 0.58\n",
            "Similairy btw player and avg vector is 0.68\n",
            "Similairy btw football and avg vector is 0.72\n",
            "Similairy btw cricket and avg vector is 0.70\n",
            "Similairy btw dancer and avg vector is 0.53\n"
          ],
          "name": "stdout"
        },
        {
          "output_type": "execute_result",
          "data": {
            "application/vnd.google.colaboratory.intrinsic+json": {
              "type": "string"
            },
            "text/plain": [
              "'dancer'"
            ]
          },
          "metadata": {
            "tags": []
          },
          "execution_count": 19
        }
      ]
    },
    {
      "cell_type": "code",
      "metadata": {
        "colab": {
          "base_uri": "https://localhost:8080/",
          "height": 132
        },
        "id": "GNWcHBiwxqDx",
        "outputId": "e068a53b-1e19-49a8-aeff-a2f660c922f1"
      },
      "source": [
        "odd_one_out(input_4)"
      ],
      "execution_count": 20,
      "outputs": [
        {
          "output_type": "stream",
          "text": [
            "(300,)\n",
            "Similairy btw india and avg vector is 0.81\n",
            "Similairy btw paris and avg vector is 0.75\n",
            "Similairy btw russia and avg vector is 0.79\n",
            "Similairy btw france and avg vector is 0.81\n",
            "Similairy btw germany and avg vector is 0.84\n"
          ],
          "name": "stdout"
        },
        {
          "output_type": "execute_result",
          "data": {
            "application/vnd.google.colaboratory.intrinsic+json": {
              "type": "string"
            },
            "text/plain": [
              "'paris'"
            ]
          },
          "metadata": {
            "tags": []
          },
          "execution_count": 20
        }
      ]
    },
    {
      "cell_type": "markdown",
      "metadata": {
        "id": "Opt2TDsuyfkO"
      },
      "source": [
        "# 2. Word Analogies Task"
      ]
    },
    {
      "cell_type": "code",
      "metadata": {
        "colab": {
          "base_uri": "https://localhost:8080/"
        },
        "id": "sqNP3W6CxrlG",
        "outputId": "fce4d000-76dc-429b-b1fd-301cc3b11b02"
      },
      "source": [
        "type(word_vectors.vocab)"
      ],
      "execution_count": 21,
      "outputs": [
        {
          "output_type": "execute_result",
          "data": {
            "text/plain": [
              "dict"
            ]
          },
          "metadata": {
            "tags": []
          },
          "execution_count": 21
        }
      ]
    },
    {
      "cell_type": "code",
      "metadata": {
        "colab": {
          "base_uri": "https://localhost:8080/"
        },
        "id": "Zec-OPwvylyu",
        "outputId": "c29b90dc-4b04-4774-84c6-79dcf3ac185b"
      },
      "source": [
        "word_vectors['man'].shape"
      ],
      "execution_count": 22,
      "outputs": [
        {
          "output_type": "execute_result",
          "data": {
            "text/plain": [
              "(300,)"
            ]
          },
          "metadata": {
            "tags": []
          },
          "execution_count": 22
        }
      ]
    },
    {
      "cell_type": "code",
      "metadata": {
        "id": "xwVfluV8ypE0"
      },
      "source": [
        "def predict_word(a,b,c,word_vectors):\n",
        "    \"\"\"Accepts a triad of words, a,b,c and returns d such that a is to b : c is to d\"\"\"\n",
        "    a,b,c = a.lower(),b.lower(),c.lower()\n",
        "    \n",
        "    # similarity |b-a| = |d-c| should be max\n",
        "    max_similarity = -100 \n",
        "    \n",
        "    d = None\n",
        "    \n",
        "    words = word_vectors.vocab.keys()\n",
        "    \n",
        "    wa,wb,wc = word_vectors[a],word_vectors[b],word_vectors[c]\n",
        "    \n",
        "    #to find d s.t similarity(|b-a|,|d-c|) should be max\n",
        "    \n",
        "    for w in words:\n",
        "        if w in [a,b,c]:\n",
        "            continue\n",
        "        \n",
        "        wv = word_vectors[w]\n",
        "        sim = cosine_similarity([wb-wa],[wv-wc])\n",
        "        \n",
        "        if sim > max_similarity:\n",
        "            max_similarity = sim\n",
        "            d = w\n",
        "            \n",
        "    return d"
      ],
      "execution_count": 25,
      "outputs": []
    },
    {
      "cell_type": "code",
      "metadata": {
        "colab": {
          "base_uri": "https://localhost:8080/"
        },
        "id": "D-3xAdAw2F4Q",
        "outputId": "62cd1154-4205-488b-f5b7-c28533494442"
      },
      "source": [
        "word_vectors.most_similar(positive=['woman', 'king'], negative=['man'], topn=1)"
      ],
      "execution_count": 27,
      "outputs": [
        {
          "output_type": "execute_result",
          "data": {
            "text/plain": [
              "[('queen', 0.7118192911148071)]"
            ]
          },
          "metadata": {
            "tags": []
          },
          "execution_count": 27
        }
      ]
    },
    {
      "cell_type": "markdown",
      "metadata": {
        "id": "gxJ08kwF613a"
      },
      "source": [
        "# 3. Training Your Own Word2Vec Model"
      ]
    },
    {
      "cell_type": "code",
      "metadata": {
        "id": "hJhmY5yi4rEc"
      },
      "source": [
        "import nltk\n",
        "from nltk.corpus import stopwords"
      ],
      "execution_count": 28,
      "outputs": []
    },
    {
      "cell_type": "code",
      "metadata": {
        "colab": {
          "base_uri": "https://localhost:8080/"
        },
        "id": "Bvd5hMCD75Z-",
        "outputId": "9f1bfe2b-53cd-4b6e-c7e6-ae75eb281ff4"
      },
      "source": [
        "nltk.download('stopwords')"
      ],
      "execution_count": 30,
      "outputs": [
        {
          "output_type": "stream",
          "text": [
            "[nltk_data] Downloading package stopwords to /root/nltk_data...\n",
            "[nltk_data]   Unzipping corpora/stopwords.zip.\n"
          ],
          "name": "stdout"
        },
        {
          "output_type": "execute_result",
          "data": {
            "text/plain": [
              "True"
            ]
          },
          "metadata": {
            "tags": []
          },
          "execution_count": 30
        }
      ]
    },
    {
      "cell_type": "code",
      "metadata": {
        "id": "ReOJXoDN7xMm"
      },
      "source": [
        "stopw = set(stopwords.words('english'))"
      ],
      "execution_count": 31,
      "outputs": []
    },
    {
      "cell_type": "code",
      "metadata": {
        "colab": {
          "base_uri": "https://localhost:8080/"
        },
        "id": "ZCwcZsfe-Zit",
        "outputId": "e8deca96-0297-4663-ebe1-0e3875ed5ebe"
      },
      "source": [
        "nltk.download('punkt')"
      ],
      "execution_count": 33,
      "outputs": [
        {
          "output_type": "stream",
          "text": [
            "[nltk_data] Downloading package punkt to /root/nltk_data...\n",
            "[nltk_data]   Unzipping tokenizers/punkt.zip.\n"
          ],
          "name": "stdout"
        },
        {
          "output_type": "execute_result",
          "data": {
            "text/plain": [
              "True"
            ]
          },
          "metadata": {
            "tags": []
          },
          "execution_count": 33
        }
      ]
    },
    {
      "cell_type": "code",
      "metadata": {
        "id": "IdTY35N672T8"
      },
      "source": [
        "# Read the file\n",
        "def readFile(file):\n",
        "  f = open(file, 'r', encoding='utf-8')\n",
        "  text = f.read()\n",
        "  sentences = nltk.sent_tokenize(text)\n",
        "\n",
        "  data = []\n",
        "  for sent in sentences:\n",
        "    words = nltk.word_tokenize(sent)\n",
        "    words = [w.lower() for w in words if len(w) > 2 and w not in stopw]\n",
        "    data.append(words)\n",
        "\n",
        "  return data\n",
        "\n",
        "text = readFile('/content/drive/MyDrive/dataSets/bollywood.txt')"
      ],
      "execution_count": 34,
      "outputs": []
    },
    {
      "cell_type": "code",
      "metadata": {
        "colab": {
          "base_uri": "https://localhost:8080/"
        },
        "id": "cUPQL_Zr-Vk_",
        "outputId": "e2380ab4-d616-4b5e-c8ef-639e90c71554"
      },
      "source": [
        "print(text)"
      ],
      "execution_count": 35,
      "outputs": [
        {
          "output_type": "stream",
          "text": [
            "[['deepika', 'padukone', 'ranveer', 'singh', 'wedding', 'one', 'biggest', 'bollywood', 'events', 'happened', '2018'], ['the', 'deepika', 'ranveer', 'celebrations', 'hooked', 'phones', 'waiting', 'come', 'also', 'gave', 'enough', 'reason', 'believe', 'stylish', 'two', 'couple'], ['from', 'airport', 'looks', 'reception', 'parties', 'everything', 'entire', 'timeline', 'deepika', 'ranveer', 'wedding', 'style', 'file'], ['not', 'ambanis', 'deepika', 'ranveer', 'priyanka', 'nick'], ['man', 'proves', 'wedding', 'the', 'year', 'this', 'year', 'year', 'big', 'fat', 'lavish', 'extravagant', 'weddings'], ['from', 'isha', 'ambani', 'anand', 'piramal', 'deepika', 'padukone', 'ranveer', 'singh', 'priyanka', 'chopra', 'nick', 'jonas', 'kapil', 'sharma', 'ginni', 'chatrath', '2018', 'saw', 'many', 'grand', 'weddings'], ['but', 'nothing', 'beats', 'man', 'wedding', 'the', 'year', 'award', 'social', 'media'], ['priyanka', 'also', 'shared', 'video', 'featuring', 'nick', 'jonaswas', 'also', 'celebrating', 'the', 'family', 'first', 'celebrated', 'christmas', 'london', 'pictures', 'priyanka', 'chopra', 'nick', 'jonas', 'new', 'year', 'celebrations', 'outstanding'], ['priyanka', 'chopra', 'nick', 'shared', 'glimpses', 'celebration', 'verbier', 'switzerland'], ['priyanka', 'chopra', 'married', 'nick', 'jonas', 'december', 'three', 'wedding', 'receptions', 'one', 'new', 'delhi', 'two', 'mumbai'], ['this', 'year', 'year', 'big', 'fat', 'lavish', 'extravagant', 'weddings'], ['from', 'isha', 'ambani', 'anand', 'piramal', 'deepika', 'padukone', 'ranveer', 'singh', 'priyanka', 'chopra', 'nick', 'jonas', 'kapil', 'sharma', 'ginni', 'chatrath', '2018', 'saw', 'many', 'grand', 'weddings'], ['but', 'nothing', 'beats', 'man', 'wedding', 'the', 'year', 'award', 'social', 'media'], ['kapil', 'sharma', 'ginni', 'chatrath', 'jaggo', 'night', 'december', 'made', 'even', 'special', 'industry', 'friends'], ['kapil', 'sharma', 'ginni', 'chatrath', 'friends', 'long', 'time'], ['there', 'virat', 'side', 'actress', 'wife', 'anushka', 'sharma', 'pleasure', 'audience'], ['while', 'couple', 'rang', 'new', 'year', 'style', 'morning', 'saw', 'virat', 'dress', 'squad', 'attire', 'anushka', 'pink', 'salwar', 'suit'], ['isha', 'ambani', 'married', 'anand', 'piramal', 'year']]\n"
          ],
          "name": "stdout"
        }
      ]
    },
    {
      "cell_type": "code",
      "metadata": {
        "id": "CZy2boxk-fj5"
      },
      "source": [
        "from gensim.models import Word2Vec"
      ],
      "execution_count": 36,
      "outputs": []
    },
    {
      "cell_type": "code",
      "metadata": {
        "id": "4oLIR99Q-ln0"
      },
      "source": [
        "model = Word2Vec(text, size=300, window=10, min_count=1)"
      ],
      "execution_count": 37,
      "outputs": []
    },
    {
      "cell_type": "code",
      "metadata": {
        "colab": {
          "base_uri": "https://localhost:8080/"
        },
        "id": "0nzdsye8-su4",
        "outputId": "7ced06bc-a0a7-4b01-de40-bbe8b98875c6"
      },
      "source": [
        "print(model)"
      ],
      "execution_count": 38,
      "outputs": [
        {
          "output_type": "stream",
          "text": [
            "Word2Vec(vocab=116, size=300, alpha=0.025)\n"
          ],
          "name": "stdout"
        }
      ]
    },
    {
      "cell_type": "code",
      "metadata": {
        "colab": {
          "base_uri": "https://localhost:8080/"
        },
        "id": "xKUky-rS-uXO",
        "outputId": "24d757af-ccb3-444b-eb3e-35f00a65dbbe"
      },
      "source": [
        "words = text[0]\n",
        "print(words)"
      ],
      "execution_count": 40,
      "outputs": [
        {
          "output_type": "stream",
          "text": [
            "['deepika', 'padukone', 'ranveer', 'singh', 'wedding', 'one', 'biggest', 'bollywood', 'events', 'happened', '2018']\n"
          ],
          "name": "stdout"
        }
      ]
    },
    {
      "cell_type": "code",
      "metadata": {
        "id": "9MiT1_oX-vTp"
      },
      "source": [
        "word_vectors_kv = KeyedVectors.load_word2vec_format('/content/drive/MyDrive/dataSets/bollywood.bin', binary=False)"
      ],
      "execution_count": 41,
      "outputs": []
    },
    {
      "cell_type": "code",
      "metadata": {
        "colab": {
          "base_uri": "https://localhost:8080/"
        },
        "id": "fs-NWxyO_ymW",
        "outputId": "2665f163-bacd-48a3-9cea-2b92234fb041"
      },
      "source": [
        "word_vectors = word_vectors_kv.wv"
      ],
      "execution_count": 42,
      "outputs": [
        {
          "output_type": "stream",
          "text": [
            "/usr/local/lib/python3.7/dist-packages/ipykernel_launcher.py:1: DeprecationWarning: Call to deprecated `wv` (Attribute will be removed in 4.0.0, use self instead).\n",
            "  \"\"\"Entry point for launching an IPython kernel.\n"
          ],
          "name": "stderr"
        }
      ]
    },
    {
      "cell_type": "code",
      "metadata": {
        "colab": {
          "base_uri": "https://localhost:8080/"
        },
        "id": "LN-nYzpe_4P0",
        "outputId": "b27f5915-6fe6-49fe-f053-edfe0ed4fd26"
      },
      "source": [
        "import numpy as np\n",
        "\n",
        "all_vectors = [word_vectors[w] for w in word_vectors_kv.vocab.keys()]\n",
        "all_vectors = np.array(all_vectors)\n",
        "print(all_vectors.shape)"
      ],
      "execution_count": 43,
      "outputs": [
        {
          "output_type": "stream",
          "text": [
            "(116, 300)\n"
          ],
          "name": "stdout"
        }
      ]
    },
    {
      "cell_type": "code",
      "metadata": {
        "colab": {
          "base_uri": "https://localhost:8080/"
        },
        "id": "tNJLzc2kAPvE",
        "outputId": "fe9d4e19-365c-4454-9f18-888b50cd9284"
      },
      "source": [
        "from sklearn.manifold import TSNE\n",
        "#tsne = TSNE(n_components=2, verbose=1, perplexity=40, n_iter=300,random_state=1)\n",
        "#tsne = TSNE(n_components=2, verbose=1, perplexity=40, n_iter=300,random_state=1)\n",
        "tsne = TSNE(n_components=2, verbose=1,n_iter=1000,random_state=1)\n",
        "\n",
        "tsne_results = tsne.fit_transform(all_vectors)"
      ],
      "execution_count": 44,
      "outputs": [
        {
          "output_type": "stream",
          "text": [
            "[t-SNE] Computing 91 nearest neighbors...\n",
            "[t-SNE] Indexed 116 samples in 0.000s...\n",
            "[t-SNE] Computed neighbors for 116 samples in 0.027s...\n",
            "[t-SNE] Computed conditional probabilities for sample 116 / 116\n",
            "[t-SNE] Mean sigma: 0.004361\n",
            "[t-SNE] KL divergence after 250 iterations with early exaggeration: 62.578789\n",
            "[t-SNE] KL divergence after 1000 iterations: 0.961012\n"
          ],
          "name": "stdout"
        }
      ]
    },
    {
      "cell_type": "code",
      "metadata": {
        "colab": {
          "base_uri": "https://localhost:8080/"
        },
        "id": "MgXZ-I7jASxW",
        "outputId": "a4d261e3-a187-430d-b2ce-bf3ea8439664"
      },
      "source": [
        "print(tsne_results)"
      ],
      "execution_count": 45,
      "outputs": [
        {
          "output_type": "stream",
          "text": [
            "[[-3.7076812  -3.1109872 ]\n",
            " [-1.7334353  -1.3846402 ]\n",
            " [-0.2283747  -2.7330377 ]\n",
            " [-3.7206545  -3.2165332 ]\n",
            " [-0.71867    -2.6774955 ]\n",
            " [-2.2745435   0.09498385]\n",
            " [-0.6376146  -3.1213298 ]\n",
            " [-1.3378631  -2.4220757 ]\n",
            " [-0.7476739  -1.3929741 ]\n",
            " [ 1.0743871  -2.828584  ]\n",
            " [-1.0417337  -0.96240556]\n",
            " [-3.123636   -4.5034785 ]\n",
            " [-0.43110397 -2.1046443 ]\n",
            " [-2.2572463  -0.01684588]\n",
            " [-4.646843   -2.4522197 ]\n",
            " [-3.1035254  -2.836888  ]\n",
            " [-2.361431    0.05654682]\n",
            " [-0.6671558  -1.4406176 ]\n",
            " [-2.5106711  -1.8268818 ]\n",
            " [-3.2586126  -1.9660599 ]\n",
            " [-0.5682901  -0.50703144]\n",
            " [-1.0662872  -2.0394557 ]\n",
            " [-2.8170846  -0.88410705]\n",
            " [ 0.44454658 -2.4741757 ]\n",
            " [ 0.39256263 -0.531091  ]\n",
            " [-0.25185144 -0.26754236]\n",
            " [ 0.27070874 -3.133911  ]\n",
            " [-2.94657    -2.0242348 ]\n",
            " [ 1.4732276  -1.6867741 ]\n",
            " [ 0.25811976 -1.5765493 ]\n",
            " [-0.2899996  -2.4508693 ]\n",
            " [-0.97840226 -4.007424  ]\n",
            " [ 0.5479221  -4.221347  ]\n",
            " [-1.8448803  -0.24352364]\n",
            " [-2.2992108  -4.232943  ]\n",
            " [-1.4570032  -3.855026  ]\n",
            " [-1.0583291  -5.2270937 ]\n",
            " [-2.435417   -1.9588594 ]\n",
            " [-0.58118105 -3.9969628 ]\n",
            " [ 0.18305606 -4.9468255 ]\n",
            " [-1.9565212  -1.280241  ]\n",
            " [-1.181053   -2.58173   ]\n",
            " [-1.2304476  -3.886582  ]\n",
            " [-0.7870214  -2.1138904 ]\n",
            " [-1.3078583   1.0063571 ]\n",
            " [-0.09374122 -1.6758457 ]\n",
            " [-0.35502052 -2.391304  ]\n",
            " [-2.8265061  -3.0768716 ]\n",
            " [-2.1830077  -5.702466  ]\n",
            " [-0.38178262 -3.947163  ]\n",
            " [ 0.7355885  -4.18843   ]\n",
            " [ 1.0829585  -0.8619902 ]\n",
            " [-1.5351205  -3.0452607 ]\n",
            " [-0.72103876 -3.2599797 ]\n",
            " [-3.0840502  -3.8685684 ]\n",
            " [ 0.76975316 -0.8313355 ]\n",
            " [ 1.9038495  -2.9044218 ]\n",
            " [-2.2737157  -4.1202073 ]\n",
            " [-2.1154618  -2.6458035 ]\n",
            " [-1.9243338  -4.8059916 ]\n",
            " [-2.6532514  -2.4863396 ]\n",
            " [-2.0009742  -3.2036343 ]\n",
            " [ 1.4897466  -3.5100873 ]\n",
            " [-0.07307594 -2.6225784 ]\n",
            " [-3.1401043  -1.4057555 ]\n",
            " [-0.20451443 -3.2947369 ]\n",
            " [-1.0627736  -0.8410399 ]\n",
            " [-2.3706706  -1.3863158 ]\n",
            " [-1.4469441  -4.6045356 ]\n",
            " [-3.0238512  -5.047698  ]\n",
            " [-0.5219608   0.28776318]\n",
            " [ 1.3724585  -4.0883837 ]\n",
            " [-1.8931974  -4.166475  ]\n",
            " [-3.1424878  -0.47259018]\n",
            " [-0.7757108  -1.6923455 ]\n",
            " [-3.2720907  -2.0175416 ]\n",
            " [ 1.2169986  -2.715845  ]\n",
            " [ 0.45679417 -0.52826643]\n",
            " [-0.89763474 -3.2660313 ]\n",
            " [-3.6126812  -4.1587033 ]\n",
            " [-0.5696477  -3.503762  ]\n",
            " [-2.3836384  -2.7670064 ]\n",
            " [-1.4537035   0.78968626]\n",
            " [-4.5491853  -3.584756  ]\n",
            " [-1.5813571  -2.6215994 ]\n",
            " [-4.12054    -1.8708253 ]\n",
            " [-2.4615512  -3.0027943 ]\n",
            " [-0.5329732  -1.3231708 ]\n",
            " [ 0.13689254 -4.163606  ]\n",
            " [-1.7191647  -1.3339769 ]\n",
            " [-3.9490938  -3.3563602 ]\n",
            " [-2.1040297  -4.070375  ]\n",
            " [-3.890291   -3.815269  ]\n",
            " [-1.3060241  -3.0788925 ]\n",
            " [-1.5412772  -1.953032  ]\n",
            " [-3.782984   -0.9317221 ]\n",
            " [-2.4919753  -3.5761945 ]\n",
            " [ 1.5062842  -2.131872  ]\n",
            " [-0.9803716  -0.39736718]\n",
            " [ 0.50052655 -2.1862452 ]\n",
            " [-1.5935004  -4.675884  ]\n",
            " [-3.936511   -2.22246   ]\n",
            " [-0.5967921  -2.2930949 ]\n",
            " [-1.7479947  -0.41633815]\n",
            " [-0.86670667 -4.846647  ]\n",
            " [-1.6895162  -0.2538427 ]\n",
            " [ 0.56383157 -1.5742872 ]\n",
            " [-0.526485   -4.5412555 ]\n",
            " [-1.5794228  -3.3480146 ]\n",
            " [ 1.2464305  -2.7781014 ]\n",
            " [ 0.53969395 -3.3620198 ]\n",
            " [-2.0489614  -1.8149328 ]\n",
            " [-1.7762192  -2.330465  ]\n",
            " [ 0.3783177  -5.258295  ]\n",
            " [-2.9461207  -2.4605517 ]\n",
            " [-2.9909678  -4.319285  ]]\n"
          ],
          "name": "stdout"
        }
      ]
    },
    {
      "cell_type": "code",
      "metadata": {
        "colab": {
          "base_uri": "https://localhost:8080/",
          "height": 620
        },
        "id": "QrkivqiiAVvi",
        "outputId": "7cff7af1-d434-4f65-d61a-9f5ddf69650a"
      },
      "source": [
        "import matplotlib.pyplot as plt\n",
        "\n",
        "data = tsne_results\n",
        "\n",
        "plt.figure(figsize=(10, 10))\n",
        "plt.style.use('seaborn')\n",
        "plt.scatter(data[:, 0], data[:, 1], marker = '^')\n",
        "\n",
        "keys = model.wv.vocab.keys()\n",
        "for label, x, y in zip(keys, data[:, 0], data[:, 1]):\n",
        "  plt.annotate(label, xy=(x, y), xytext=(0, 0), textcoords='offset points')\n",
        "\n",
        "plt.xlabel(\"Principal Component-1\")\n",
        "plt.ylabel(\"Principal Component-2\")\n",
        "plt.title(\"TSNE Colors Plot\")\n",
        "plt.show()"
      ],
      "execution_count": 48,
      "outputs": [
        {
          "output_type": "display_data",
          "data": {
            "image/png": "[encoded data removed]",
            "text/plain": [
              "<Figure size 720x720 with 1 Axes>"
            ]
          },
          "metadata": {
            "tags": [],
            "needs_background": "light"
          }
        }
      ]
    },
    {
      "cell_type": "code",
      "metadata": {
        "id": "6FKiUfJYBBny"
      },
      "source": [
        "actors = [\"ranveer\",\"deepika\",\"padukone\",\"singh\",\"nick\",\"jonas\",\"chopra\",\"priyanka\",\"virat\",\"anushka\",\"ginni\"]\n",
        "\n",
        "\n",
        "def predict_actor(a,b,c,word_vectors):\n",
        "    \"\"\"Accepts a triad of words, a,b,c and returns d such that a is to b : c is to d\"\"\"\n",
        "    a,b,c = a.lower(),b.lower(),c.lower()\n",
        "    max_similarity = -100 \n",
        "    \n",
        "    d = None\n",
        "    words = actors\n",
        "    \n",
        "    wa,wb,wc = word_vectors[a],word_vectors[b],word_vectors[c]\n",
        "    \n",
        "    #to find d s.t similarity(|b-a|,|d-c|) should be max\n",
        "    \n",
        "    for w in words:\n",
        "        if w in [a,b,c]:\n",
        "            continue\n",
        "        \n",
        "        wv = word_vectors[w]\n",
        "        sim = cosine_similarity([wb-wa],[wv-wc])\n",
        "        \n",
        "        if sim > max_similarity:\n",
        "            max_similarity = sim\n",
        "            d = w\n",
        "    return d"
      ],
      "execution_count": 49,
      "outputs": []
    },
    {
      "cell_type": "markdown",
      "metadata": {
        "id": "UqqoyyJlBTvO"
      },
      "source": [
        "# Test your Model"
      ]
    },
    {
      "cell_type": "code",
      "metadata": {
        "colab": {
          "base_uri": "https://localhost:8080/",
          "height": 35
        },
        "id": "swt8Q0EGBTI9",
        "outputId": "eb5fc5c7-3423-423f-bdd6-33cab6572845"
      },
      "source": [
        "triad = (\"nick\",\"priyanka\",\"virat\")\n",
        "predict_actor(*triad,word_vectors)"
      ],
      "execution_count": 50,
      "outputs": [
        {
          "output_type": "execute_result",
          "data": {
            "application/vnd.google.colaboratory.intrinsic+json": {
              "type": "string"
            },
            "text/plain": [
              "'anushka'"
            ]
          },
          "metadata": {
            "tags": []
          },
          "execution_count": 50
        }
      ]
    },
    {
      "cell_type": "code",
      "metadata": {
        "colab": {
          "base_uri": "https://localhost:8080/",
          "height": 35
        },
        "id": "mvoqQ91WBSUA",
        "outputId": "0b768c72-3756-4f9d-e9a6-2a2c41163bfa"
      },
      "source": [
        "triad = (\"ranveer\",\"deepika\",\"priyanka\")\n",
        "predict_actor(*triad,word_vectors)"
      ],
      "execution_count": 51,
      "outputs": [
        {
          "output_type": "execute_result",
          "data": {
            "application/vnd.google.colaboratory.intrinsic+json": {
              "type": "string"
            },
            "text/plain": [
              "'nick'"
            ]
          },
          "metadata": {
            "tags": []
          },
          "execution_count": 51
        }
      ]
    },
    {
      "cell_type": "code",
      "metadata": {
        "colab": {
          "base_uri": "https://localhost:8080/",
          "height": 35
        },
        "id": "i4HbdEqGBa8g",
        "outputId": "28bb36a6-092c-4db8-cc22-3818e98ca8ba"
      },
      "source": [
        "triad = (\"ranveer\",\"singh\",\"deepika\")\n",
        "predict_actor(*triad,word_vectors)"
      ],
      "execution_count": 52,
      "outputs": [
        {
          "output_type": "execute_result",
          "data": {
            "application/vnd.google.colaboratory.intrinsic+json": {
              "type": "string"
            },
            "text/plain": [
              "'padukone'"
            ]
          },
          "metadata": {
            "tags": []
          },
          "execution_count": 52
        }
      ]
    },
    {
      "cell_type": "code",
      "metadata": {
        "colab": {
          "base_uri": "https://localhost:8080/",
          "height": 35
        },
        "id": "T0FAD0EVBiHi",
        "outputId": "935aaf3b-515e-4055-8297-b28756bae9ab"
      },
      "source": [
        "triad = (\"deepika\",\"padukone\",\"priyanka\")\n",
        "predict_actor(*triad,word_vectors)"
      ],
      "execution_count": 53,
      "outputs": [
        {
          "output_type": "execute_result",
          "data": {
            "application/vnd.google.colaboratory.intrinsic+json": {
              "type": "string"
            },
            "text/plain": [
              "'chopra'"
            ]
          },
          "metadata": {
            "tags": []
          },
          "execution_count": 53
        }
      ]
    },
    {
      "cell_type": "code",
      "metadata": {
        "colab": {
          "base_uri": "https://localhost:8080/",
          "height": 35
        },
        "id": "dYQLSaeSBljT",
        "outputId": "f2b25936-c0f3-45d7-f5ef-fc228bdc6d13"
      },
      "source": [
        "triad = (\"priyanka\",\"jonas\",\"nick\")\n",
        "predict_actor(*triad,word_vectors)"
      ],
      "execution_count": 54,
      "outputs": [
        {
          "output_type": "execute_result",
          "data": {
            "application/vnd.google.colaboratory.intrinsic+json": {
              "type": "string"
            },
            "text/plain": [
              "'chopra'"
            ]
          },
          "metadata": {
            "tags": []
          },
          "execution_count": 54
        }
      ]
    },
    {
      "cell_type": "code",
      "metadata": {
        "id": "W-JW0NXNBoSJ"
      },
      "source": [
        "model.wv.save_word2vec_format(\"bollywood.bin\")"
      ],
      "execution_count": 55,
      "outputs": []
    }
  ]
}