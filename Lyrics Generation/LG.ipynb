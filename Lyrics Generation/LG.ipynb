{
 "cells": [
  {
   "cell_type": "code",
   "execution_count": 1,
   "source": [
    "text_path = \"Apna Time Aayega.txt\"\r\n",
    "def load_text(file_name):\r\n",
    "    with open(file_name, encoding='utf8') as f:\r\n",
    "        return f.read().lower()\r\n",
    "\r\n",
    "text = load_text(text_path)"
   ],
   "outputs": [],
   "metadata": {}
  },
  {
   "cell_type": "code",
   "execution_count": 2,
   "source": [
    "text"
   ],
   "outputs": [
    {
     "output_type": "execute_result",
     "data": {
      "text/plain": [
       "'apna time aayega\\nuth ja apni raakh se\\ntu udd ja ab talaash mein\\nparwaaz dekh parwane ki\\naasman bhi sar uthayega\\naayega apna time aayega\\nmere jaisa shaana lala\\ntujhe na mil payega\\n \\nyeh shabdon ka jwala\\nmeri bediyan pighlayega\\njitna toone boya hai tu\\nutna hi to khaayega\\naisa mera khwaab hai\\njo darr ko bhi satayega\\nzinda mera khwaab\\nab kaise tu dafnayega\\n \\nab hausle se jeene de\\nab khauf nahi hai seene mein\\nhar raaste ko cheerenge\\nhum kaamyabi chheenenge\\nsab kuchh mila paseene se\\nmatlab bana ab jeene mein\\n \\nkyon\\nkyon ki apna time aayega\\n \\ntu nanga hi to aaya hai\\nkya ghanta lekar jaayega\\napna time aayega\\napna time aayega\\napna time aayega x (2)\\n \\ntu nanga hi to aaya hai\\nkya ghanta lekar..\\n \\nkissi ka hath nahi tha sar par\\nyahaan par aaya khud ki mehnat se main\\njitni taakat kismat mein nahi\\nutni rehmat mein hai\\nphir bhi ladka sehmat nahin hai\\nkyon ki hairat nahi hai\\nzaroorat yahaan marzi ki\\naur jurrat ki hai\\n \\ntaakat ki hai, aafat ki\\nhimaakat ki, ibaadat ki\\nadalat yeh hai chahat ki\\nmohobbat ki, amaanat ki\\njeetne ki ab aadat ki hai\\nshohrat ki ab laalach nai hai\\ntere bhai jaisa koyi hard’ch nai hai\\n \\niss harkat ne hi barkat di hai\\nkyon?\\n \\ntu nanga hi to aaya hai\\nkya ghanta lekar jaayega\\napna time aayega\\napna time aayega\\napna time aayega\\n \\ntu nanga hi to aaya hai\\nkya ghanta lekar jaayega\\nkya tu ghanta lekar jaayega\\napna time aayega\\napna time aayega'"
      ]
     },
     "metadata": {},
     "execution_count": 2
    }
   ],
   "metadata": {}
  },
  {
   "cell_type": "code",
   "execution_count": 3,
   "source": [
    "def generateTable(data, k=4):\r\n",
    "    T = {}\r\n",
    "\r\n",
    "    for i in range(len(data) - k):\r\n",
    "        X = data[i:i+k]\r\n",
    "        Y = data[i+k]\r\n",
    "\r\n",
    "        if T.get(X) is None:\r\n",
    "            T[X] = {}\r\n",
    "            T[X][Y] = 1\r\n",
    "        else:\r\n",
    "            if T[X].get(Y) is None:\r\n",
    "                T[X][Y] = 1\r\n",
    "            else:\r\n",
    "                T[X][Y] += 1\r\n",
    "    return T "
   ],
   "outputs": [],
   "metadata": {}
  },
  {
   "cell_type": "code",
   "execution_count": 4,
   "source": [
    "def convertFreqIntoProb(T):\r\n",
    "    for kx in T.keys():\r\n",
    "        s = float(sum(T[kx].values()))\r\n",
    "        for k in T[kx].keys():\r\n",
    "            T[kx][k] = T[kx][k]/s\r\n",
    "    return T"
   ],
   "outputs": [],
   "metadata": {}
  },
  {
   "cell_type": "code",
   "execution_count": 5,
   "source": [
    "def trainMarkovChain(text, k=4):\r\n",
    "    T = generateTable(text, k)\r\n",
    "    T = convertFreqIntoProb(T)\r\n",
    "    return T"
   ],
   "outputs": [],
   "metadata": {}
  },
  {
   "cell_type": "code",
   "execution_count": 6,
   "source": [
    "import numpy as np"
   ],
   "outputs": [],
   "metadata": {}
  },
  {
   "cell_type": "code",
   "execution_count": 7,
   "source": [
    "model = trainMarkovChain(text)"
   ],
   "outputs": [],
   "metadata": {}
  },
  {
   "cell_type": "code",
   "execution_count": 8,
   "source": [
    "def sample_next(ctx, T, k):\r\n",
    "    ctx = ctx[-k:]\r\n",
    "    if T.get(ctx) is None:\r\n",
    "        return \" \"\r\n",
    "    possible_Chars = list(T[ctx].keys())\r\n",
    "    possible_values = list(T[ctx].values())\r\n",
    "\r\n",
    "    return np.random.choice(possible_Chars, p=possible_values)"
   ],
   "outputs": [],
   "metadata": {}
  },
  {
   "cell_type": "code",
   "execution_count": 9,
   "source": [
    "def generateText(starting_sent, k = 4, maxLen = 1000):\r\n",
    "    sentence = starting_sent\r\n",
    "    ctx = starting_sent[-k:]\r\n",
    "\r\n",
    "    for ix in range(maxLen):\r\n",
    "        next_prediction = sample_next(ctx, model, k)\r\n",
    "        sentence += next_prediction\r\n",
    "        ctx = sentence[-k:]\r\n",
    "    return sentence"
   ],
   "outputs": [],
   "metadata": {}
  },
  {
   "cell_type": "code",
   "execution_count": 10,
   "source": [
    "np.random.seed(11)\r\n",
    "text = generateText('apna', k = 4, maxLen=2000)\r\n",
    "\r\n",
    "print(text)"
   ],
   "outputs": [
    {
     "output_type": "stream",
     "name": "stdout",
     "text": [
      "apna time aaya hath nahi\n",
      "utna hi to aaya hai seene se\n",
      "matlab bana lala\n",
      "mere bhai tu\n",
      "utna time aaya hai\n",
      "phir bhi satayega\n",
      "zinda mera khud ki hai, amaana lala\n",
      "tujhe na mila paseene se jeenenge\n",
      "sab kuchh mil payega\n",
      "jitni rehmat mein\n",
      "har raakh se\n",
      "tu nanga hi to khauf nahin hai jaisa koyi hai seene mein nahi hai\n",
      "kyon ki ab laalach nai hai\n",
      "kya ghanta lekar jaayega\n",
      "kya tu dafnayega\n",
      "apna time aayega\n",
      "kya tu ghanta lekar..\n",
      " \n",
      "kyon\n",
      "kyon ka hai\n",
      "kya ghanta lekar jaayega\n",
      "apna time aayega\n",
      "zinda mera khwaab hai chheene mein\n",
      " \n",
      "kyon ki hai jaisa shaan pighlayega\n",
      "jitni taakat ne hi barkat ki mehnat ki, amaana ab talaash mein\n",
      "parwane ki hai\n",
      "jo darr ko bhi ladka sehmat mein nahi\n",
      "utna hi to khaayega\n",
      " \n",
      "yeh shabdon ka hai\n",
      "zaroorat ki\n",
      "himaakat di hairat ki, ibaadat ki hai\n",
      "kya ghanta lekar jaayega\n",
      "apna time aayega\n",
      " \n",
      "tu nanga hi barkat ki\n",
      "adalat yahaan par\n",
      "yahaan marzi ki\n",
      "jeetne ki\n",
      "jeetne ki mehnat se main\n",
      "jitna hi to aayega\n",
      " \n",
      "ab hai\n",
      "kya tu dafnayega\n",
      "mere jaisa mera khud ki hai\n",
      "kya ghanta lekar jaayega\n",
      "kya tu ghanta lekar..\n",
      " \n",
      "kissi ka hai\n",
      "kya ghanta lekar..\n",
      " \n",
      "kissi ka jwala\n",
      "meri bediyan parwaaz dekh par aaya hai\n",
      "kya ghanta lekar jaayega\n",
      "aayega\n",
      "apna time aayega\n",
      "aayega\n",
      "apna time aaya hath nai hai\n",
      "zaroorat ki\n",
      "mohobbat ki, aafat ki hai jaisa shaanat ki\n",
      "aur jurrat yahaan marzi ki\n",
      "adalat yeh shabdon ki ab aadat ki apna time aaya khwaab\n",
      "ab kaise tu ghanta lekar jaayega\n",
      "uth ja ab jeene mein hai\n",
      "phir bhi sar uthayega\n",
      " \n",
      "taakat ki\n",
      "himaakat ki mehnat se main\n",
      "jitna time aayega\n",
      "apna time aayega\n",
      "apna time aaya hai\n",
      " \n",
      "iss hard’ch nai hai\n",
      "kyon\n",
      "kyon\n",
      "kyon\n",
      "kyon ki mehnat se main\n",
      "jitna time aayega\n",
      "apna toone boya hai\n",
      "kyon ka jwala\n",
      "mere jaisa shaan pighlayega\n",
      "zinda mera khud ki ab talaash mein\n",
      "parwaaz dekh par\n",
      "yahaan pighlayega\n",
      "apna time aayega\n",
      " \n",
      "ab kuchh mil payega\n",
      "aisa mera khwaab\n",
      "ab kuchh mila paseene mein hai\n",
      "shohrat ki ab aadat ki\n",
      "adalat yahaana ab aadat ki\n",
      "mohobbat ki apna time aayega\n",
      "zinda mera khwaab hausle se main\n",
      "jitni taakat ne hi tha sar uthayega\n",
      "meri bediyan pighlayega\n",
      " \n",
      "tu nanga hi to aaya hai\n",
      "phir bhi lad\n"
     ]
    }
   ],
   "metadata": {}
  },
  {
   "cell_type": "code",
   "execution_count": 11,
   "source": [
    "f = open('submission.txt', 'w', encoding='utf-8')"
   ],
   "outputs": [],
   "metadata": {}
  },
  {
   "cell_type": "code",
   "execution_count": 12,
   "source": [
    "f.write(text)"
   ],
   "outputs": [
    {
     "output_type": "execute_result",
     "data": {
      "text/plain": [
       "2004"
      ]
     },
     "metadata": {},
     "execution_count": 12
    }
   ],
   "metadata": {}
  },
  {
   "cell_type": "code",
   "execution_count": 13,
   "source": [
    "f.close()"
   ],
   "outputs": [],
   "metadata": {}
  }
 ],
 "metadata": {
  "orig_nbformat": 4,
  "language_info": {
   "name": "python",
   "version": "3.8.5",
   "mimetype": "text/x-python",
   "codemirror_mode": {
    "name": "ipython",
    "version": 3
   },
   "pygments_lexer": "ipython3",
   "nbconvert_exporter": "python",
   "file_extension": ".py"
  },
  "kernelspec": {
   "name": "python3",
   "display_name": "Python 3.8.5 64-bit ('base': conda)"
  },
  "interpreter": {
   "hash": "cd8ac7ed5329ff1f59a8356dfddf06d159cf18414acbfd7b13d1d5cd1cbb5d7d"
  }
 },
 "nbformat": 4,
 "nbformat_minor": 2
}