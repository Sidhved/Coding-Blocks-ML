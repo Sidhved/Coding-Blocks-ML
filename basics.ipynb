{
 "metadata": {
  "language_info": {
   "codemirror_mode": {
    "name": "ipython",
    "version": 3
   },
   "file_extension": ".py",
   "mimetype": "text/x-python",
   "name": "python",
   "nbconvert_exporter": "python",
   "pygments_lexer": "ipython3",
   "version": "3.9.2-final"
  },
  "orig_nbformat": 2,
  "kernelspec": {
   "name": "python3",
   "display_name": "Python 3.9.2 64-bit",
   "metadata": {
    "interpreter": {
     "hash": "33dc6d49505b4536b6a128d9d7c879e1fa44477ad44947bbbe73093067fe6393"
    }
   }
  }
 },
 "nbformat": 4,
 "nbformat_minor": 2,
 "cells": [
  {
   "cell_type": "code",
   "execution_count": 1,
   "metadata": {},
   "outputs": [
    {
     "output_type": "stream",
     "name": "stdout",
     "text": [
      "Hello World\n"
     ]
    }
   ],
   "source": [
    "print(\"Hello World\") #std output"
   ]
  },
  {
   "cell_type": "code",
   "execution_count": 3,
   "metadata": {},
   "outputs": [
    {
     "output_type": "execute_result",
     "data": {
      "text/plain": [
       "'\\nthis is not a comment\\nit is a multi- line string\\n'"
      ]
     },
     "metadata": {},
     "execution_count": 3
    }
   ],
   "source": [
    "'''\n",
    "this is not a comment\n",
    "it is a multi- line string\n",
    "'''"
   ]
  },
  {
   "source": [
    "LITERALS"
   ],
   "cell_type": "markdown",
   "metadata": {}
  },
  {
   "cell_type": "code",
   "execution_count": 6,
   "metadata": {},
   "outputs": [
    {
     "output_type": "stream",
     "name": "stdout",
     "text": [
      "type of a = <class 'int'>\ntype of b = <class 'float'>\ntype of c = <class 'complex'>\ntype of d = <class 'str'>\n"
     ]
    }
   ],
   "source": [
    "a = 10 #integer\n",
    "print(\"type of a = \"+str(type(a)))\n",
    "b = 3.14 #float\n",
    "print(\"type of b = \" +str(type(b)))\n",
    "c = 6+9j #complex\n",
    "print(\"type of c = \" +str(type(c)))\n",
    "d = \"string\"\n",
    "print(\"type of d = \" +str(type(d)))"
   ]
  },
  {
   "source": [
    "VARIABLES\n",
    ">can start with \"-\" or \"a-z\" or\"A-Z\" \n",
    ">can have \"0-9\" in the rest of the body of the name"
   ],
   "cell_type": "markdown",
   "metadata": {}
  },
  {
   "source": [
    "Arithmetic operators"
   ],
   "cell_type": "markdown",
   "metadata": {}
  },
  {
   "cell_type": "code",
   "execution_count": 17,
   "metadata": {},
   "outputs": [
    {
     "output_type": "stream",
     "name": "stdout",
     "text": [
      "a + b = 15\na - b = 5\na * b = 50\na / b = 2.0000\na % b = 0\na // b = 2\na ** b = 100000\n"
     ]
    }
   ],
   "source": [
    "a = 10\n",
    "b = 5\n",
    "\n",
    "print(\"a + b = \" + str(a+b))\n",
    "print(\"a - b = \" + str(a-b))\n",
    "print(\"a * b = \" + str(a*b))\n",
    "print(\"a / b = \" + str(\"%0.4f\"%(a/b)))\n",
    "print(\"a % b = \" + str(a%b))\n",
    "print(\"a // b = \" + str(a//b))\n",
    "print(\"a ** b = \" + str(a**b))"
   ]
  },
  {
   "cell_type": "code",
   "execution_count": null,
   "metadata": {},
   "outputs": [],
   "source": []
  }
 ]
}