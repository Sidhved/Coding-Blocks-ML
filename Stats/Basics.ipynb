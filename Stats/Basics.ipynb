{
 "cells": [
  {
   "cell_type": "code",
   "execution_count": 3,
   "source": [
    "import numpy as np\r\n",
    "import pandas as pd\r\n",
    "import matplotlib.pyplot as plt"
   ],
   "outputs": [],
   "metadata": {}
  },
  {
   "cell_type": "code",
   "execution_count": 23,
   "source": [
    "u = 0\r\n",
    "sigma = 1\r\n",
    "# standard normal distribution\r\n",
    "vals = np.random.randn(1000)\r\n",
    "print(vals.shape)\r\n",
    "print(vals[0:10])"
   ],
   "outputs": [
    {
     "output_type": "stream",
     "name": "stdout",
     "text": [
      "(1000,)\n",
      "[ 1.805884   -1.00844894 -0.01871097  0.02707167 -1.83997916 -1.69221708\n",
      "  0.74192343  1.23864745  0.75243036 -0.30204581]\n"
     ]
    }
   ],
   "metadata": {}
  },
  {
   "cell_type": "code",
   "execution_count": 19,
   "source": [
    "# normal distribution\r\n",
    "u = 5\r\n",
    "sigma = 10\r\n",
    "\r\n",
    "nor_vals = u + sigma * (np.random.randn(1000))\r\n",
    "print(vals.shape)\r\n",
    "print(vals[0:10])"
   ],
   "outputs": [
    {
     "output_type": "stream",
     "name": "stdout",
     "text": [
      "(1000,)\n",
      "[-0.  0.  0.  1.  1.  0. -0.  1.  0.  2.]\n"
     ]
    }
   ],
   "metadata": {}
  },
  {
   "cell_type": "code",
   "execution_count": 20,
   "source": [
    "plt.hist(nor_vals, bins=50)\r\n",
    "plt.show()"
   ],
   "outputs": [
    {
     "output_type": "display_data",
     "data": {
      "text/plain": [
       "<Figure size 432x288 with 1 Axes>"
      ],
      "image/png": "[encoded data removed]"
     },
     "metadata": {
      "needs_background": "light"
     }
    }
   ],
   "metadata": {}
  },
  {
   "cell_type": "code",
   "execution_count": 17,
   "source": [
    "vals = np.round(vals)\r\n",
    "z = np.unique(vals, return_counts = True)\r\n",
    "print(z)"
   ],
   "outputs": [
    {
     "output_type": "stream",
     "name": "stdout",
     "text": [
      "(array([-3., -2., -1.,  0.,  1.,  2.,  3.]), array([  1,  58, 264, 358, 246,  66,   7], dtype=int64))\n"
     ]
    }
   ],
   "metadata": {}
  },
  {
   "cell_type": "code",
   "execution_count": 24,
   "source": [
    "x = vals\r\n",
    "y = np.zeros(x.shape)\r\n",
    "\r\n",
    "plt.scatter(x, y)\r\n",
    "plt.show()"
   ],
   "outputs": [
    {
     "output_type": "display_data",
     "data": {
      "text/plain": [
       "<Figure size 432x288 with 1 Axes>"
      ],
      "image/png": "[encoded data removed]"
     },
     "metadata": {
      "needs_background": "light"
     }
    }
   ],
   "metadata": {}
  },
  {
   "cell_type": "code",
   "execution_count": 29,
   "source": [
    "#Bivariate\r\n",
    "mean = np.array([0.0, 0.0])\r\n",
    "cov = np.array([[1, 0.8], [0.8, 1]])\r\n",
    "\r\n",
    "mean2 = np.array([5.0, 6.0])\r\n",
    "cov2 = np.array([[1.3, 0.2], [0.2, 1.1]])\r\n",
    "\r\n",
    "dist = np.random.multivariate_normal(mean, cov, 500)\r\n",
    "dist2 = np.random.multivariate_normal(mean2, cov2, 500)\r\n",
    "print(dist.shape)\r\n",
    "\r\n",
    "plt.scatter(dist[:, 0], dist[:, 1])\r\n",
    "plt.scatter(dist2[:, 0], dist2[:, 1])\r\n"
   ],
   "outputs": [
    {
     "output_type": "stream",
     "name": "stdout",
     "text": [
      "(500, 2)\n"
     ]
    },
    {
     "output_type": "execute_result",
     "data": {
      "text/plain": [
       "<matplotlib.collections.PathCollection at 0x2c4cea9bc10>"
      ]
     },
     "metadata": {},
     "execution_count": 29
    },
    {
     "output_type": "display_data",
     "data": {
      "text/plain": [
       "<Figure size 432x288 with 1 Axes>"
      ],
      "image/png": "[encoded data removed]"
     },
     "metadata": {
      "needs_background": "light"
     }
    }
   ],
   "metadata": {}
  }
 ],
 "metadata": {
  "orig_nbformat": 4,
  "language_info": {
   "name": "python",
   "version": "3.8.5",
   "mimetype": "text/x-python",
   "codemirror_mode": {
    "name": "ipython",
    "version": 3
   },
   "pygments_lexer": "ipython3",
   "nbconvert_exporter": "python",
   "file_extension": ".py"
  },
  "kernelspec": {
   "name": "python3",
   "display_name": "Python 3.8.5 64-bit ('base': conda)"
  },
  "interpreter": {
   "hash": "cd8ac7ed5329ff1f59a8356dfddf06d159cf18414acbfd7b13d1d5cd1cbb5d7d"
  }
 },
 "nbformat": 4,
 "nbformat_minor": 2
}