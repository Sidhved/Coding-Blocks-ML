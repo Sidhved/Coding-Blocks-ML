{
 "cells": [
  {
   "cell_type": "code",
   "execution_count": 1,
   "source": [
    "import numpy as np\r\n",
    "import matplotlib.pyplot as plt\r\n",
    "from sklearn.datasets import load_boston\r\n",
    "from sklearn.datasets import make_regression"
   ],
   "outputs": [],
   "metadata": {}
  },
  {
   "cell_type": "code",
   "execution_count": 2,
   "source": [
    "X, y = make_regression(n_samples=10000, n_features=20, n_informative=20, noise=10, random_state=1)\r\n",
    "\r\n",
    "u = np.mean(X, axis=0)\r\n",
    "std = np.std(X, axis=0)\r\n",
    "X = (X-u)/std"
   ],
   "outputs": [],
   "metadata": {}
  },
  {
   "cell_type": "code",
   "execution_count": 3,
   "source": [
    "ones = np.ones((X.shape[0], 1))\r\n",
    "print(X.shape)\r\n",
    "print(y.shape)"
   ],
   "outputs": [
    {
     "output_type": "stream",
     "name": "stdout",
     "text": [
      "(10000, 20)\n",
      "(10000,)\n"
     ]
    }
   ],
   "metadata": {}
  },
  {
   "cell_type": "code",
   "execution_count": 4,
   "source": [
    "def hypothesis(X, theta):\r\n",
    "    return np.dot(X, theta)\r\n",
    "\r\n",
    "def error(X, y, theta):\r\n",
    "    e = 0.0\r\n",
    "    n = X.shape[0]\r\n",
    "    y_ = hypothesis(X, theta)\r\n",
    "    e = np.sum((y-y_)**2)\r\n",
    "    return e/n\r\n",
    "\r\n",
    "def gradient(X, y, theta):\r\n",
    "   y_ = hypothesis(X, theta)\r\n",
    "   grad = np.dot(X.T, (y_ - y))\r\n",
    "   m = X.shape[0]\r\n",
    "   return grad/m\r\n",
    "# Batch GradDesc\r\n",
    "def gradDesc(X, y, learning_rate = 0.01, max_iters = 300):\r\n",
    "    n = X.shape[1]\r\n",
    "    theta = np.zeros((n, ))\r\n",
    "    error_list = []\r\n",
    "\r\n",
    "    for i in range(max_iters):\r\n",
    "        e = error(X, y, theta)\r\n",
    "        error_list.append(e)\r\n",
    "\r\n",
    "        grad = gradient(X, y, theta)\r\n",
    "        theta = theta - learning_rate*grad\r\n",
    "    return theta, error_list"
   ],
   "outputs": [],
   "metadata": {}
  },
  {
   "cell_type": "code",
   "execution_count": 5,
   "source": [
    "theta, error_list = gradDesc(X, y)\r\n",
    "\r\n",
    "plt.figure()\r\n",
    "plt.plot(np.arange(len(error_list)), error_list)\r\n",
    "plt.show()"
   ],
   "outputs": [
    {
     "output_type": "display_data",
     "data": {
      "text/plain": [
       "<Figure size 432x288 with 1 Axes>"
      ],
      "image/png": "[encoded data removed]"
     },
     "metadata": {
      "needs_background": "light"
     }
    }
   ],
   "metadata": {}
  },
  {
   "cell_type": "code",
   "execution_count": 14,
   "source": [
    "def batch_grad_desc(X, y, batch_size = 200, learning_rate = 0.01, max_iters = 10):\r\n",
    "    n = X.shape[1]\r\n",
    "    theta = np.zeros((n, ))\r\n",
    "    error_list = []\r\n",
    "    data = np.hstack((X, y.reshape(-1, 1)))\r\n",
    "\r\n",
    "    for i in range(max_iters):\r\n",
    "\r\n",
    "        np.random.shuffle(data)\r\n",
    "        m = data.shape[0]\r\n",
    "        total_batches = m//batch_size\r\n",
    "        for i in range(total_batches):\r\n",
    "            batch_data = data[i*batch_size : (i+1)*batch_size, :]\r\n",
    "            x_batch = batch_data[:, :-1]\r\n",
    "            y_batch = batch_data[:, -1]\r\n",
    "\r\n",
    "            batch_gradient = gradient(x_batch, y_batch, theta)\r\n",
    "            theta = theta - learning_rate*batch_gradient\r\n",
    "            e = error(x_batch, y_batch, theta)\r\n",
    "            error_list.append(e)\r\n",
    "\r\n",
    "    return theta, error_list"
   ],
   "outputs": [],
   "metadata": {}
  },
  {
   "cell_type": "code",
   "execution_count": 15,
   "source": [
    "theta, error_list = batch_grad_desc(X, y)\r\n",
    "\r\n",
    "plt.figure()\r\n",
    "plt.plot(np.arange(len(error_list)), error_list)\r\n",
    "plt.show()"
   ],
   "outputs": [
    {
     "output_type": "display_data",
     "data": {
      "text/plain": [
       "<Figure size 432x288 with 1 Axes>"
      ],
      "image/png": "[encoded data removed]"
     },
     "metadata": {
      "needs_background": "light"
     }
    }
   ],
   "metadata": {}
  }
 ],
 "metadata": {
  "orig_nbformat": 4,
  "language_info": {
   "name": "python",
   "version": "3.8.5",
   "mimetype": "text/x-python",
   "codemirror_mode": {
    "name": "ipython",
    "version": 3
   },
   "pygments_lexer": "ipython3",
   "nbconvert_exporter": "python",
   "file_extension": ".py"
  },
  "kernelspec": {
   "name": "python3",
   "display_name": "Python 3.8.5 64-bit ('base': conda)"
  },
  "interpreter": {
   "hash": "cd8ac7ed5329ff1f59a8356dfddf06d159cf18414acbfd7b13d1d5cd1cbb5d7d"
  }
 },
 "nbformat": 4,
 "nbformat_minor": 2
}