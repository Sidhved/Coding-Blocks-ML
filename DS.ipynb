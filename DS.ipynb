{
 "metadata": {
  "language_info": {
   "codemirror_mode": {
    "name": "ipython",
    "version": 3
   },
   "file_extension": ".py",
   "mimetype": "text/x-python",
   "name": "python",
   "nbconvert_exporter": "python",
   "pygments_lexer": "ipython3",
   "version": "3.8.5-final"
  },
  "orig_nbformat": 2,
  "kernelspec": {
   "name": "python3",
   "display_name": "Python 3.8.5 64-bit (conda)",
   "metadata": {
    "interpreter": {
     "hash": "cd8ac7ed5329ff1f59a8356dfddf06d159cf18414acbfd7b13d1d5cd1cbb5d7d"
    }
   }
  }
 },
 "nbformat": 4,
 "nbformat_minor": 2,
 "cells": [
  {
   "source": [
    "DATA STRUCTURES\n",
    ">CRUD: Create, Read, Update, Delete"
   ],
   "cell_type": "markdown",
   "metadata": {}
  },
  {
   "source": [
    "PRIMARY DS:\n",
    "> Integer\n",
    "> Float\n",
    "> Bool\n",
    "> String\n",
    "> Complex"
   ],
   "cell_type": "markdown",
   "metadata": {}
  },
  {
   "source": [
    "DERIVED DS:\n",
    "> Lists\n",
    "> Tuple\n",
    "> Dictionary\n",
    "> Sets"
   ],
   "cell_type": "markdown",
   "metadata": {}
  },
  {
   "source": [
    "*Optimization on memory allocation in python works only for -5 to 256. Beyond that range all the variables are allocated different memory spaces*"
   ],
   "cell_type": "markdown",
   "metadata": {}
  },
  {
   "source": [
    "***STRINGS***\n",
    "> Collection of Characters from UTF-8 (but is safe to assume it works fine with referance to ASCII)\n",
    ">>String is an immutabe DS"
   ],
   "cell_type": "markdown",
   "metadata": {}
  },
  {
   "cell_type": "code",
   "execution_count": 9,
   "metadata": {},
   "outputs": [
    {
     "output_type": "execute_result",
     "data": {
      "text/plain": [
       "'STRING'"
      ]
     },
     "metadata": {},
     "execution_count": 9
    }
   ],
   "source": [
    "a = \"STRING\"\n",
    "#a = 'STRING'\n",
    "#a = '''STRING'''\n",
    "a"
   ]
  },
  {
   "cell_type": "code",
   "execution_count": 12,
   "metadata": {},
   "outputs": [
    {
     "output_type": "stream",
     "name": "stdout",
     "text": [
      "99\nA\n"
     ]
    }
   ],
   "source": [
    "#ord and chr gives the ASCII value and equivalent char respectively\n",
    "print(ord('c'))\n",
    "print(chr(65))"
   ]
  },
  {
   "source": [
    "OPERATIONS ON STRING"
   ],
   "cell_type": "markdown",
   "metadata": {}
  },
  {
   "cell_type": "code",
   "execution_count": 13,
   "metadata": {},
   "outputs": [],
   "source": [
    "a, b, c = 1, 2, 3"
   ]
  },
  {
   "cell_type": "code",
   "execution_count": 19,
   "metadata": {},
   "outputs": [
    {
     "output_type": "stream",
     "name": "stdout",
     "text": [
      "1 - 2 - 3\n"
     ]
    }
   ],
   "source": [
    "print(\"%d - %d - %d\" %( a, b, c))#restriced to all inputs as integers"
   ]
  },
  {
   "cell_type": "code",
   "execution_count": 24,
   "metadata": {},
   "outputs": [
    {
     "output_type": "stream",
     "name": "stdout",
     "text": [
      "1-2-3\n2-1-3\n"
     ]
    }
   ],
   "source": [
    "print(f\"{a}-{b}-{c}\")#my method best method XD\n",
    "print(\"{1}-{0}-{2}\".format(a, b, c))"
   ]
  },
  {
   "cell_type": "code",
   "execution_count": 29,
   "metadata": {},
   "outputs": [],
   "source": [
    "a = \"       lol xD      \""
   ]
  },
  {
   "cell_type": "code",
   "execution_count": 30,
   "metadata": {},
   "outputs": [
    {
     "output_type": "stream",
     "name": "stdout",
     "text": [
      "lol xD\n"
     ]
    }
   ],
   "source": [
    "#to remove the white spaces we use strip function\n",
    "print(a.strip())"
   ]
  },
  {
   "cell_type": "code",
   "execution_count": 34,
   "metadata": {},
   "outputs": [
    {
     "output_type": "execute_result",
     "data": {
      "text/plain": [
       "['lol', 'xD']"
      ]
     },
     "metadata": {},
     "execution_count": 34
    }
   ],
   "source": [
    "a.split()"
   ]
  },
  {
   "cell_type": "code",
   "execution_count": 35,
   "metadata": {},
   "outputs": [
    {
     "output_type": "execute_result",
     "data": {
      "text/plain": [
       "'       pop xD      '"
      ]
     },
     "metadata": {},
     "execution_count": 35
    }
   ],
   "source": [
    "#since string is immutabe we use methods like replace()\n",
    "a.replace('l', 'p')"
   ]
  },
  {
   "cell_type": "code",
   "execution_count": 40,
   "metadata": {},
   "outputs": [
    {
     "output_type": "execute_result",
     "data": {
      "text/plain": [
       "2"
      ]
     },
     "metadata": {},
     "execution_count": 40
    }
   ],
   "source": [
    "a.count('l') #can use string of larger length - useful for pi function"
   ]
  },
  {
   "source": [
    "LISTS\n",
    "> Ordered Data\n",
    ">> Mutable DS\n",
    ">>>Accessed using index\n",
    ">>>>Heterogeneous (Homogeneous recommended)"
   ],
   "cell_type": "markdown",
   "metadata": {}
  },
  {
   "cell_type": "code",
   "execution_count": 82,
   "metadata": {},
   "outputs": [
    {
     "output_type": "stream",
     "name": "stdout",
     "text": [
      "1\n[1, 2, 3, 4, 5, 6, 'cools']\n"
     ]
    }
   ],
   "source": [
    "l = [] #empty\n",
    "l = [1, 2, 3, 4, 5] #int list(homo XD)\n",
    "print(l[0]) #access using index\n",
    "l.append(6) #mutable\n",
    "l.append(\"cools\") #heterogeneous\n",
    "print(l)"
   ]
  },
  {
   "cell_type": "code",
   "execution_count": 52,
   "metadata": {},
   "outputs": [
    {
     "output_type": "stream",
     "name": "stdout",
     "text": [
      "[1, 2, 3, 4, 5, 6, 'cools', 'cool', 'no doubt']\n"
     ]
    },
    {
     "output_type": "execute_result",
     "data": {
      "text/plain": [
       "['cool', 'no doubt', 'cool', 'no doubt', 'cool', 'no doubt']"
      ]
     },
     "metadata": {},
     "execution_count": 52
    }
   ],
   "source": [
    "b = ['cool', 'no doubt']\n",
    "print(l + b)\n",
    "b*3#only with self"
   ]
  },
  {
   "source": [
    "*indexing and slicing*"
   ],
   "cell_type": "markdown",
   "metadata": {}
  },
  {
   "cell_type": "code",
   "execution_count": 56,
   "metadata": {},
   "outputs": [
    {
     "output_type": "stream",
     "name": "stdout",
     "text": [
      "Third last emement : 5\n"
     ]
    }
   ],
   "source": [
    "print(\"Third last emement : \" +str(l[-3]))\n",
    "#indexing"
   ]
  },
  {
   "cell_type": "code",
   "execution_count": 62,
   "metadata": {},
   "outputs": [
    {
     "output_type": "stream",
     "name": "stdout",
     "text": [
      "[3, 4, 5]\n[2, 5]\n"
     ]
    }
   ],
   "source": [
    "print(l[2:5])\n",
    "#slicing, can be used with back indexing as well\n",
    "print(l[1:5:3])\n",
    "#slicing with step 3"
   ]
  },
  {
   "cell_type": "code",
   "execution_count": 65,
   "metadata": {},
   "outputs": [
    {
     "output_type": "stream",
     "name": "stdout",
     "text": [
      "n\n"
     ]
    }
   ],
   "source": [
    "#most elegant way to reverse a string\n",
    "l[::-1]\n",
    "#best way to check palindrome\n",
    "if l == l[::-1]:\n",
    "    print('y')\n",
    "else:\n",
    "    print('n')"
   ]
  },
  {
   "cell_type": "code",
   "execution_count": 74,
   "metadata": {},
   "outputs": [
    {
     "output_type": "execute_result",
     "data": {
      "text/plain": [
       "[1, 3, 4, 'toit', 'toit']"
      ]
     },
     "metadata": {},
     "execution_count": 74
    }
   ],
   "source": [
    "#insert method\n",
    "l.insert(5, 'toit')\n",
    "l # note rest of the string shifts"
   ]
  },
  {
   "cell_type": "code",
   "execution_count": 83,
   "metadata": {},
   "outputs": [],
   "source": [
    "#basic append and delete\n",
    "l.append(\"no doubt\")\n",
    "l.pop() #removes last element\n",
    "l.pop(4) #pops the 4th index\n",
    "l.remove(2) #removes firt occurance of 2\n",
    "del l #completely deletes the list if index not provided"
   ]
  },
  {
   "cell_type": "code",
   "execution_count": 86,
   "metadata": {},
   "outputs": [
    {
     "output_type": "stream",
     "name": "stdout",
     "text": [
      "['cool', 'no doubt']\nNone\n"
     ]
    }
   ],
   "source": [
    "#sorting\n",
    "print(sorted(b)) #returns a new string\n",
    "print(b.sort()) #returns none but sorts the original list"
   ]
  },
  {
   "cell_type": "code",
   "execution_count": 87,
   "metadata": {},
   "outputs": [
    {
     "output_type": "stream",
     "name": "stdout",
     "text": [
      "no doubt\ncool\n"
     ]
    }
   ],
   "source": [
    "#frevresed\n",
    "for i in reversed(b):\n",
    "    print(i)\n",
    "\n",
    "#or b.reversed()"
   ]
  },
  {
   "source": [
    "TUPLES\n",
    "> Ordered DS\n",
    ">> Immutable: thus fast and efficient\n",
    ">>> Accessed using index\n",
    ">>>> Heterogeneous"
   ],
   "cell_type": "markdown",
   "metadata": {}
  },
  {
   "cell_type": "code",
   "execution_count": 90,
   "metadata": {},
   "outputs": [],
   "source": [
    "t = (1, 2, 3, 4, 5, 'hii', 'supp')"
   ]
  },
  {
   "cell_type": "code",
   "execution_count": 93,
   "metadata": {},
   "outputs": [
    {
     "output_type": "stream",
     "name": "stdout",
     "text": [
      "3\n"
     ]
    }
   ],
   "source": [
    "print(t[2]) #access via index\n",
    "t.append(6) #observe the error --> tuples are immutable"
   ]
  },
  {
   "cell_type": "code",
   "execution_count": 95,
   "metadata": {},
   "outputs": [
    {
     "output_type": "stream",
     "name": "stdout",
     "text": [
      "('yooo', 'boii', 1, 2)\n"
     ]
    }
   ],
   "source": [
    "def func(*args):\n",
    "    print(args)\n",
    "func(\"yooo\", \"boii\", 1, 2) #notice that output is a tuple"
   ]
  },
  {
   "cell_type": "code",
   "execution_count": 101,
   "metadata": {},
   "outputs": [
    {
     "output_type": "stream",
     "name": "stdout",
     "text": [
      "1 2\n2 1\n"
     ]
    }
   ],
   "source": [
    "#swapping values of 2 variables using tuples --> only for int --> else use clasical approach of using temp or xor\n",
    "a = 1, 2 #if not () then it assumes as tuple\n",
    "c, d = a #using the python unpacking to assign values\n",
    "print(c, d)\n",
    "c, d = d, c #one line swap without variable\n",
    "print(c, d)"
   ]
  },
  {
   "cell_type": "code",
   "execution_count": 105,
   "metadata": {},
   "outputs": [
    {
     "output_type": "stream",
     "name": "stdout",
     "text": [
      "[1, 2]\n"
     ]
    },
    {
     "output_type": "execute_result",
     "data": {
      "text/plain": [
       "(1, 2)"
      ]
     },
     "metadata": {},
     "execution_count": 105
    }
   ],
   "source": [
    "#list to tuple \n",
    "l = list(a)\n",
    "print(l)\n",
    "l = tuple(l)\n",
    "l\n",
    "#we can also use tuple iterable to convert to list"
   ]
  },
  {
   "cell_type": "code",
   "execution_count": 111,
   "metadata": {},
   "outputs": [
    {
     "output_type": "stream",
     "name": "stdout",
     "text": [
      "(15, 5)\n9 3\n"
     ]
    }
   ],
   "source": [
    "def addSubtract (a, b):\n",
    "    return a+b, a-b #returning multiple values\n",
    "print(addSubtract(10, 5)) #NOTE the output is a tuple\n",
    "sum, diff = addSubtract(6, 3)\n",
    "print(sum, diff) # used tuple destructuring"
   ]
  },
  {
   "cell_type": "code",
   "execution_count": null,
   "metadata": {},
   "outputs": [],
   "source": []
  }
 ]
}