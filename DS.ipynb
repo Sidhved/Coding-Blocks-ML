{
 "metadata": {
  "language_info": {
   "codemirror_mode": {
    "name": "ipython",
    "version": 3
   },
   "file_extension": ".py",
   "mimetype": "text/x-python",
   "name": "python",
   "nbconvert_exporter": "python",
   "pygments_lexer": "ipython3",
   "version": "3.8.5-final"
  },
  "orig_nbformat": 2,
  "kernelspec": {
   "name": "python3",
   "display_name": "Python 3.8.5 64-bit (conda)",
   "metadata": {
    "interpreter": {
     "hash": "cd8ac7ed5329ff1f59a8356dfddf06d159cf18414acbfd7b13d1d5cd1cbb5d7d"
    }
   }
  }
 },
 "nbformat": 4,
 "nbformat_minor": 2,
 "cells": [
  {
   "source": [
    "DATA STRUCTURES\n",
    ">CRUD: Create, Read, Update, Delete"
   ],
   "cell_type": "markdown",
   "metadata": {}
  },
  {
   "source": [
    "PRIMARY DS:\n",
    "> Integer\n",
    "> Float\n",
    "> Bool\n",
    "> String\n",
    "> Complex"
   ],
   "cell_type": "markdown",
   "metadata": {}
  },
  {
   "source": [
    "DERIVED DS:\n",
    "> Lists\n",
    "> Tuple\n",
    "> Dictionary\n",
    "> Sets"
   ],
   "cell_type": "markdown",
   "metadata": {}
  },
  {
   "source": [
    "*Optimization on memory allocation in python works only for -5 to 256. Beyond that range all the variables are allocated different memory spaces*"
   ],
   "cell_type": "markdown",
   "metadata": {}
  },
  {
   "source": [
    "***STRINGS***\n",
    "> Collection of Characters from UTF-8 (but is safe to assume it works fine with referance to ASCII)\n",
    ">>String is an immutabe DS"
   ],
   "cell_type": "markdown",
   "metadata": {}
  },
  {
   "cell_type": "code",
   "execution_count": 9,
   "metadata": {},
   "outputs": [
    {
     "output_type": "execute_result",
     "data": {
      "text/plain": [
       "'STRING'"
      ]
     },
     "metadata": {},
     "execution_count": 9
    }
   ],
   "source": [
    "a = \"STRING\"\n",
    "#a = 'STRING'\n",
    "#a = '''STRING'''\n",
    "a"
   ]
  },
  {
   "cell_type": "code",
   "execution_count": 12,
   "metadata": {},
   "outputs": [
    {
     "output_type": "stream",
     "name": "stdout",
     "text": [
      "99\nA\n"
     ]
    }
   ],
   "source": [
    "#ord and chr gives the ASCII value and equivalent char respectively\n",
    "print(ord('c'))\n",
    "print(chr(65))"
   ]
  },
  {
   "source": [
    "OPERATIONS ON STRING"
   ],
   "cell_type": "markdown",
   "metadata": {}
  },
  {
   "cell_type": "code",
   "execution_count": 13,
   "metadata": {},
   "outputs": [],
   "source": [
    "a, b, c = 1, 2, 3"
   ]
  },
  {
   "cell_type": "code",
   "execution_count": 19,
   "metadata": {},
   "outputs": [
    {
     "output_type": "stream",
     "name": "stdout",
     "text": [
      "1 - 2 - 3\n"
     ]
    }
   ],
   "source": [
    "print(\"%d - %d - %d\" %( a, b, c))#restriced to all inputs as integers"
   ]
  },
  {
   "cell_type": "code",
   "execution_count": 24,
   "metadata": {},
   "outputs": [
    {
     "output_type": "stream",
     "name": "stdout",
     "text": [
      "1-2-3\n2-1-3\n"
     ]
    }
   ],
   "source": [
    "print(f\"{a}-{b}-{c}\")#my method best method XD\n",
    "print(\"{1}-{0}-{2}\".format(a, b, c))"
   ]
  },
  {
   "cell_type": "code",
   "execution_count": 29,
   "metadata": {},
   "outputs": [],
   "source": [
    "a = \"       lol xD      \""
   ]
  },
  {
   "cell_type": "code",
   "execution_count": 30,
   "metadata": {},
   "outputs": [
    {
     "output_type": "stream",
     "name": "stdout",
     "text": [
      "lol xD\n"
     ]
    }
   ],
   "source": [
    "#to remove the white spaces we use strip function\n",
    "print(a.strip())"
   ]
  },
  {
   "cell_type": "code",
   "execution_count": 34,
   "metadata": {},
   "outputs": [
    {
     "output_type": "execute_result",
     "data": {
      "text/plain": [
       "['lol', 'xD']"
      ]
     },
     "metadata": {},
     "execution_count": 34
    }
   ],
   "source": [
    "a.split()"
   ]
  },
  {
   "cell_type": "code",
   "execution_count": 35,
   "metadata": {},
   "outputs": [
    {
     "output_type": "execute_result",
     "data": {
      "text/plain": [
       "'       pop xD      '"
      ]
     },
     "metadata": {},
     "execution_count": 35
    }
   ],
   "source": [
    "#since string is immutabe we use methods like replace()\n",
    "a.replace('l', 'p')"
   ]
  },
  {
   "cell_type": "code",
   "execution_count": 40,
   "metadata": {},
   "outputs": [
    {
     "output_type": "execute_result",
     "data": {
      "text/plain": [
       "2"
      ]
     },
     "metadata": {},
     "execution_count": 40
    }
   ],
   "source": [
    "a.count('l') #can use string of larger length - useful for pi function"
   ]
  },
  {
   "cell_type": "code",
   "execution_count": null,
   "metadata": {},
   "outputs": [],
   "source": []
  }
 ]
}