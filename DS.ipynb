{
 "metadata": {
  "language_info": {
   "codemirror_mode": {
    "name": "ipython",
    "version": 3
   },
   "file_extension": ".py",
   "mimetype": "text/x-python",
   "name": "python",
   "nbconvert_exporter": "python",
   "pygments_lexer": "ipython3",
   "version": "3.8.5-final"
  },
  "orig_nbformat": 2,
  "kernelspec": {
   "name": "python3",
   "display_name": "Python 3.8.5 64-bit (conda)",
   "metadata": {
    "interpreter": {
     "hash": "cd8ac7ed5329ff1f59a8356dfddf06d159cf18414acbfd7b13d1d5cd1cbb5d7d"
    }
   }
  }
 },
 "nbformat": 4,
 "nbformat_minor": 2,
 "cells": [
  {
   "source": [
    "DATA STRUCTURES\n",
    ">CRUD: Create, Read, Update, Delete"
   ],
   "cell_type": "markdown",
   "metadata": {}
  },
  {
   "source": [
    "PRIMARY DS:\n",
    "> Integer\n",
    "> Float\n",
    "> Bool\n",
    "> String\n",
    "> Complex"
   ],
   "cell_type": "markdown",
   "metadata": {}
  },
  {
   "source": [
    "DERIVED DS:\n",
    "> Lists\n",
    "> Tuple\n",
    "> Dictionary\n",
    "> Sets"
   ],
   "cell_type": "markdown",
   "metadata": {}
  },
  {
   "source": [
    "*Optimization on memory allocation in python works only for -5 to 256. Beyond that range all the variables are allocated different memory spaces*"
   ],
   "cell_type": "markdown",
   "metadata": {}
  },
  {
   "source": [
    "***STRINGS***\n",
    "> Collection of Characters from UTF-8 (but is safe to assume it works fine with referance to ASCII)\n",
    ">>String is an immutabe DS"
   ],
   "cell_type": "markdown",
   "metadata": {}
  },
  {
   "cell_type": "code",
   "execution_count": 9,
   "metadata": {},
   "outputs": [
    {
     "output_type": "execute_result",
     "data": {
      "text/plain": [
       "'STRING'"
      ]
     },
     "metadata": {},
     "execution_count": 9
    }
   ],
   "source": [
    "a = \"STRING\"\n",
    "#a = 'STRING'\n",
    "#a = '''STRING'''\n",
    "a"
   ]
  },
  {
   "cell_type": "code",
   "execution_count": 12,
   "metadata": {},
   "outputs": [
    {
     "output_type": "stream",
     "name": "stdout",
     "text": [
      "99\nA\n"
     ]
    }
   ],
   "source": [
    "#ord and chr gives the ASCII value and equivalent char respectively\n",
    "print(ord('c'))\n",
    "print(chr(65))"
   ]
  },
  {
   "source": [
    "OPERATIONS ON STRING"
   ],
   "cell_type": "markdown",
   "metadata": {}
  },
  {
   "cell_type": "code",
   "execution_count": 13,
   "metadata": {},
   "outputs": [],
   "source": [
    "a, b, c = 1, 2, 3"
   ]
  },
  {
   "cell_type": "code",
   "execution_count": 19,
   "metadata": {},
   "outputs": [
    {
     "output_type": "stream",
     "name": "stdout",
     "text": [
      "1 - 2 - 3\n"
     ]
    }
   ],
   "source": [
    "print(\"%d - %d - %d\" %( a, b, c))#restriced to all inputs as integers"
   ]
  },
  {
   "cell_type": "code",
   "execution_count": 24,
   "metadata": {},
   "outputs": [
    {
     "output_type": "stream",
     "name": "stdout",
     "text": [
      "1-2-3\n2-1-3\n"
     ]
    }
   ],
   "source": [
    "print(f\"{a}-{b}-{c}\")#my method best method XD\n",
    "print(\"{1}-{0}-{2}\".format(a, b, c))"
   ]
  },
  {
   "cell_type": "code",
   "execution_count": 29,
   "metadata": {},
   "outputs": [],
   "source": [
    "a = \"       lol xD      \""
   ]
  },
  {
   "cell_type": "code",
   "execution_count": 30,
   "metadata": {},
   "outputs": [
    {
     "output_type": "stream",
     "name": "stdout",
     "text": [
      "lol xD\n"
     ]
    }
   ],
   "source": [
    "#to remove the white spaces we use strip function\n",
    "print(a.strip())"
   ]
  },
  {
   "cell_type": "code",
   "execution_count": 34,
   "metadata": {},
   "outputs": [
    {
     "output_type": "execute_result",
     "data": {
      "text/plain": [
       "['lol', 'xD']"
      ]
     },
     "metadata": {},
     "execution_count": 34
    }
   ],
   "source": [
    "a.split()"
   ]
  },
  {
   "cell_type": "code",
   "execution_count": 35,
   "metadata": {},
   "outputs": [
    {
     "output_type": "execute_result",
     "data": {
      "text/plain": [
       "'       pop xD      '"
      ]
     },
     "metadata": {},
     "execution_count": 35
    }
   ],
   "source": [
    "#since string is immutabe we use methods like replace()\n",
    "a.replace('l', 'p')"
   ]
  },
  {
   "cell_type": "code",
   "execution_count": 40,
   "metadata": {},
   "outputs": [
    {
     "output_type": "execute_result",
     "data": {
      "text/plain": [
       "2"
      ]
     },
     "metadata": {},
     "execution_count": 40
    }
   ],
   "source": [
    "a.count('l') #can use string of larger length - useful for pi function"
   ]
  },
  {
   "source": [
    "LISTS\n",
    "> Ordered Data\n",
    ">> Mutable DS\n",
    ">>>Accessed using index\n",
    ">>>>Heterogeneous (Homogeneous recommended)"
   ],
   "cell_type": "markdown",
   "metadata": {}
  },
  {
   "cell_type": "code",
   "execution_count": 82,
   "metadata": {},
   "outputs": [
    {
     "output_type": "stream",
     "name": "stdout",
     "text": [
      "1\n[1, 2, 3, 4, 5, 6, 'cools']\n"
     ]
    }
   ],
   "source": [
    "l = [] #empty\n",
    "l = [1, 2, 3, 4, 5] #int list(homo XD)\n",
    "print(l[0]) #access using index\n",
    "l.append(6) #mutable\n",
    "l.append(\"cools\") #heterogeneous\n",
    "print(l)"
   ]
  },
  {
   "cell_type": "code",
   "execution_count": 52,
   "metadata": {},
   "outputs": [
    {
     "output_type": "stream",
     "name": "stdout",
     "text": [
      "[1, 2, 3, 4, 5, 6, 'cools', 'cool', 'no doubt']\n"
     ]
    },
    {
     "output_type": "execute_result",
     "data": {
      "text/plain": [
       "['cool', 'no doubt', 'cool', 'no doubt', 'cool', 'no doubt']"
      ]
     },
     "metadata": {},
     "execution_count": 52
    }
   ],
   "source": [
    "b = ['cool', 'no doubt']\n",
    "print(l + b)\n",
    "b*3#only with self"
   ]
  },
  {
   "source": [
    "*indexing and slicing*"
   ],
   "cell_type": "markdown",
   "metadata": {}
  },
  {
   "cell_type": "code",
   "execution_count": 56,
   "metadata": {},
   "outputs": [
    {
     "output_type": "stream",
     "name": "stdout",
     "text": [
      "Third last emement : 5\n"
     ]
    }
   ],
   "source": [
    "print(\"Third last emement : \" +str(l[-3]))\n",
    "#indexing"
   ]
  },
  {
   "cell_type": "code",
   "execution_count": 62,
   "metadata": {},
   "outputs": [
    {
     "output_type": "stream",
     "name": "stdout",
     "text": [
      "[3, 4, 5]\n[2, 5]\n"
     ]
    }
   ],
   "source": [
    "print(l[2:5])\n",
    "#slicing, can be used with back indexing as well\n",
    "print(l[1:5:3])\n",
    "#slicing with step 3"
   ]
  },
  {
   "cell_type": "code",
   "execution_count": 65,
   "metadata": {},
   "outputs": [
    {
     "output_type": "stream",
     "name": "stdout",
     "text": [
      "n\n"
     ]
    }
   ],
   "source": [
    "#most elegant way to reverse a string\n",
    "l[::-1]\n",
    "#best way to check palindrome\n",
    "if l == l[::-1]:\n",
    "    print('y')\n",
    "else:\n",
    "    print('n')"
   ]
  },
  {
   "cell_type": "code",
   "execution_count": 74,
   "metadata": {},
   "outputs": [
    {
     "output_type": "execute_result",
     "data": {
      "text/plain": [
       "[1, 3, 4, 'toit', 'toit']"
      ]
     },
     "metadata": {},
     "execution_count": 74
    }
   ],
   "source": [
    "#insert method\n",
    "l.insert(5, 'toit')\n",
    "l # note rest of the string shifts"
   ]
  },
  {
   "cell_type": "code",
   "execution_count": 83,
   "metadata": {},
   "outputs": [],
   "source": [
    "#basic append and delete\n",
    "l.append(\"no doubt\")\n",
    "l.pop() #removes last element\n",
    "l.pop(4) #pops the 4th index\n",
    "l.remove(2) #removes firt occurance of 2\n",
    "del l #completely deletes the list if index not provided"
   ]
  },
  {
   "cell_type": "code",
   "execution_count": 86,
   "metadata": {},
   "outputs": [
    {
     "output_type": "stream",
     "name": "stdout",
     "text": [
      "['cool', 'no doubt']\nNone\n"
     ]
    }
   ],
   "source": [
    "#sorting\n",
    "print(sorted(b)) #returns a new string\n",
    "print(b.sort()) #returns none but sorts the original list"
   ]
  },
  {
   "cell_type": "code",
   "execution_count": 87,
   "metadata": {},
   "outputs": [
    {
     "output_type": "stream",
     "name": "stdout",
     "text": [
      "no doubt\ncool\n"
     ]
    }
   ],
   "source": [
    "#frevresed\n",
    "for i in reversed(b):\n",
    "    print(i)\n",
    "\n",
    "#or b.reversed()"
   ]
  },
  {
   "source": [
    "TUPLES\n",
    "> Ordered DS\n",
    ">> Immutable: thus fast and efficient\n",
    ">>> Accessed using index\n",
    ">>>> Heterogeneous"
   ],
   "cell_type": "markdown",
   "metadata": {}
  },
  {
   "cell_type": "code",
   "execution_count": 90,
   "metadata": {},
   "outputs": [],
   "source": [
    "t = (1, 2, 3, 4, 5, 'hii', 'supp')"
   ]
  },
  {
   "cell_type": "code",
   "execution_count": 93,
   "metadata": {},
   "outputs": [
    {
     "output_type": "stream",
     "name": "stdout",
     "text": [
      "3\n"
     ]
    }
   ],
   "source": [
    "print(t[2]) #access via index\n",
    "t.append(6) #observe the error --> tuples are immutable"
   ]
  },
  {
   "cell_type": "code",
   "execution_count": 95,
   "metadata": {},
   "outputs": [
    {
     "output_type": "stream",
     "name": "stdout",
     "text": [
      "('yooo', 'boii', 1, 2)\n"
     ]
    }
   ],
   "source": [
    "def func(*args):\n",
    "    print(args)\n",
    "func(\"yooo\", \"boii\", 1, 2) #notice that output is a tuple"
   ]
  },
  {
   "cell_type": "code",
   "execution_count": 101,
   "metadata": {},
   "outputs": [
    {
     "output_type": "stream",
     "name": "stdout",
     "text": [
      "1 2\n2 1\n"
     ]
    }
   ],
   "source": [
    "#swapping values of 2 variables using tuples --> only for int --> else use clasical approach of using temp or xor\n",
    "a = 1, 2 #if not () then it assumes as tuple\n",
    "c, d = a #using the python unpacking to assign values\n",
    "print(c, d)\n",
    "c, d = d, c #one line swap without variable\n",
    "print(c, d)"
   ]
  },
  {
   "cell_type": "code",
   "execution_count": 105,
   "metadata": {},
   "outputs": [
    {
     "output_type": "stream",
     "name": "stdout",
     "text": [
      "[1, 2]\n"
     ]
    },
    {
     "output_type": "execute_result",
     "data": {
      "text/plain": [
       "(1, 2)"
      ]
     },
     "metadata": {},
     "execution_count": 105
    }
   ],
   "source": [
    "#list to tuple \n",
    "l = list(a)\n",
    "print(l)\n",
    "l = tuple(l)\n",
    "l\n",
    "#we can also use tuple iterable to convert to list"
   ]
  },
  {
   "cell_type": "code",
   "execution_count": 111,
   "metadata": {},
   "outputs": [
    {
     "output_type": "stream",
     "name": "stdout",
     "text": [
      "(15, 5)\n9 3\n"
     ]
    }
   ],
   "source": [
    "def addSubtract (a, b):\n",
    "    return a+b, a-b #returning multiple values\n",
    "print(addSubtract(10, 5)) #NOTE the output is a tuple\n",
    "sum, diff = addSubtract(6, 3)\n",
    "print(sum, diff) # used tuple destructuring"
   ]
  },
  {
   "source": [
    "DICTIONARIES\n",
    ">Stores data in key-value pair\n",
    ">>order of data store is not maintained\n",
    ">>>accessed by using key"
   ],
   "cell_type": "markdown",
   "metadata": {}
  },
  {
   "cell_type": "code",
   "execution_count": 1,
   "metadata": {},
   "outputs": [],
   "source": [
    "d = {\n",
    "    \"name\": \"hi\",\n",
    "    \"ph no\": 51,\n",
    "    \"friends\": {\n",
    "        \"do not exist\": 100,\n",
    "        \"exist\": 0\n",
    "    }\n",
    "}"
   ]
  },
  {
   "cell_type": "code",
   "execution_count": 2,
   "metadata": {},
   "outputs": [
    {
     "output_type": "stream",
     "name": "stdout",
     "text": [
      "('name', 'hi')\n('ph no', 51)\n('friends', {'do not exist': 100, 'exist': 0})\n"
     ]
    }
   ],
   "source": [
    "for item in d.items():\n",
    "    print(item)"
   ]
  },
  {
   "cell_type": "code",
   "execution_count": 3,
   "metadata": {},
   "outputs": [],
   "source": [
    "#other methods include d.keys(), d.get()  <- safe method, d.clear()"
   ]
  },
  {
   "cell_type": "code",
   "execution_count": 5,
   "metadata": {},
   "outputs": [],
   "source": [
    "students = []\n",
    "for n in range(int(input())):\n",
    "    roll = int(input())\n",
    "    name = input()\n",
    "    branch = input()\n",
    "    students.append({\n",
    "        \"roll-no\" : roll,\n",
    "        \"name\" : name,\n",
    "        \"branch\" : branch\n",
    "    })#keys can be any immutabe ds i.e. list cannot be used"
   ]
  },
  {
   "source": [
    "SETS\n",
    ">unordered DS\n",
    ">>it not meant to be iterated\n",
    ">>>unique collection of items (no duplicates)"
   ],
   "cell_type": "markdown",
   "metadata": {}
  },
  {
   "cell_type": "code",
   "execution_count": 8,
   "metadata": {},
   "outputs": [
    {
     "output_type": "execute_result",
     "data": {
      "text/plain": [
       "{1, 2, 3, 4}"
      ]
     },
     "metadata": {},
     "execution_count": 8
    }
   ],
   "source": [
    "s = {1, 2, 3, 3, 4}\n",
    "s"
   ]
  },
  {
   "cell_type": "code",
   "execution_count": 10,
   "metadata": {},
   "outputs": [],
   "source": [
    "#to create empty set, we use set() function"
   ]
  },
  {
   "cell_type": "code",
   "execution_count": 11,
   "metadata": {},
   "outputs": [],
   "source": [
    "t = {2, 4, 3, 6}"
   ]
  },
  {
   "cell_type": "code",
   "execution_count": 12,
   "metadata": {},
   "outputs": [
    {
     "output_type": "execute_result",
     "data": {
      "text/plain": [
       "{2, 3, 4}"
      ]
     },
     "metadata": {},
     "execution_count": 12
    }
   ],
   "source": [
    "s.intersection(t)"
   ]
  },
  {
   "cell_type": "code",
   "execution_count": 13,
   "metadata": {},
   "outputs": [
    {
     "output_type": "execute_result",
     "data": {
      "text/plain": [
       "{1, 2, 3, 4, 6}"
      ]
     },
     "metadata": {},
     "execution_count": 13
    }
   ],
   "source": [
    "s.union(t)"
   ]
  },
  {
   "cell_type": "code",
   "execution_count": 14,
   "metadata": {},
   "outputs": [
    {
     "output_type": "execute_result",
     "data": {
      "text/plain": [
       "{1}"
      ]
     },
     "metadata": {},
     "execution_count": 14
    }
   ],
   "source": [
    "s-t"
   ]
  },
  {
   "cell_type": "code",
   "execution_count": 17,
   "metadata": {},
   "outputs": [
    {
     "output_type": "execute_result",
     "data": {
      "text/plain": [
       "4"
      ]
     },
     "metadata": {},
     "execution_count": 17
    }
   ],
   "source": [
    "len(s) #wont change and also will always be arranged in ascending order"
   ]
  },
  {
   "cell_type": "code",
   "execution_count": 19,
   "metadata": {},
   "outputs": [
    {
     "output_type": "execute_result",
     "data": {
      "text/plain": [
       "[1, 2, 3, 5, 6]"
      ]
     },
     "metadata": {},
     "execution_count": 19
    }
   ],
   "source": [
    "#de-duplication \n",
    "p = [1, 3, 3, 6, 3, 2, 5]\n",
    "list(set(p))"
   ]
  },
  {
   "source": [
    "COMPREHENSION"
   ],
   "cell_type": "markdown",
   "metadata": {}
  },
  {
   "cell_type": "code",
   "execution_count": 20,
   "metadata": {},
   "outputs": [],
   "source": [
    "#classical approach\n",
    "a = []\n",
    "for i in range(10):\n",
    "    a.append(i**2)"
   ]
  },
  {
   "cell_type": "code",
   "execution_count": 21,
   "metadata": {},
   "outputs": [
    {
     "output_type": "execute_result",
     "data": {
      "text/plain": [
       "[0, 1, 4, 9, 16, 25, 36, 49, 64, 81]"
      ]
     },
     "metadata": {},
     "execution_count": 21
    }
   ],
   "source": [
    "#comprehensive approach\n",
    "[i**2 for i in range(10)]"
   ]
  },
  {
   "cell_type": "code",
   "execution_count": 22,
   "metadata": {},
   "outputs": [
    {
     "output_type": "execute_result",
     "data": {
      "text/plain": [
       "[0, 4, 16, 36, 64]"
      ]
     },
     "metadata": {},
     "execution_count": 22
    }
   ],
   "source": [
    "#for filtering even numbers only\n",
    "[i**2 for i in range(10) if i%2 == 0]"
   ]
  },
  {
   "cell_type": "code",
   "execution_count": 23,
   "metadata": {},
   "outputs": [
    {
     "output_type": "execute_result",
     "data": {
      "text/plain": [
       "{1: 1, 3: 9, 5: 25, 7: 49, 9: 81}"
      ]
     },
     "metadata": {},
     "execution_count": 23
    }
   ],
   "source": [
    "#works on dictionary as well\n",
    "{i: i**2 for i in range(10) if i%2 != 0}"
   ]
  },
  {
   "cell_type": "code",
   "execution_count": 24,
   "metadata": {},
   "outputs": [
    {
     "output_type": "execute_result",
     "data": {
      "text/plain": [
       "{1, 9, 25, 49, 81}"
      ]
     },
     "metadata": {},
     "execution_count": 24
    }
   ],
   "source": [
    "#for sets\n",
    "{i**2 for i in range(10) if i%2 != 0}"
   ]
  },
  {
   "cell_type": "code",
   "execution_count": 25,
   "metadata": {},
   "outputs": [],
   "source": [
    "#tuple comprehension is not possible, its called generator expression"
   ]
  },
  {
   "cell_type": "code",
   "execution_count": null,
   "metadata": {},
   "outputs": [],
   "source": []
  }
 ]
}