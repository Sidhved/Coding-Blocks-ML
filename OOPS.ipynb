{
 "metadata": {
  "language_info": {
   "codemirror_mode": {
    "name": "ipython",
    "version": 3
   },
   "file_extension": ".py",
   "mimetype": "text/x-python",
   "name": "python",
   "nbconvert_exporter": "python",
   "pygments_lexer": "ipython3",
   "version": "3.8.5-final"
  },
  "orig_nbformat": 2,
  "kernelspec": {
   "name": "python3",
   "display_name": "Python 3.8.5 64-bit (conda)",
   "metadata": {
    "interpreter": {
     "hash": "cd8ac7ed5329ff1f59a8356dfddf06d159cf18414acbfd7b13d1d5cd1cbb5d7d"
    }
   }
  }
 },
 "nbformat": 4,
 "nbformat_minor": 2,
 "cells": [
  {
   "source": [
    "CLASS\n",
    ">blueprint for objects\n",
    ">>can provide attributes, behaviours, etc"
   ],
   "cell_type": "markdown",
   "metadata": {}
  },
  {
   "source": [
    "3 pillars:\n",
    ">Encapsulation\n",
    ">>Abstraction \n",
    ">>>Inheritance\n",
    ">>>>Polymorphism"
   ],
   "cell_type": "markdown",
   "metadata": {}
  },
  {
   "cell_type": "code",
   "execution_count": 3,
   "metadata": {},
   "outputs": [
    {
     "output_type": "stream",
     "name": "stdout",
     "text": [
      "<__main__.Person object at 0x000001801B1FCB50>\n"
     ]
    }
   ],
   "source": [
    "class Person:\n",
    "    pass #empty class\n",
    "P = Person()\n",
    "print(P)"
   ]
  },
  {
   "cell_type": "code",
   "execution_count": 4,
   "metadata": {},
   "outputs": [],
   "source": [
    "#python thinks everything as an object"
   ]
  },
  {
   "cell_type": "code",
   "execution_count": 7,
   "metadata": {},
   "outputs": [
    {
     "output_type": "stream",
     "name": "stdout",
     "text": [
      "Hi, my name is Chandler Bing... I make jokes\n"
     ]
    }
   ],
   "source": [
    "class Person:\n",
    "    name = \"Chandler Bing\"\n",
    "    def say_hi(self):\n",
    "        print(\"Hi, my name is\", self.name + \"... I make jokes\")\n",
    "p = Person()\n",
    "p.say_hi()"
   ]
  },
  {
   "cell_type": "code",
   "execution_count": 10,
   "metadata": {},
   "outputs": [
    {
     "output_type": "stream",
     "name": "stdout",
     "text": [
      "Hi, my name is Chandler Bing... I make jokes\n"
     ]
    }
   ],
   "source": [
    "Person.say_hi(p)#other way for calling the method"
   ]
  },
  {
   "cell_type": "code",
   "execution_count": 16,
   "metadata": {},
   "outputs": [
    {
     "output_type": "stream",
     "name": "stdout",
     "text": [
      "new object\nCool Cool Cool \nNo Doubt No Doubt No Doubt \nCool Cool Cool \nNo Doubt No Doubt No Doubt \n"
     ]
    }
   ],
   "source": [
    "class Person:\n",
    "    def __init__(self, name):\n",
    "        self.name = name\n",
    "        print(\"new object\")\n",
    "    def say_cool(self):\n",
    "        print(\"Cool \"*3 +\"\\n\"+ \"No Doubt \"*3)\n",
    "\n",
    "j = Person(\"Jake\")\n",
    "j.say_cool()\n",
    "\n",
    "Person.say_cool(j)"
   ]
  },
  {
   "cell_type": "code",
   "execution_count": null,
   "metadata": {},
   "outputs": [],
   "source": []
  }
 ]
}