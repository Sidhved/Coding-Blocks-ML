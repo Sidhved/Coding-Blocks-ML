{
 "metadata": {
  "language_info": {
   "codemirror_mode": {
    "name": "ipython",
    "version": 3
   },
   "file_extension": ".py",
   "mimetype": "text/x-python",
   "name": "python",
   "nbconvert_exporter": "python",
   "pygments_lexer": "ipython3",
   "version": "3.8.5"
  },
  "orig_nbformat": 2,
  "kernelspec": {
   "name": "python385jvsc74a57bd0cd8ac7ed5329ff1f59a8356dfddf06d159cf18414acbfd7b13d1d5cd1cbb5d7d",
   "display_name": "Python 3.8.5 64-bit ('base': conda)"
  }
 },
 "nbformat": 4,
 "nbformat_minor": 2,
 "cells": [
  {
   "source": [
    "<h1>CLASS<h3>\n",
    ">blueprint for objects<h3>\n",
    ">can provide attributes, behaviours, etc"
   ],
   "cell_type": "markdown",
   "metadata": {}
  },
  {
   "source": [
    "<h1>3 pillars:<h3>\n",
    ">Encapsulation<h3>\n",
    ">Abstraction <h3>\n",
    ">Inheritance<h3>\n",
    ">Polymorphism<h3>"
   ],
   "cell_type": "markdown",
   "metadata": {}
  },
  {
   "cell_type": "code",
   "execution_count": 1,
   "metadata": {},
   "outputs": [
    {
     "output_type": "stream",
     "name": "stdout",
     "text": [
      "<__main__.Person object at 0x00000267D2A4E220>\n"
     ]
    }
   ],
   "source": [
    "class Person:\n",
    "    pass #empty class\n",
    "P = Person()\n",
    "print(P)"
   ]
  },
  {
   "cell_type": "code",
   "execution_count": 2,
   "metadata": {},
   "outputs": [],
   "source": [
    "#python thinks everything as an object"
   ]
  },
  {
   "cell_type": "code",
   "execution_count": 3,
   "metadata": {},
   "outputs": [
    {
     "output_type": "stream",
     "name": "stdout",
     "text": [
      "Hi, my name is Chandler Bing... I make jokes\n"
     ]
    }
   ],
   "source": [
    "class Person:\n",
    "    name = \"Chandler Bing\"\n",
    "    def say_hi(self):\n",
    "        print(\"Hi, my name is\", self.name + \"... I make jokes\")\n",
    "p = Person()\n",
    "p.say_hi()"
   ]
  },
  {
   "cell_type": "code",
   "execution_count": 4,
   "metadata": {},
   "outputs": [
    {
     "output_type": "stream",
     "name": "stdout",
     "text": [
      "Hi, my name is Chandler Bing... I make jokes\n"
     ]
    }
   ],
   "source": [
    "Person.say_hi(p)#other way for calling the method"
   ]
  },
  {
   "cell_type": "code",
   "execution_count": 5,
   "metadata": {},
   "outputs": [
    {
     "output_type": "stream",
     "name": "stdout",
     "text": [
      "new object\nCool Cool Cool \nNo Doubt No Doubt No Doubt \nCool Cool Cool \nNo Doubt No Doubt No Doubt \n"
     ]
    }
   ],
   "source": [
    "class Person:\n",
    "    def __init__(self, name):\n",
    "        self.name = name\n",
    "        print(\"new object\")\n",
    "    def say_cool(self):\n",
    "        print(\"Cool \"*3 +\"\\n\"+ \"No Doubt \"*3)\n",
    "\n",
    "j = Person(\"Jake\")\n",
    "j.say_cool()\n",
    "\n",
    "Person.say_cool(j)"
   ]
  },
  {
   "source": [
    "<h3>>__init__(self)   Create <h3>\n",
    ">__del__(self)   Delete <h3>\n",
    ">__add__(self, other)   Adding different obj <h3>\n",
    ">__str__(self) Convert obj to str <h3>\n",
    ">__eq__(sefl, other) Compare for equality <h3>"
   ],
   "cell_type": "markdown",
   "metadata": {}
  },
  {
   "source": [
    "<h1> DUNDERS or MAGIC FUNCTION"
   ],
   "cell_type": "markdown",
   "metadata": {}
  },
  {
   "cell_type": "code",
   "execution_count": 6,
   "metadata": {},
   "outputs": [],
   "source": [
    "class Cars:\n",
    "    def __init__(self, model, milage):\n",
    "        self.model = model\n",
    "        self.milage = milage\n",
    "    def __str__(self):\n",
    "        return \"{} {}\".format(self.model, self.milage)\n",
    "    def __repr__(self):\n",
    "        return \"{}\".format(self.model)\n",
    "    def __eq__(self, other):\n",
    "        return self.milage == other.milage\n",
    "    def __add__(self, other):\n",
    "        return self.milage + other.milage"
   ]
  },
  {
   "cell_type": "code",
   "execution_count": 7,
   "metadata": {},
   "outputs": [],
   "source": [
    "c1 = Cars('a', 2)\n",
    "c2 = Cars('b', 2)"
   ]
  },
  {
   "cell_type": "code",
   "execution_count": 8,
   "metadata": {},
   "outputs": [
    {
     "output_type": "execute_result",
     "data": {
      "text/plain": [
       "4"
      ]
     },
     "metadata": {},
     "execution_count": 8
    }
   ],
   "source": [
    "c1 + c2"
   ]
  },
  {
   "cell_type": "code",
   "execution_count": 9,
   "metadata": {},
   "outputs": [],
   "source": [
    "class Ostream:\n",
    "    def __lshift__(self, other):\n",
    "        print(other, end = '')\n",
    "        return self\n",
    "\n",
    "cout = Ostream()"
   ]
  },
  {
   "cell_type": "code",
   "execution_count": 10,
   "metadata": {},
   "outputs": [
    {
     "output_type": "stream",
     "name": "stdout",
     "text": [
      "AmySantiago"
     ]
    },
    {
     "output_type": "execute_result",
     "data": {
      "text/plain": [
       "<__main__.Ostream at 0x267d2a92190>"
      ]
     },
     "metadata": {},
     "execution_count": 10
    }
   ],
   "source": [
    "cout << \"Amy\" << \"Santiago\""
   ]
  },
  {
   "source": [
    "<h3>Class of Dog\n",
    "-> attribute kind\n",
    "-> list of tricks that the dog can perform\n",
    "When the object of Dog is initialised, the blueprint (attributes, methods, etc) are copied to a new instance and the __init__ method is called\n"
   ],
   "cell_type": "markdown",
   "metadata": {}
  },
  {
   "cell_type": "code",
   "execution_count": 14,
   "metadata": {},
   "outputs": [],
   "source": [
    "class Dog:\n",
    "    kind = 'canine'     #class variable shared by all instances\n",
    "    def __init__(self, name):\n",
    "        self.name = name    #instance variable unique to each instance"
   ]
  },
  {
   "cell_type": "code",
   "execution_count": 16,
   "metadata": {},
   "outputs": [
    {
     "output_type": "stream",
     "name": "stdout",
     "text": [
      "canine\nPowWow\n"
     ]
    }
   ],
   "source": [
    "a = Dog(\"PowWow\")\n",
    "print(a.kind)\n",
    "print(a.name)"
   ]
  },
  {
   "cell_type": "code",
   "execution_count": 17,
   "metadata": {},
   "outputs": [
    {
     "output_type": "stream",
     "name": "stdout",
     "text": [
      "not PowWow original\n"
     ]
    }
   ],
   "source": [
    "b = Dog(\"PowWow1\")\n",
    "b.kind = 'not PowWow original'\n",
    "print(b.kind)"
   ]
  },
  {
   "cell_type": "code",
   "execution_count": 18,
   "metadata": {},
   "outputs": [],
   "source": [
    "class DOG:\n",
    "    tricks = []         #mistaken use of class variable\n",
    "    def __init__(self, name):\n",
    "        self.name = name\n",
    "        \n",
    "    def add_trick(self, trick):\n",
    "        self.tricks.append(trick)"
   ]
  },
  {
   "cell_type": "code",
   "execution_count": 19,
   "metadata": {},
   "outputs": [],
   "source": [
    "c = DOG(\"PowWow2\")\n",
    "c.add_trick(\"Bark\")\n",
    "c.add_trick(\"Fetch\")"
   ]
  },
  {
   "cell_type": "code",
   "execution_count": 23,
   "metadata": {},
   "outputs": [
    {
     "output_type": "execute_result",
     "data": {
      "text/plain": [
       "['Bark', 'Fetch']"
      ]
     },
     "metadata": {},
     "execution_count": 23
    }
   ],
   "source": [
    "d = DOG(\"PowWow3\")\n",
    "d.tricks\n",
    "#observe how d copiestricks of c due to equivalence \n",
    "#to avoid it, initialize tricks inside init thus making it instance variable"
   ]
  },
  {
   "source": [
    "<h2>Inheritance\n"
   ],
   "cell_type": "markdown",
   "metadata": {}
  },
  {
   "cell_type": "code",
   "execution_count": 34,
   "metadata": {},
   "outputs": [
    {
     "output_type": "stream",
     "name": "stdout",
     "text": [
      "Initialised School Member Raymond Holt\nInitialised Teacher Raymond Holt\nInitialised School Member Jake Peralta\nInitialised Jake Peralta\nName = Jake Peralta\t Age = 20 Marks = 100\n"
     ]
    }
   ],
   "source": [
    "class SchoolMember:\n",
    "    def __init__(self, name, age):\n",
    "        self.name = name\n",
    "        self.age = age\n",
    "        print(f\"Initialised School Member {self.name}\")\n",
    "    \n",
    "    def tell(self):\n",
    "        print(f\"Name = {self.name}\\t Age = {self.age}\", end= \" \")\n",
    "    \n",
    "class Teacher(SchoolMember):\n",
    "    def __init__(self, name, age, salary):\n",
    "        super().__init__(name, age)\n",
    "        self.salary = salary\n",
    "        print(f\"Initialised Teacher {self.name}\")\n",
    "\n",
    "    def tell(self):\n",
    "        super().tell()\n",
    "        print(f\"Salary = {self.salary}\", end = \" \")\n",
    "\n",
    "class Student(SchoolMember):\n",
    "    def __init__(self, name, age, marks):\n",
    "        super().__init__(name, age)\n",
    "        self.marks = marks\n",
    "        print(f\"Initialised {self.name}\")\n",
    "    \n",
    "    def tell(self):\n",
    "        super().tell()\n",
    "        print(f\"Marks = {self.marks}\")\n",
    "\n",
    "if __name__ == \"__main__\":\n",
    "    t = Teacher(\"Raymond Holt\", 40, 10000)\n",
    "    s = Student(\"Jake Peralta\", 20, 100)\n",
    "    s.tell()"
   ]
  },
  {
   "source": [
    "<h3>>Overloading   -> not supported in python<h3>\n",
    ">Overriding"
   ],
   "cell_type": "markdown",
   "metadata": {}
  },
  {
   "source": [
    "## MRO - Method Resolution Order"
   ],
   "cell_type": "markdown",
   "metadata": {}
  },
  {
   "source": [
    "    A\n",
    "   / \\<br>\n",
    "  B   C<br>\n",
    "   |    |<br>\n",
    "    |   D<br>\n",
    "     | /<br>\n",
    "      E  <br>\n",
    "\n",
    "Ambiguity in multiple inheritance<br>\n",
    "Python used C3 Linearization algoorithm<br>\n",
    "Similar to DFS but here it is given that a node will be traversed only if all of it child nodes are traversed<br>\n",
    "While traversing we go for bottom up approach with backtracking"
   ],
   "cell_type": "markdown",
   "metadata": {}
  },
  {
   "cell_type": "code",
   "execution_count": 1,
   "metadata": {},
   "outputs": [],
   "source": [
    "class A:\n",
    "    x = 10\n",
    "class B(A):\n",
    "    pass\n",
    "class C(A):\n",
    "    pass\n",
    "class D(C):\n",
    "    x = 5\n",
    "class E(B, D):\n",
    "    pass "
   ]
  },
  {
   "cell_type": "code",
   "execution_count": 3,
   "metadata": {},
   "outputs": [
    {
     "output_type": "stream",
     "name": "stdout",
     "text": [
      "5\n(<class '__main__.E'>, <class '__main__.B'>, <class '__main__.D'>, <class '__main__.C'>, <class '__main__.A'>, <class 'object'>)\n"
     ]
    }
   ],
   "source": [
    "print(E.x)\n",
    "print(E.__mro__)"
   ]
  },
  {
   "source": [
    "## Modules in Python "
   ],
   "cell_type": "markdown",
   "metadata": {}
  },
  {
   "cell_type": "code",
   "execution_count": 4,
   "metadata": {},
   "outputs": [
    {
     "output_type": "stream",
     "name": "stdout",
     "text": [
      "Hello World!!\n"
     ]
    }
   ],
   "source": [
    "print(\"Hello World!!\")"
   ]
  },
  {
   "cell_type": "code",
   "execution_count": 5,
   "metadata": {},
   "outputs": [],
   "source": [
    "def func():\n",
    "    print(\"Hello\")"
   ]
  },
  {
   "cell_type": "code",
   "execution_count": 6,
   "metadata": {},
   "outputs": [
    {
     "output_type": "stream",
     "name": "stdout",
     "text": [
      "Hello\n"
     ]
    }
   ],
   "source": [
    "func()"
   ]
  },
  {
   "cell_type": "code",
   "execution_count": null,
   "metadata": {},
   "outputs": [],
   "source": []
  }
 ]
}