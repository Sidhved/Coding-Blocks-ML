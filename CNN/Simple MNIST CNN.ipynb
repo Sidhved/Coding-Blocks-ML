{
 "cells": [
  {
   "cell_type": "code",
   "execution_count": 2,
   "source": [
    "from keras.layers import *\r\n",
    "from keras.models import Sequential"
   ],
   "outputs": [],
   "metadata": {}
  },
  {
   "cell_type": "code",
   "execution_count": 3,
   "source": [
    "model = Sequential()\r\n",
    "model.add(Conv2D(32, (3, 3), activation='relu', input_shape=(28, 28, 1)))\r\n",
    "model.add(MaxPool2D((2, 2)))\r\n",
    "model.add(Conv2D(64, (3, 3), activation='relu', input_shape=(28, 28, 1)))\r\n",
    "model.add(MaxPool2D((2,2)))\r\n",
    "model.add(Conv2D(64, (3, 3), activation='relu', input_shape=(28, 28, 1)))\r\n",
    "model.add(Flatten())\r\n",
    "model.add(Flatten())\r\n",
    "model.add(Dense(64, activation='relu'))\r\n",
    "model.add(Dense(10, activation='softmax'))\r\n",
    "model.summary()"
   ],
   "outputs": [
    {
     "output_type": "stream",
     "name": "stdout",
     "text": [
      "Model: \"sequential\"\n",
      "_________________________________________________________________\n",
      "Layer (type)                 Output Shape              Param #   \n",
      "=================================================================\n",
      "conv2d (Conv2D)              (None, 26, 26, 32)        320       \n",
      "_________________________________________________________________\n",
      "max_pooling2d (MaxPooling2D) (None, 13, 13, 32)        0         \n",
      "_________________________________________________________________\n",
      "conv2d_1 (Conv2D)            (None, 11, 11, 64)        18496     \n",
      "_________________________________________________________________\n",
      "max_pooling2d_1 (MaxPooling2 (None, 5, 5, 64)          0         \n",
      "_________________________________________________________________\n",
      "conv2d_2 (Conv2D)            (None, 3, 3, 64)          36928     \n",
      "_________________________________________________________________\n",
      "flatten (Flatten)            (None, 576)               0         \n",
      "_________________________________________________________________\n",
      "flatten_1 (Flatten)          (None, 576)               0         \n",
      "_________________________________________________________________\n",
      "dense (Dense)                (None, 64)                36928     \n",
      "_________________________________________________________________\n",
      "dense_1 (Dense)              (None, 10)                650       \n",
      "=================================================================\n",
      "Total params: 93,322\n",
      "Trainable params: 93,322\n",
      "Non-trainable params: 0\n",
      "_________________________________________________________________\n"
     ]
    }
   ],
   "metadata": {}
  },
  {
   "cell_type": "code",
   "execution_count": 1,
   "source": [
    "#Dataset\r\n",
    "from keras.datasets import mnist\r\n",
    "from tensorflow.keras.utils import to_categorical\r\n",
    "(XTrain,YTrain),(XTest,YTest) = mnist.load_data()"
   ],
   "outputs": [],
   "metadata": {}
  },
  {
   "cell_type": "code",
   "execution_count": 5,
   "source": [
    "def preprocess_data(X, Y):\r\n",
    "    X = X.reshape((-1, 28, 28, 1))\r\n",
    "    X = X/255.0\r\n",
    "    Y = to_categorical(Y)\r\n",
    "    return X, Y\r\n",
    "\r\n",
    "XTrain, YTrain = preprocess_data(XTrain, YTrain)\r\n",
    "print(XTrain.shape, YTrain.shape)\r\n",
    "\r\n",
    "XTest, YTest = preprocess_data(XTest, YTest)\r\n",
    "print(XTest.shape, YTest.shape)"
   ],
   "outputs": [
    {
     "output_type": "stream",
     "name": "stdout",
     "text": [
      "(60000, 28, 28, 1) (60000, 10)\n",
      "(10000, 28, 28, 1) (10000, 10)\n"
     ]
    }
   ],
   "metadata": {}
  },
  {
   "cell_type": "code",
   "execution_count": 6,
   "source": [
    "model.compile(optimizer='adam', loss='categorical_crossentropy', metrics=['accuracy'])\r\n",
    "hist = model.fit(XTrain, YTrain, epochs=20, validation_split=0.1, batch_size=128)"
   ],
   "outputs": [
    {
     "output_type": "stream",
     "name": "stdout",
     "text": [
      "Epoch 1/20\n",
      "422/422 [==============================] - 72s 73ms/step - loss: 0.6234 - accuracy: 0.8125 - val_loss: 0.0678 - val_accuracy: 0.9807\n",
      "Epoch 2/20\n",
      "422/422 [==============================] - 27s 65ms/step - loss: 0.0747 - accuracy: 0.9771 - val_loss: 0.0507 - val_accuracy: 0.9852\n",
      "Epoch 3/20\n",
      "422/422 [==============================] - 27s 65ms/step - loss: 0.0482 - accuracy: 0.9860 - val_loss: 0.0438 - val_accuracy: 0.9870\n",
      "Epoch 4/20\n",
      "422/422 [==============================] - 27s 64ms/step - loss: 0.0366 - accuracy: 0.9888 - val_loss: 0.0443 - val_accuracy: 0.9865\n",
      "Epoch 5/20\n",
      "422/422 [==============================] - 28s 67ms/step - loss: 0.0280 - accuracy: 0.9917 - val_loss: 0.0312 - val_accuracy: 0.9907\n",
      "Epoch 6/20\n",
      "422/422 [==============================] - 24s 58ms/step - loss: 0.0216 - accuracy: 0.9930 - val_loss: 0.0313 - val_accuracy: 0.9910\n",
      "Epoch 7/20\n",
      "422/422 [==============================] - 26s 61ms/step - loss: 0.0212 - accuracy: 0.9935 - val_loss: 0.0316 - val_accuracy: 0.9908\n",
      "Epoch 8/20\n",
      "422/422 [==============================] - 26s 63ms/step - loss: 0.0152 - accuracy: 0.9952 - val_loss: 0.0280 - val_accuracy: 0.9907\n",
      "Epoch 9/20\n",
      "422/422 [==============================] - 25s 59ms/step - loss: 0.0136 - accuracy: 0.9955 - val_loss: 0.0335 - val_accuracy: 0.9897\n",
      "Epoch 10/20\n",
      "422/422 [==============================] - 25s 59ms/step - loss: 0.0109 - accuracy: 0.9964 - val_loss: 0.0349 - val_accuracy: 0.9908\n",
      "Epoch 11/20\n",
      "422/422 [==============================] - 24s 58ms/step - loss: 0.0109 - accuracy: 0.9960 - val_loss: 0.0400 - val_accuracy: 0.9897\n",
      "Epoch 12/20\n",
      "422/422 [==============================] - 25s 60ms/step - loss: 0.0078 - accuracy: 0.9976 - val_loss: 0.0337 - val_accuracy: 0.9925\n",
      "Epoch 13/20\n",
      "422/422 [==============================] - 25s 59ms/step - loss: 0.0077 - accuracy: 0.9973 - val_loss: 0.0367 - val_accuracy: 0.9922\n",
      "Epoch 14/20\n",
      "422/422 [==============================] - 27s 65ms/step - loss: 0.0061 - accuracy: 0.9975 - val_loss: 0.0404 - val_accuracy: 0.9913\n",
      "Epoch 15/20\n",
      "422/422 [==============================] - 32s 77ms/step - loss: 0.0056 - accuracy: 0.9983 - val_loss: 0.0525 - val_accuracy: 0.9892\n",
      "Epoch 16/20\n",
      "422/422 [==============================] - 32s 77ms/step - loss: 0.0085 - accuracy: 0.9972 - val_loss: 0.0382 - val_accuracy: 0.9925\n",
      "Epoch 17/20\n",
      "422/422 [==============================] - 32s 77ms/step - loss: 0.0040 - accuracy: 0.9987 - val_loss: 0.0397 - val_accuracy: 0.9920\n",
      "Epoch 18/20\n",
      "422/422 [==============================] - 32s 77ms/step - loss: 0.0061 - accuracy: 0.9980 - val_loss: 0.0383 - val_accuracy: 0.9917\n",
      "Epoch 19/20\n",
      "422/422 [==============================] - 32s 76ms/step - loss: 0.0045 - accuracy: 0.9984 - val_loss: 0.0407 - val_accuracy: 0.9905\n",
      "Epoch 20/20\n",
      "422/422 [==============================] - 31s 73ms/step - loss: 0.0048 - accuracy: 0.9984 - val_loss: 0.0451 - val_accuracy: 0.9913\n"
     ]
    }
   ],
   "metadata": {}
  },
  {
   "cell_type": "code",
   "execution_count": 7,
   "source": [
    "model.evaluate(XTest, YTest)"
   ],
   "outputs": [
    {
     "output_type": "stream",
     "name": "stdout",
     "text": [
      "313/313 [==============================] - 2s 6ms/step - loss: 0.0351 - accuracy: 0.9924\n"
     ]
    },
    {
     "output_type": "execute_result",
     "data": {
      "text/plain": [
       "[0.03508807346224785, 0.9923999905586243]"
      ]
     },
     "metadata": {},
     "execution_count": 7
    }
   ],
   "metadata": {}
  },
  {
   "cell_type": "code",
   "execution_count": 8,
   "source": [
    "#building a model without pooling\r\n",
    "#pooling reduces params, increses receptive firld of the network\r\n",
    "\r\n",
    "model = Sequential()\r\n",
    "model.add(Conv2D(32, (3, 3), activation='relu', input_shape= (28, 28, 1)))\r\n",
    "model.add(Conv2D(32, (3, 3), activation='relu', input_shape= (28, 28, 1)))\r\n",
    "model.add(Conv2D(32, (3, 3), activation='relu', input_shape= (28, 28, 1)))\r\n",
    "model.add(Flatten())\r\n",
    "model.add(Dense(64, activation='relu'))\r\n",
    "model.add(Dense(10, activation='softmax'))\r\n",
    "model.summary()"
   ],
   "outputs": [
    {
     "output_type": "stream",
     "name": "stdout",
     "text": [
      "Model: \"sequential_1\"\n",
      "_________________________________________________________________\n",
      "Layer (type)                 Output Shape              Param #   \n",
      "=================================================================\n",
      "conv2d_3 (Conv2D)            (None, 26, 26, 32)        320       \n",
      "_________________________________________________________________\n",
      "conv2d_4 (Conv2D)            (None, 24, 24, 32)        9248      \n",
      "_________________________________________________________________\n",
      "conv2d_5 (Conv2D)            (None, 22, 22, 32)        9248      \n",
      "_________________________________________________________________\n",
      "flatten_2 (Flatten)          (None, 15488)             0         \n",
      "_________________________________________________________________\n",
      "dense_2 (Dense)              (None, 64)                991296    \n",
      "_________________________________________________________________\n",
      "dense_3 (Dense)              (None, 10)                650       \n",
      "=================================================================\n",
      "Total params: 1,010,762\n",
      "Trainable params: 1,010,762\n",
      "Non-trainable params: 0\n",
      "_________________________________________________________________\n"
     ]
    }
   ],
   "metadata": {}
  }
 ],
 "metadata": {
  "orig_nbformat": 4,
  "language_info": {
   "name": "python",
   "version": "3.8.5",
   "mimetype": "text/x-python",
   "codemirror_mode": {
    "name": "ipython",
    "version": 3
   },
   "pygments_lexer": "ipython3",
   "nbconvert_exporter": "python",
   "file_extension": ".py"
  },
  "kernelspec": {
   "name": "python3",
   "display_name": "Python 3.8.5 64-bit ('base': conda)"
  },
  "interpreter": {
   "hash": "cd8ac7ed5329ff1f59a8356dfddf06d159cf18414acbfd7b13d1d5cd1cbb5d7d"
  }
 },
 "nbformat": 4,
 "nbformat_minor": 2
}