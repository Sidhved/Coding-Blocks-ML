{
 "cells": [
  {
   "cell_type": "code",
   "execution_count": 1,
   "source": [
    "import numpy as np\r\n",
    "import matplotlib.pyplot as plt"
   ],
   "outputs": [],
   "metadata": {}
  },
  {
   "cell_type": "code",
   "execution_count": 2,
   "source": [
    "Physics_std = 5\r\n",
    "Physics_mean = 80\r\n",
    "Physics = np.round(np.random.randn(500)*Physics_std + Physics_mean)\r\n",
    "Maths = np.round(np.random.randn(500)*10 + 40)"
   ],
   "outputs": [],
   "metadata": {}
  },
  {
   "cell_type": "code",
   "execution_count": 3,
   "source": [
    "print(Physics)\r\n",
    "print(Maths)"
   ],
   "outputs": [
    {
     "output_type": "stream",
     "name": "stdout",
     "text": [
      "[80. 83. 74. 79. 93. 74. 77. 84. 72. 82. 83. 68. 74. 77. 76. 75. 74. 77.\n",
      " 75. 86. 75. 75. 77. 78. 76. 86. 74. 86. 75. 85. 79. 77. 77. 76. 83. 88.\n",
      " 81. 75. 79. 76. 76. 77. 79. 75. 81. 82. 70. 80. 89. 79. 80. 86. 82. 77.\n",
      " 87. 71. 80. 71. 80. 80. 87. 85. 88. 79. 78. 88. 78. 93. 72. 84. 84. 75.\n",
      " 86. 86. 73. 85. 79. 84. 79. 82. 83. 73. 79. 78. 79. 81. 84. 83. 75. 84.\n",
      " 79. 79. 79. 78. 84. 83. 82. 79. 82. 87. 77. 72. 76. 85. 70. 79. 84. 79.\n",
      " 87. 78. 88. 77. 80. 76. 81. 73. 84. 84. 83. 79. 78. 75. 79. 92. 80. 83.\n",
      " 85. 81. 85. 81. 83. 90. 76. 80. 77. 66. 85. 77. 79. 88. 76. 71. 77. 83.\n",
      " 82. 77. 78. 84. 81. 83. 88. 80. 86. 83. 80. 74. 71. 73. 77. 74. 82. 83.\n",
      " 81. 69. 74. 78. 85. 75. 76. 78. 76. 81. 78. 84. 84. 85. 84. 75. 82. 86.\n",
      " 66. 83. 69. 80. 80. 89. 80. 80. 81. 79. 79. 80. 80. 70. 73. 85. 80. 86.\n",
      " 79. 87. 83. 80. 80. 78. 83. 72. 82. 75. 79. 84. 82. 75. 70. 82. 81. 78.\n",
      " 82. 82. 82. 76. 74. 83. 85. 77. 85. 75. 78. 87. 71. 77. 77. 70. 78. 78.\n",
      " 77. 81. 81. 80. 81. 78. 68. 81. 72. 80. 85. 76. 84. 89. 76. 76. 81. 84.\n",
      " 73. 72. 83. 82. 81. 83. 75. 91. 82. 77. 79. 73. 81. 78. 82. 83. 80. 79.\n",
      " 82. 88. 85. 81. 91. 91. 70. 77. 83. 81. 86. 90. 89. 85. 78. 83. 90. 84.\n",
      " 84. 86. 82. 83. 85. 83. 81. 87. 79. 78. 79. 71. 86. 83. 78. 85. 77. 81.\n",
      " 81. 86. 82. 84. 87. 74. 77. 81. 88. 84. 76. 76. 85. 77. 83. 72. 78. 80.\n",
      " 89. 77. 82. 77. 82. 92. 88. 78. 72. 76. 83. 69. 85. 76. 78. 77. 79. 86.\n",
      " 76. 83. 78. 82. 82. 85. 77. 90. 71. 81. 83. 78. 73. 67. 81. 84. 87. 78.\n",
      " 81. 77. 77. 86. 75. 74. 76. 83. 88. 79. 89. 85. 83. 80. 81. 73. 84. 81.\n",
      " 80. 73. 77. 75. 86. 81. 81. 83. 88. 72. 81. 86. 69. 87. 79. 77. 85. 74.\n",
      " 82. 80. 76. 90. 79. 84. 84. 78. 83. 90. 76. 85. 67. 75. 77. 77. 69. 86.\n",
      " 83. 75. 80. 86. 87. 84. 78. 74. 92. 74. 77. 89. 71. 84. 90. 77. 76. 83.\n",
      " 76. 92. 84. 67. 82. 87. 76. 74. 68. 80. 75. 85. 83. 80. 84. 74. 85. 79.\n",
      " 77. 83. 77. 76. 87. 91. 83. 81. 87. 78. 76. 77. 85. 80. 86. 74. 78. 77.\n",
      " 86. 83. 80. 81. 81. 81. 79. 80. 76. 78. 82. 75. 71. 79. 81. 78. 80. 78.\n",
      " 82. 78. 83. 85. 77. 78. 80. 79. 85. 74. 85. 82. 80. 77.]\n",
      "[40. 51. 41. 40. 42. 38. 18. 46. 40. 46. 47. 32. 31. 15. 49. 27. 36. 51.\n",
      " 47. 45. 27. 39. 43. 34. 55. 18. 33. 39. 50. 56. 17. 44. 55. 32. 49. 43.\n",
      " 39. 39. 26. 54. 35. 35. 43. 32. 17. 43. 37. 47. 44. 48. 36. 37. 44. 27.\n",
      " 50. 45. 41. 49. 42. 21. 34. 34. 39. 30. 36. 48. 60. 34. 54. 26. 27. 39.\n",
      " 33. 39. 21. 42. 29. 41. 31. 47. 27. 31. 34. 49. 50. 39. 20. 31. 20. 41.\n",
      " 56. 35. 26. 27. 54. 44. 64. 35. 47. 49. 40. 51. 55. 24. 28. 38. 39. 36.\n",
      " 47. 49. 41. 23. 32. 24. 33. 26. 51. 39. 39. 46. 50. 22. 34. 42. 32. 41.\n",
      " 39. 42. 33. 40. 26. 48. 27. 24. 23. 60. 30. 39. 47. 21. 39. 27. 33. 33.\n",
      " 45. 52. 51. 51. 59. 33. 52. 30. 20. 51. 22. 37. 47. 43. 43. 29. 47. 46.\n",
      " 42. 36. 41. 63. 51. 42. 31. 43. 30. 22. 58. 18. 47. 46. 53. 19. 26. 24.\n",
      " 39. 39. 30. 46. 36. 45. 26. 45. 55. 40. 20. 43. 52. 47. 44. 43. 43. 38.\n",
      " 50. 40. 28. 48. 19. 63. 22. 35. 53. 63. 28. 35. 57. 49. 57. 21. 19. 51.\n",
      " 44. 41. 10. 46. 32. 44. 36. 45. 37. 41. 29. 41. 30. 35. 24. 42. 45. 53.\n",
      " 45. 26. 29. 42. 41. 53. 46. 41. 56. 40. 48. 40. 72. 53. 36. 35. 32. 48.\n",
      " 48. 39. 42. 17. 15. 30. 49. 29. 40. 48. 39. 33. 44. 48. 49. 29. 35. 38.\n",
      " 41. 49. 24. 32. 43. 61. 39. 30. 37. 34. 24. 41. 47. 42. 40. 25. 47. 29.\n",
      " 51. 55. 26. 40. 33. 32. 40. 36. 40. 32. 38. 56. 32. 36. 34. 39. 48. 33.\n",
      " 21. 43. 35. 46. 42. 41. 32. 30. 30. 33. 27. 16. 52. 57. 32. 44. 30. 40.\n",
      " 47. 55. 36. 44. 46. 28. 36. 55. 53. 37. 47. 38. 33. 48. 41. 40. 56. 32.\n",
      " 40. 25. 58. 44. 41. 52. 32. 40. 54. 51. 34. 27. 31. 35. 36. 48. 53. 47.\n",
      " 48. 58. 18. 42. 37. 20. 42. 47. 34. 36. 45. 47. 46. 52. 44. 33. 46. 30.\n",
      " 51. 37. 34. 38. 14. 38. 36. 51. 33. 61. 33. 33. 46. 44. 54. 33. 63. 15.\n",
      " 57. 39. 25. 38. 30. 29. 37. 26. 26. 43. 31. 40. 28. 37. 35. 33. 52. 32.\n",
      " 44. 26. 22. 14. 49. 36. 56. 38. 39. 32. 40. 51. 45. 61. 49. 33. 49. 32.\n",
      " 46. 39. 51. 17. 41. 34. 54. 48. 29. 24. 38. 27. 41. 46. 47. 42. 21. 51.\n",
      " 45. 38. 43. 53. 45. 36. 56. 46. 27. 44. 44. 36. 41. 34. 45. 31. 36. 40.\n",
      " 36. 38. 31. 31. 41. 27. 34. 44. 33. 48. 50. 34. 45. 62. 24. 36. 44. 27.\n",
      " 43. 49. 46. 34. 50. 35. 31. 45. 50. 36. 39. 38. 38. 36.]\n"
     ]
    }
   ],
   "metadata": {}
  },
  {
   "cell_type": "code",
   "execution_count": 4,
   "source": [
    "plt.hist(Physics)\r\n",
    "plt.hist(Maths, alpha= 0.7)\r\n",
    "plt.show()"
   ],
   "outputs": [
    {
     "output_type": "display_data",
     "data": {
      "text/plain": [
       "<Figure size 432x288 with 1 Axes>"
      ],
      "image/svg+xml": "<?xml version=\"1.0\" encoding=\"utf-8\" standalone=\"no\"?>\r\n<!DOCTYPE svg PUBLIC \"-//W3C//DTD SVG 1.1//EN\"\r\n  \"http://www.w3.org/Graphics/SVG/1.1/DTD/svg11.dtd\">\r\n<!-- Created with matplotlib (https://matplotlib.org/) -->\r\n<svg height=\"248.518125pt\" version=\"1.1\" viewBox=\"0 0 375.2875 248.518125\" width=\"375.2875pt\" xmlns=\"http://www.w3.org/2000/svg\" xmlns:xlink=\"http://www.w3.org/1999/xlink\">\r\n <metadata>\r\n  <rdf:RDF xmlns:cc=\"http://creativecommons.org/ns#\" xmlns:dc=\"http://purl.org/dc/elements/1.1/\" xmlns:rdf=\"http://www.w3.org/1999/02/22-rdf-syntax-ns#\">\r\n   <cc:Work>\r\n    <dc:type rdf:resource=\"http://purl.org/dc/dcmitype/StillImage\"/>\r\n    <dc:date>2021-08-20T23:38:38.434057</dc:date>\r\n    <dc:format>image/svg+xml</dc:format>\r\n    <dc:creator>\r\n     <cc:Agent>\r\n      <dc:title>Matplotlib v3.3.4, https://matplotlib.org/</dc:title>\r\n     </cc:Agent>\r\n    </dc:creator>\r\n   </cc:Work>\r\n  </rdf:RDF>\r\n </metadata>\r\n <defs>\r\n  <style type=\"text/css\">*{stroke-linecap:butt;stroke-linejoin:round;}</style>\r\n </defs>\r\n <g id=\"figure_1\">\r\n  <g id=\"patch_1\">\r\n   <path d=\"M 0 248.518125 \r\nL 375.2875 248.518125 \r\nL 375.2875 0 \r\nL 0 0 \r\nz\r\n\" style=\"fill:none;\"/>\r\n  </g>\r\n  <g id=\"axes_1\">\r\n   <g id=\"patch_2\">\r\n    <path d=\"M 33.2875 224.64 \r\nL 368.0875 224.64 \r\nL 368.0875 7.2 \r\nL 33.2875 7.2 \r\nz\r\n\" style=\"fill:#ffffff;\"/>\r\n   </g>\r\n   <g id=\"patch_3\">\r\n    <path clip-path=\"url(#p783cc84f3f)\" d=\"M 253.859461 224.64 \r\nL 263.760446 224.64 \r\nL 263.760446 210.834286 \r\nL 253.859461 210.834286 \r\nz\r\n\" style=\"fill:#1f77b4;\"/>\r\n   </g>\r\n   <g id=\"patch_4\">\r\n    <path clip-path=\"url(#p783cc84f3f)\" d=\"M 263.760446 224.64 \r\nL 273.661432 224.64 \r\nL 273.661432 190.125714 \r\nL 263.760446 190.125714 \r\nz\r\n\" style=\"fill:#1f77b4;\"/>\r\n   </g>\r\n   <g id=\"patch_5\">\r\n    <path clip-path=\"url(#p783cc84f3f)\" d=\"M 273.661432 224.64 \r\nL 283.562418 224.64 \r\nL 283.562418 160.788571 \r\nL 273.661432 160.788571 \r\nz\r\n\" style=\"fill:#1f77b4;\"/>\r\n   </g>\r\n   <g id=\"patch_6\">\r\n    <path clip-path=\"url(#p783cc84f3f)\" d=\"M 283.562418 224.64 \r\nL 293.463404 224.64 \r\nL 293.463404 136.628571 \r\nL 283.562418 136.628571 \r\nz\r\n\" style=\"fill:#1f77b4;\"/>\r\n   </g>\r\n   <g id=\"patch_7\">\r\n    <path clip-path=\"url(#p783cc84f3f)\" d=\"M 293.463404 224.64 \r\nL 303.364389 224.64 \r\nL 303.364389 29.634286 \r\nL 293.463404 29.634286 \r\nz\r\n\" style=\"fill:#1f77b4;\"/>\r\n   </g>\r\n   <g id=\"patch_8\">\r\n    <path clip-path=\"url(#p783cc84f3f)\" d=\"M 303.364389 224.64 \r\nL 313.265375 224.64 \r\nL 313.265375 46.891429 \r\nL 303.364389 46.891429 \r\nz\r\n\" style=\"fill:#1f77b4;\"/>\r\n   </g>\r\n   <g id=\"patch_9\">\r\n    <path clip-path=\"url(#p783cc84f3f)\" d=\"M 313.265375 224.64 \r\nL 323.166361 224.64 \r\nL 323.166361 105.565714 \r\nL 313.265375 105.565714 \r\nz\r\n\" style=\"fill:#1f77b4;\"/>\r\n   </g>\r\n   <g id=\"patch_10\">\r\n    <path clip-path=\"url(#p783cc84f3f)\" d=\"M 323.166361 224.64 \r\nL 333.067347 224.64 \r\nL 333.067347 114.194286 \r\nL 323.166361 114.194286 \r\nz\r\n\" style=\"fill:#1f77b4;\"/>\r\n   </g>\r\n   <g id=\"patch_11\">\r\n    <path clip-path=\"url(#p783cc84f3f)\" d=\"M 333.067347 224.64 \r\nL 342.968332 224.64 \r\nL 342.968332 181.497143 \r\nL 333.067347 181.497143 \r\nz\r\n\" style=\"fill:#1f77b4;\"/>\r\n   </g>\r\n   <g id=\"patch_12\">\r\n    <path clip-path=\"url(#p783cc84f3f)\" d=\"M 342.968332 224.64 \r\nL 352.869318 224.64 \r\nL 352.869318 207.382857 \r\nL 342.968332 207.382857 \r\nz\r\n\" style=\"fill:#1f77b4;\"/>\r\n   </g>\r\n   <g id=\"patch_13\">\r\n    <path clip-path=\"url(#p783cc84f3f)\" d=\"M 48.505682 224.64 \r\nL 71.241279 224.64 \r\nL 71.241279 212.56 \r\nL 48.505682 212.56 \r\nz\r\n\" style=\"fill:#ff7f0e;opacity:0.7;\"/>\r\n   </g>\r\n   <g id=\"patch_14\">\r\n    <path clip-path=\"url(#p783cc84f3f)\" d=\"M 71.241279 224.64 \r\nL 93.976876 224.64 \r\nL 93.976876 178.045714 \r\nL 71.241279 178.045714 \r\nz\r\n\" style=\"fill:#ff7f0e;opacity:0.7;\"/>\r\n   </g>\r\n   <g id=\"patch_15\">\r\n    <path clip-path=\"url(#p783cc84f3f)\" d=\"M 93.976876 224.64 \r\nL 116.712473 224.64 \r\nL 116.712473 146.982857 \r\nL 93.976876 146.982857 \r\nz\r\n\" style=\"fill:#ff7f0e;opacity:0.7;\"/>\r\n   </g>\r\n   <g id=\"patch_16\">\r\n    <path clip-path=\"url(#p783cc84f3f)\" d=\"M 116.712473 224.64 \r\nL 139.44807 224.64 \r\nL 139.44807 74.502857 \r\nL 116.712473 74.502857 \r\nz\r\n\" style=\"fill:#ff7f0e;opacity:0.7;\"/>\r\n   </g>\r\n   <g id=\"patch_17\">\r\n    <path clip-path=\"url(#p783cc84f3f)\" d=\"M 139.44807 224.64 \r\nL 162.183666 224.64 \r\nL 162.183666 41.714286 \r\nL 139.44807 41.714286 \r\nz\r\n\" style=\"fill:#ff7f0e;opacity:0.7;\"/>\r\n   </g>\r\n   <g id=\"patch_18\">\r\n    <path clip-path=\"url(#p783cc84f3f)\" d=\"M 162.183666 224.64 \r\nL 184.919263 224.64 \r\nL 184.919263 17.554286 \r\nL 162.183666 17.554286 \r\nz\r\n\" style=\"fill:#ff7f0e;opacity:0.7;\"/>\r\n   </g>\r\n   <g id=\"patch_19\">\r\n    <path clip-path=\"url(#p783cc84f3f)\" d=\"M 184.919263 224.64 \r\nL 207.65486 224.64 \r\nL 207.65486 107.291429 \r\nL 184.919263 107.291429 \r\nz\r\n\" style=\"fill:#ff7f0e;opacity:0.7;\"/>\r\n   </g>\r\n   <g id=\"patch_20\">\r\n    <path clip-path=\"url(#p783cc84f3f)\" d=\"M 207.65486 224.64 \r\nL 230.390457 224.64 \r\nL 230.390457 176.32 \r\nL 207.65486 176.32 \r\nz\r\n\" style=\"fill:#ff7f0e;opacity:0.7;\"/>\r\n   </g>\r\n   <g id=\"patch_21\">\r\n    <path clip-path=\"url(#p783cc84f3f)\" d=\"M 230.390457 224.64 \r\nL 253.126054 224.64 \r\nL 253.126054 205.657143 \r\nL 230.390457 205.657143 \r\nz\r\n\" style=\"fill:#ff7f0e;opacity:0.7;\"/>\r\n   </g>\r\n   <g id=\"patch_22\">\r\n    <path clip-path=\"url(#p783cc84f3f)\" d=\"M 253.126054 224.64 \r\nL 275.861651 224.64 \r\nL 275.861651 222.914286 \r\nL 253.126054 222.914286 \r\nz\r\n\" style=\"fill:#ff7f0e;opacity:0.7;\"/>\r\n   </g>\r\n   <g id=\"matplotlib.axis_1\">\r\n    <g id=\"xtick_1\">\r\n     <g id=\"line2d_1\">\r\n      <defs>\r\n       <path d=\"M 0 0 \r\nL 0 3.5 \r\n\" id=\"mc963a71fc4\" style=\"stroke:#000000;stroke-width:0.8;\"/>\r\n      </defs>\r\n      <g>\r\n       <use style=\"stroke:#000000;stroke-width:0.8;\" x=\"85.175999\" xlink:href=\"#mc963a71fc4\" y=\"224.64\"/>\r\n      </g>\r\n     </g>\r\n     <g id=\"text_1\">\r\n      <!-- 20 -->\r\n      <g transform=\"translate(78.813499 239.238437)scale(0.1 -0.1)\">\r\n       <defs>\r\n        <path d=\"M 19.1875 8.296875 \r\nL 53.609375 8.296875 \r\nL 53.609375 0 \r\nL 7.328125 0 \r\nL 7.328125 8.296875 \r\nQ 12.9375 14.109375 22.625 23.890625 \r\nQ 32.328125 33.6875 34.8125 36.53125 \r\nQ 39.546875 41.84375 41.421875 45.53125 \r\nQ 43.3125 49.21875 43.3125 52.78125 \r\nQ 43.3125 58.59375 39.234375 62.25 \r\nQ 35.15625 65.921875 28.609375 65.921875 \r\nQ 23.96875 65.921875 18.8125 64.3125 \r\nQ 13.671875 62.703125 7.8125 59.421875 \r\nL 7.8125 69.390625 \r\nQ 13.765625 71.78125 18.9375 73 \r\nQ 24.125 74.21875 28.421875 74.21875 \r\nQ 39.75 74.21875 46.484375 68.546875 \r\nQ 53.21875 62.890625 53.21875 53.421875 \r\nQ 53.21875 48.921875 51.53125 44.890625 \r\nQ 49.859375 40.875 45.40625 35.40625 \r\nQ 44.1875 33.984375 37.640625 27.21875 \r\nQ 31.109375 20.453125 19.1875 8.296875 \r\nz\r\n\" id=\"DejaVuSans-50\"/>\r\n        <path d=\"M 31.78125 66.40625 \r\nQ 24.171875 66.40625 20.328125 58.90625 \r\nQ 16.5 51.421875 16.5 36.375 \r\nQ 16.5 21.390625 20.328125 13.890625 \r\nQ 24.171875 6.390625 31.78125 6.390625 \r\nQ 39.453125 6.390625 43.28125 13.890625 \r\nQ 47.125 21.390625 47.125 36.375 \r\nQ 47.125 51.421875 43.28125 58.90625 \r\nQ 39.453125 66.40625 31.78125 66.40625 \r\nz\r\nM 31.78125 74.21875 \r\nQ 44.046875 74.21875 50.515625 64.515625 \r\nQ 56.984375 54.828125 56.984375 36.375 \r\nQ 56.984375 17.96875 50.515625 8.265625 \r\nQ 44.046875 -1.421875 31.78125 -1.421875 \r\nQ 19.53125 -1.421875 13.0625 8.265625 \r\nQ 6.59375 17.96875 6.59375 36.375 \r\nQ 6.59375 54.828125 13.0625 64.515625 \r\nQ 19.53125 74.21875 31.78125 74.21875 \r\nz\r\n\" id=\"DejaVuSans-48\"/>\r\n       </defs>\r\n       <use xlink:href=\"#DejaVuSans-50\"/>\r\n       <use x=\"63.623047\" xlink:href=\"#DejaVuSans-48\"/>\r\n      </g>\r\n     </g>\r\n    </g>\r\n    <g id=\"xtick_2\">\r\n     <g id=\"line2d_2\">\r\n      <g>\r\n       <use style=\"stroke:#000000;stroke-width:0.8;\" x=\"158.516635\" xlink:href=\"#mc963a71fc4\" y=\"224.64\"/>\r\n      </g>\r\n     </g>\r\n     <g id=\"text_2\">\r\n      <!-- 40 -->\r\n      <g transform=\"translate(152.154135 239.238437)scale(0.1 -0.1)\">\r\n       <defs>\r\n        <path d=\"M 37.796875 64.3125 \r\nL 12.890625 25.390625 \r\nL 37.796875 25.390625 \r\nz\r\nM 35.203125 72.90625 \r\nL 47.609375 72.90625 \r\nL 47.609375 25.390625 \r\nL 58.015625 25.390625 \r\nL 58.015625 17.1875 \r\nL 47.609375 17.1875 \r\nL 47.609375 0 \r\nL 37.796875 0 \r\nL 37.796875 17.1875 \r\nL 4.890625 17.1875 \r\nL 4.890625 26.703125 \r\nz\r\n\" id=\"DejaVuSans-52\"/>\r\n       </defs>\r\n       <use xlink:href=\"#DejaVuSans-52\"/>\r\n       <use x=\"63.623047\" xlink:href=\"#DejaVuSans-48\"/>\r\n      </g>\r\n     </g>\r\n    </g>\r\n    <g id=\"xtick_3\">\r\n     <g id=\"line2d_3\">\r\n      <g>\r\n       <use style=\"stroke:#000000;stroke-width:0.8;\" x=\"231.85727\" xlink:href=\"#mc963a71fc4\" y=\"224.64\"/>\r\n      </g>\r\n     </g>\r\n     <g id=\"text_3\">\r\n      <!-- 60 -->\r\n      <g transform=\"translate(225.49477 239.238437)scale(0.1 -0.1)\">\r\n       <defs>\r\n        <path d=\"M 33.015625 40.375 \r\nQ 26.375 40.375 22.484375 35.828125 \r\nQ 18.609375 31.296875 18.609375 23.390625 \r\nQ 18.609375 15.53125 22.484375 10.953125 \r\nQ 26.375 6.390625 33.015625 6.390625 \r\nQ 39.65625 6.390625 43.53125 10.953125 \r\nQ 47.40625 15.53125 47.40625 23.390625 \r\nQ 47.40625 31.296875 43.53125 35.828125 \r\nQ 39.65625 40.375 33.015625 40.375 \r\nz\r\nM 52.59375 71.296875 \r\nL 52.59375 62.3125 \r\nQ 48.875 64.0625 45.09375 64.984375 \r\nQ 41.3125 65.921875 37.59375 65.921875 \r\nQ 27.828125 65.921875 22.671875 59.328125 \r\nQ 17.53125 52.734375 16.796875 39.40625 \r\nQ 19.671875 43.65625 24.015625 45.921875 \r\nQ 28.375 48.1875 33.59375 48.1875 \r\nQ 44.578125 48.1875 50.953125 41.515625 \r\nQ 57.328125 34.859375 57.328125 23.390625 \r\nQ 57.328125 12.15625 50.6875 5.359375 \r\nQ 44.046875 -1.421875 33.015625 -1.421875 \r\nQ 20.359375 -1.421875 13.671875 8.265625 \r\nQ 6.984375 17.96875 6.984375 36.375 \r\nQ 6.984375 53.65625 15.1875 63.9375 \r\nQ 23.390625 74.21875 37.203125 74.21875 \r\nQ 40.921875 74.21875 44.703125 73.484375 \r\nQ 48.484375 72.75 52.59375 71.296875 \r\nz\r\n\" id=\"DejaVuSans-54\"/>\r\n       </defs>\r\n       <use xlink:href=\"#DejaVuSans-54\"/>\r\n       <use x=\"63.623047\" xlink:href=\"#DejaVuSans-48\"/>\r\n      </g>\r\n     </g>\r\n    </g>\r\n    <g id=\"xtick_4\">\r\n     <g id=\"line2d_4\">\r\n      <g>\r\n       <use style=\"stroke:#000000;stroke-width:0.8;\" x=\"305.197905\" xlink:href=\"#mc963a71fc4\" y=\"224.64\"/>\r\n      </g>\r\n     </g>\r\n     <g id=\"text_4\">\r\n      <!-- 80 -->\r\n      <g transform=\"translate(298.835405 239.238437)scale(0.1 -0.1)\">\r\n       <defs>\r\n        <path d=\"M 31.78125 34.625 \r\nQ 24.75 34.625 20.71875 30.859375 \r\nQ 16.703125 27.09375 16.703125 20.515625 \r\nQ 16.703125 13.921875 20.71875 10.15625 \r\nQ 24.75 6.390625 31.78125 6.390625 \r\nQ 38.8125 6.390625 42.859375 10.171875 \r\nQ 46.921875 13.96875 46.921875 20.515625 \r\nQ 46.921875 27.09375 42.890625 30.859375 \r\nQ 38.875 34.625 31.78125 34.625 \r\nz\r\nM 21.921875 38.8125 \r\nQ 15.578125 40.375 12.03125 44.71875 \r\nQ 8.5 49.078125 8.5 55.328125 \r\nQ 8.5 64.0625 14.71875 69.140625 \r\nQ 20.953125 74.21875 31.78125 74.21875 \r\nQ 42.671875 74.21875 48.875 69.140625 \r\nQ 55.078125 64.0625 55.078125 55.328125 \r\nQ 55.078125 49.078125 51.53125 44.71875 \r\nQ 48 40.375 41.703125 38.8125 \r\nQ 48.828125 37.15625 52.796875 32.3125 \r\nQ 56.78125 27.484375 56.78125 20.515625 \r\nQ 56.78125 9.90625 50.3125 4.234375 \r\nQ 43.84375 -1.421875 31.78125 -1.421875 \r\nQ 19.734375 -1.421875 13.25 4.234375 \r\nQ 6.78125 9.90625 6.78125 20.515625 \r\nQ 6.78125 27.484375 10.78125 32.3125 \r\nQ 14.796875 37.15625 21.921875 38.8125 \r\nz\r\nM 18.3125 54.390625 \r\nQ 18.3125 48.734375 21.84375 45.5625 \r\nQ 25.390625 42.390625 31.78125 42.390625 \r\nQ 38.140625 42.390625 41.71875 45.5625 \r\nQ 45.3125 48.734375 45.3125 54.390625 \r\nQ 45.3125 60.0625 41.71875 63.234375 \r\nQ 38.140625 66.40625 31.78125 66.40625 \r\nQ 25.390625 66.40625 21.84375 63.234375 \r\nQ 18.3125 60.0625 18.3125 54.390625 \r\nz\r\n\" id=\"DejaVuSans-56\"/>\r\n       </defs>\r\n       <use xlink:href=\"#DejaVuSans-56\"/>\r\n       <use x=\"63.623047\" xlink:href=\"#DejaVuSans-48\"/>\r\n      </g>\r\n     </g>\r\n    </g>\r\n   </g>\r\n   <g id=\"matplotlib.axis_2\">\r\n    <g id=\"ytick_1\">\r\n     <g id=\"line2d_5\">\r\n      <defs>\r\n       <path d=\"M 0 0 \r\nL -3.5 0 \r\n\" id=\"m0d923446ff\" style=\"stroke:#000000;stroke-width:0.8;\"/>\r\n      </defs>\r\n      <g>\r\n       <use style=\"stroke:#000000;stroke-width:0.8;\" x=\"33.2875\" xlink:href=\"#m0d923446ff\" y=\"224.64\"/>\r\n      </g>\r\n     </g>\r\n     <g id=\"text_5\">\r\n      <!-- 0 -->\r\n      <g transform=\"translate(19.925 228.439219)scale(0.1 -0.1)\">\r\n       <use xlink:href=\"#DejaVuSans-48\"/>\r\n      </g>\r\n     </g>\r\n    </g>\r\n    <g id=\"ytick_2\">\r\n     <g id=\"line2d_6\">\r\n      <g>\r\n       <use style=\"stroke:#000000;stroke-width:0.8;\" x=\"33.2875\" xlink:href=\"#m0d923446ff\" y=\"190.125714\"/>\r\n      </g>\r\n     </g>\r\n     <g id=\"text_6\">\r\n      <!-- 20 -->\r\n      <g transform=\"translate(13.5625 193.924933)scale(0.1 -0.1)\">\r\n       <use xlink:href=\"#DejaVuSans-50\"/>\r\n       <use x=\"63.623047\" xlink:href=\"#DejaVuSans-48\"/>\r\n      </g>\r\n     </g>\r\n    </g>\r\n    <g id=\"ytick_3\">\r\n     <g id=\"line2d_7\">\r\n      <g>\r\n       <use style=\"stroke:#000000;stroke-width:0.8;\" x=\"33.2875\" xlink:href=\"#m0d923446ff\" y=\"155.611429\"/>\r\n      </g>\r\n     </g>\r\n     <g id=\"text_7\">\r\n      <!-- 40 -->\r\n      <g transform=\"translate(13.5625 159.410647)scale(0.1 -0.1)\">\r\n       <use xlink:href=\"#DejaVuSans-52\"/>\r\n       <use x=\"63.623047\" xlink:href=\"#DejaVuSans-48\"/>\r\n      </g>\r\n     </g>\r\n    </g>\r\n    <g id=\"ytick_4\">\r\n     <g id=\"line2d_8\">\r\n      <g>\r\n       <use style=\"stroke:#000000;stroke-width:0.8;\" x=\"33.2875\" xlink:href=\"#m0d923446ff\" y=\"121.097143\"/>\r\n      </g>\r\n     </g>\r\n     <g id=\"text_8\">\r\n      <!-- 60 -->\r\n      <g transform=\"translate(13.5625 124.896362)scale(0.1 -0.1)\">\r\n       <use xlink:href=\"#DejaVuSans-54\"/>\r\n       <use x=\"63.623047\" xlink:href=\"#DejaVuSans-48\"/>\r\n      </g>\r\n     </g>\r\n    </g>\r\n    <g id=\"ytick_5\">\r\n     <g id=\"line2d_9\">\r\n      <g>\r\n       <use style=\"stroke:#000000;stroke-width:0.8;\" x=\"33.2875\" xlink:href=\"#m0d923446ff\" y=\"86.582857\"/>\r\n      </g>\r\n     </g>\r\n     <g id=\"text_9\">\r\n      <!-- 80 -->\r\n      <g transform=\"translate(13.5625 90.382076)scale(0.1 -0.1)\">\r\n       <use xlink:href=\"#DejaVuSans-56\"/>\r\n       <use x=\"63.623047\" xlink:href=\"#DejaVuSans-48\"/>\r\n      </g>\r\n     </g>\r\n    </g>\r\n    <g id=\"ytick_6\">\r\n     <g id=\"line2d_10\">\r\n      <g>\r\n       <use style=\"stroke:#000000;stroke-width:0.8;\" x=\"33.2875\" xlink:href=\"#m0d923446ff\" y=\"52.068571\"/>\r\n      </g>\r\n     </g>\r\n     <g id=\"text_10\">\r\n      <!-- 100 -->\r\n      <g transform=\"translate(7.2 55.86779)scale(0.1 -0.1)\">\r\n       <defs>\r\n        <path d=\"M 12.40625 8.296875 \r\nL 28.515625 8.296875 \r\nL 28.515625 63.921875 \r\nL 10.984375 60.40625 \r\nL 10.984375 69.390625 \r\nL 28.421875 72.90625 \r\nL 38.28125 72.90625 \r\nL 38.28125 8.296875 \r\nL 54.390625 8.296875 \r\nL 54.390625 0 \r\nL 12.40625 0 \r\nz\r\n\" id=\"DejaVuSans-49\"/>\r\n       </defs>\r\n       <use xlink:href=\"#DejaVuSans-49\"/>\r\n       <use x=\"63.623047\" xlink:href=\"#DejaVuSans-48\"/>\r\n       <use x=\"127.246094\" xlink:href=\"#DejaVuSans-48\"/>\r\n      </g>\r\n     </g>\r\n    </g>\r\n    <g id=\"ytick_7\">\r\n     <g id=\"line2d_11\">\r\n      <g>\r\n       <use style=\"stroke:#000000;stroke-width:0.8;\" x=\"33.2875\" xlink:href=\"#m0d923446ff\" y=\"17.554286\"/>\r\n      </g>\r\n     </g>\r\n     <g id=\"text_11\">\r\n      <!-- 120 -->\r\n      <g transform=\"translate(7.2 21.353504)scale(0.1 -0.1)\">\r\n       <use xlink:href=\"#DejaVuSans-49\"/>\r\n       <use x=\"63.623047\" xlink:href=\"#DejaVuSans-50\"/>\r\n       <use x=\"127.246094\" xlink:href=\"#DejaVuSans-48\"/>\r\n      </g>\r\n     </g>\r\n    </g>\r\n   </g>\r\n   <g id=\"patch_23\">\r\n    <path d=\"M 33.2875 224.64 \r\nL 33.2875 7.2 \r\n\" style=\"fill:none;stroke:#000000;stroke-linecap:square;stroke-linejoin:miter;stroke-width:0.8;\"/>\r\n   </g>\r\n   <g id=\"patch_24\">\r\n    <path d=\"M 368.0875 224.64 \r\nL 368.0875 7.2 \r\n\" style=\"fill:none;stroke:#000000;stroke-linecap:square;stroke-linejoin:miter;stroke-width:0.8;\"/>\r\n   </g>\r\n   <g id=\"patch_25\">\r\n    <path d=\"M 33.2875 224.64 \r\nL 368.0875 224.64 \r\n\" style=\"fill:none;stroke:#000000;stroke-linecap:square;stroke-linejoin:miter;stroke-width:0.8;\"/>\r\n   </g>\r\n   <g id=\"patch_26\">\r\n    <path d=\"M 33.2875 7.2 \r\nL 368.0875 7.2 \r\n\" style=\"fill:none;stroke:#000000;stroke-linecap:square;stroke-linejoin:miter;stroke-width:0.8;\"/>\r\n   </g>\r\n  </g>\r\n </g>\r\n <defs>\r\n  <clipPath id=\"p783cc84f3f\">\r\n   <rect height=\"217.44\" width=\"334.8\" x=\"33.2875\" y=\"7.2\"/>\r\n  </clipPath>\r\n </defs>\r\n</svg>\r\n",
      "image/png": "[encoded data removed]"
     },
     "metadata": {
      "needs_background": "light"
     }
    }
   ],
   "metadata": {}
  }
 ],
 "metadata": {
  "orig_nbformat": 4,
  "language_info": {
   "name": "python",
   "version": "3.9.2",
   "mimetype": "text/x-python",
   "codemirror_mode": {
    "name": "ipython",
    "version": 3
   },
   "pygments_lexer": "ipython3",
   "nbconvert_exporter": "python",
   "file_extension": ".py"
  },
  "kernelspec": {
   "name": "python3",
   "display_name": "Python 3.9.2 64-bit"
  },
  "interpreter": {
   "hash": "33dc6d49505b4536b6a128d9d7c879e1fa44477ad44947bbbe73093067fe6393"
  }
 },
 "nbformat": 4,
 "nbformat_minor": 2
}