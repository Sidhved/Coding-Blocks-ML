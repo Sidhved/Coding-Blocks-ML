{
 "metadata": {
  "language_info": {
   "codemirror_mode": {
    "name": "ipython",
    "version": 3
   },
   "file_extension": ".py",
   "mimetype": "text/x-python",
   "name": "python",
   "nbconvert_exporter": "python",
   "pygments_lexer": "ipython3",
   "version": "3.9.2"
  },
  "orig_nbformat": 4,
  "kernelspec": {
   "name": "python3",
   "display_name": "Python 3.9.2 64-bit"
  },
  "interpreter": {
   "hash": "33dc6d49505b4536b6a128d9d7c879e1fa44477ad44947bbbe73093067fe6393"
  }
 },
 "nbformat": 4,
 "nbformat_minor": 2,
 "cells": [
  {
   "source": [
    "1. Text File<br>\n",
    "Opening  -> Reading -> Closing"
   ],
   "cell_type": "markdown",
   "metadata": {}
  },
  {
   "cell_type": "code",
   "execution_count": 12,
   "metadata": {},
   "outputs": [
    {
     "output_type": "stream",
     "name": "stdout",
     "text": [
      "Hello\n"
     ]
    }
   ],
   "source": [
    "file = open(\"Hello.txt\", \"r\")\n",
    "print(file.read(5)) #Number of bytes can be given as parameter\n",
    "file.close()"
   ]
  },
  {
   "source": [
    "Open/Create -> Write -> Close"
   ],
   "cell_type": "markdown",
   "metadata": {}
  },
  {
   "cell_type": "code",
   "execution_count": 13,
   "metadata": {},
   "outputs": [],
   "source": [
    "file = open(\"writeFile\", \"w\")\n",
    "file.write(\"Amazing Detective / Genius\")\n",
    "file.close()"
   ]
  },
  {
   "source": [
    "ReadLine for 1 line, Readlines for list of all lines"
   ],
   "cell_type": "markdown",
   "metadata": {}
  },
  {
   "cell_type": "code",
   "execution_count": 15,
   "metadata": {},
   "outputs": [
    {
     "output_type": "stream",
     "name": "stdout",
     "text": [
      "Hello World!\n\n"
     ]
    }
   ],
   "source": [
    "file = open(\"Hello.txt\", 'r')\n",
    "print(file.readline()) #readlines() will return list of all the lines\n",
    "file.close()"
   ]
  },
  {
   "source": [
    "Seeking --> Moving the cursor forward or bakward"
   ],
   "cell_type": "markdown",
   "metadata": {}
  },
  {
   "cell_type": "code",
   "execution_count": 17,
   "metadata": {},
   "outputs": [
    {
     "output_type": "stream",
     "name": "stdout",
     "text": [
      "rld!\nHello\nFrom \nThe \nOther \nFile\n"
     ]
    }
   ],
   "source": [
    "file = open(\"Hello.txt\", \"r\")\n",
    "file.seek(8)\n",
    "print(file.read())\n",
    "file.close()"
   ]
  },
  {
   "source": [
    "Smarter way to opening file is using with statement"
   ],
   "cell_type": "markdown",
   "metadata": {}
  },
  {
   "cell_type": "code",
   "execution_count": 19,
   "metadata": {},
   "outputs": [
    {
     "output_type": "stream",
     "name": "stdout",
     "text": [
      "Hello World!\nHello\nFrom \nThe \nOther \nFile\n World!\nHello\nFrom \nThe \nOther \nFile\n"
     ]
    }
   ],
   "source": [
    "with open(\"Hello.txt\", \"r\") as file:\n",
    "    print(file.read())\n",
    "    file.seek(5)\n",
    "    print(file.read())\n",
    "\n",
    "#remember the file is open only inside the with block"
   ]
  },
  {
   "source": [
    "2. Json Files\n"
   ],
   "cell_type": "markdown",
   "metadata": {}
  },
  {
   "source": [
    "import json"
   ],
   "cell_type": "code",
   "metadata": {},
   "execution_count": 22,
   "outputs": []
  },
  {
   "cell_type": "code",
   "execution_count": 28,
   "metadata": {},
   "outputs": [
    {
     "output_type": "stream",
     "name": "stdout",
     "text": [
      "{'name': 'Amy Santiago', 'marks': 101, 'subject': ['eng, math']}\n<class 'dict'>\nAmy Santiago\n101\n['eng, math']\n"
     ]
    }
   ],
   "source": [
    "with open(\"data.json\", \"r\") as file:\n",
    "    #print(file.read())\n",
    "    d = json.load(file)\n",
    "    print(d)\n",
    "    print(type(d))\n",
    "    print(d[\"name\"])\n",
    "    print(d[\"marks\"])\n",
    "    print(d[\"subject\"])"
   ]
  },
  {
   "cell_type": "code",
   "execution_count": 33,
   "metadata": {},
   "outputs": [
    {
     "output_type": "stream",
     "name": "stdout",
     "text": [
      "{\n    \"name\" : \"Amy Santiago\",\n    \"marks\" : 101,\n    \"subject\" : [\"eng, math\"]\n}\n{'name': 'Amy Santiago', 'marks': 101, 'subject': ['eng, math']}\n"
     ]
    }
   ],
   "source": [
    "with open(\"data.json\", \"r\") as file:\n",
    "    data = file.read()\n",
    "    print(data)\n",
    "    d = json.loads(data)\n",
    "    print(d)"
   ]
  },
  {
   "cell_type": "code",
   "execution_count": 31,
   "metadata": {},
   "outputs": [],
   "source": [
    "d = {'name': 'Amy Santiago', 'marks': 101, 'subject': ['eng, math']} # just a normal dictionary"
   ]
  },
  {
   "cell_type": "code",
   "execution_count": 32,
   "metadata": {},
   "outputs": [
    {
     "output_type": "stream",
     "name": "stdout",
     "text": [
      "<class 'str'>\n{\"name\": \"Amy Santiago\", \"marks\": 101, \"subject\": [\"eng, math\"]}\n"
     ]
    }
   ],
   "source": [
    "string = json.dumps(d)\n",
    "print(type(string))\n",
    "print(string)"
   ]
  },
  {
   "cell_type": "code",
   "execution_count": 36,
   "metadata": {},
   "outputs": [],
   "source": [
    "with open(\"data1.json\", \"w\") as file:\n",
    "    json.dump(d, file)"
   ]
  }
 ]
}