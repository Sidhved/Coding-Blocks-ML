{
 "cells": [
  {
   "cell_type": "markdown",
   "source": [
    "# Scalar and Vector"
   ],
   "metadata": {}
  },
  {
   "cell_type": "code",
   "execution_count": 1,
   "source": [
    "import numpy as np\r\n",
    "\r\n",
    "x = np.array([[4], [5], [6]])\r\n",
    "print(x)\r\n",
    "print(x.shape)"
   ],
   "outputs": [
    {
     "output_type": "stream",
     "name": "stdout",
     "text": [
      "[[4]\n",
      " [5]\n",
      " [6]]\n",
      "(3, 1)\n"
     ]
    }
   ],
   "metadata": {}
  },
  {
   "cell_type": "markdown",
   "source": [
    "# Matrices and Tensors"
   ],
   "metadata": {}
  },
  {
   "cell_type": "code",
   "execution_count": 2,
   "source": [
    "X = np.array([[4, 5, 6, 9], [10, 11, 13, 12], [56, 80, 90, 44]])\r\n",
    "print(X.shape)\r\n",
    "print(X.reshape((2, -1)), X.shape)"
   ],
   "outputs": [
    {
     "output_type": "stream",
     "name": "stdout",
     "text": [
      "(3, 4)\n",
      "[[ 4  5  6  9 10 11]\n",
      " [13 12 56 80 90 44]] (3, 4)\n"
     ]
    }
   ],
   "metadata": {}
  },
  {
   "cell_type": "code",
   "execution_count": 9,
   "source": [
    "T = np.zeros((5, 5, 3), dtype= 'uint8')\r\n",
    "\r\n",
    "T[:,:,0] = 255\r\n",
    "\r\n",
    "import matplotlib.pyplot as plt\r\n",
    "\r\n",
    "plt.imshow(T)\r\n",
    "plt.show()"
   ],
   "outputs": [
    {
     "output_type": "display_data",
     "data": {
      "text/plain": [
       "<Figure size 432x288 with 1 Axes>"
      ],
      "image/png": "[encoded data removed]"
     },
     "metadata": {
      "needs_background": "light"
     }
    }
   ],
   "metadata": {}
  },
  {
   "cell_type": "markdown",
   "source": [
    "# Transpose"
   ],
   "metadata": {}
  },
  {
   "cell_type": "code",
   "execution_count": 12,
   "source": [
    "X = X.reshape((-1, 1))\r\n",
    "print(X)\r\n",
    "X1 = X.T\r\n",
    "print(X1)"
   ],
   "outputs": [
    {
     "output_type": "stream",
     "name": "stdout",
     "text": [
      "[[ 4]\n",
      " [ 5]\n",
      " [ 6]\n",
      " [ 9]\n",
      " [10]\n",
      " [11]\n",
      " [13]\n",
      " [12]\n",
      " [56]\n",
      " [80]\n",
      " [90]\n",
      " [44]]\n",
      "[[ 4  5  6  9 10 11 13 12 56 80 90 44]]\n"
     ]
    }
   ],
   "metadata": {}
  },
  {
   "cell_type": "code",
   "execution_count": 13,
   "source": [
    "X = X.reshape((3, 4))\r\n",
    "print(X)\r\n",
    "\r\n",
    "print(X.T)"
   ],
   "outputs": [
    {
     "output_type": "stream",
     "name": "stdout",
     "text": [
      "[[ 4  5  6  9]\n",
      " [10 11 13 12]\n",
      " [56 80 90 44]]\n",
      "[[ 4 10 56]\n",
      " [ 5 11 80]\n",
      " [ 6 13 90]\n",
      " [ 9 12 44]]\n"
     ]
    }
   ],
   "metadata": {}
  },
  {
   "cell_type": "code",
   "execution_count": 21,
   "source": [
    "T = np.zeros((50, 25, 3), dtype='uint8')\r\n",
    "T[:, :, 2] = 255\r\n",
    "print(T.shape)\r\n",
    "plt.imshow(T)\r\n",
    "plt.show()\r\n",
    "T1 = np.transpose(T, axes = (0, 2, 1))\r\n",
    "print(T.shape, T1.shape)\r\n",
    "T[0][0], T1[0][0]"
   ],
   "outputs": [
    {
     "output_type": "stream",
     "name": "stdout",
     "text": [
      "(50, 25, 3)\n"
     ]
    },
    {
     "output_type": "display_data",
     "data": {
      "text/plain": [
       "<Figure size 432x288 with 1 Axes>"
      ],
      "image/png": "[encoded data removed]"
     },
     "metadata": {
      "needs_background": "light"
     }
    },
    {
     "output_type": "stream",
     "name": "stdout",
     "text": [
      "(50, 25, 3) (50, 3, 25)\n"
     ]
    },
    {
     "output_type": "execute_result",
     "data": {
      "text/plain": [
       "(array([  0,   0, 255], dtype=uint8),\n",
       " array([0, 0, 0, 0, 0, 0, 0, 0, 0, 0, 0, 0, 0, 0, 0, 0, 0, 0, 0, 0, 0, 0,\n",
       "        0, 0, 0], dtype=uint8))"
      ]
     },
     "metadata": {},
     "execution_count": 21
    }
   ],
   "metadata": {}
  },
  {
   "cell_type": "markdown",
   "source": [
    "# Broadcasting"
   ],
   "metadata": {}
  },
  {
   "cell_type": "code",
   "execution_count": 23,
   "source": [
    "x = np.array([1, 2, 3, 4]) + 5\r\n",
    "print(x)\r\n",
    "print(x+4)"
   ],
   "outputs": [
    {
     "output_type": "stream",
     "name": "stdout",
     "text": [
      "[6 7 8 9]\n",
      "[10 11 12 13]\n"
     ]
    }
   ],
   "metadata": {}
  },
  {
   "cell_type": "code",
   "execution_count": 24,
   "source": [
    "X = np.array([[1, 2, 3, 4], [5, 6, 7, 8]])\r\n",
    "print(X)\r\n",
    "print(X+x)"
   ],
   "outputs": [
    {
     "output_type": "stream",
     "name": "stdout",
     "text": [
      "[[1 2 3 4]\n",
      " [5 6 7 8]]\n",
      "[[ 7  9 11 13]\n",
      " [11 13 15 17]]\n"
     ]
    }
   ],
   "metadata": {}
  },
  {
   "cell_type": "markdown",
   "source": [
    "# Matrix Multiplication"
   ],
   "metadata": {}
  },
  {
   "cell_type": "markdown",
   "source": [
    "### Element wise "
   ],
   "metadata": {}
  },
  {
   "cell_type": "code",
   "execution_count": 25,
   "source": [
    "A = np.array([[1, 2, 3], [4, 5, 6]])\r\n",
    "B = np.array([[6, 5, 4], [3, 2, 1]])\r\n",
    "print(A*B)"
   ],
   "outputs": [
    {
     "output_type": "stream",
     "name": "stdout",
     "text": [
      "[[ 6 10 12]\n",
      " [12 10  6]]\n"
     ]
    }
   ],
   "metadata": {}
  },
  {
   "cell_type": "markdown",
   "source": [
    "### Matrix Multiplication"
   ],
   "metadata": {}
  },
  {
   "cell_type": "code",
   "execution_count": 27,
   "source": [
    "A = np.array([[1, 2, 3], [4, 5, 6]])\r\n",
    "B = np.array([[6, 5, 4], [3, 2, 1]])\r\n",
    "\r\n",
    "np.dot(A, B.T)"
   ],
   "outputs": [
    {
     "output_type": "execute_result",
     "data": {
      "text/plain": [
       "array([[28, 10],\n",
       "       [73, 28]])"
      ]
     },
     "metadata": {},
     "execution_count": 27
    }
   ],
   "metadata": {}
  },
  {
   "cell_type": "markdown",
   "source": [
    "# Other Operations"
   ],
   "metadata": {}
  },
  {
   "cell_type": "markdown",
   "source": [
    "### Norms"
   ],
   "metadata": {}
  },
  {
   "cell_type": "code",
   "execution_count": 37,
   "source": [
    "import math\r\n",
    "l = np.array([10, 5, -6])\r\n",
    "print('norm = ', math.sqrt(np.dot(l,l.T)))\r\n",
    "print(np.linalg.norm(l))\r\n",
    "print(np.linalg.norm(l, ord=1))\r\n",
    "print(np.linalg.norm(l, ord=np.inf))"
   ],
   "outputs": [
    {
     "output_type": "stream",
     "name": "stdout",
     "text": [
      "norm =  12.68857754044952\n",
      "12.68857754044952\n",
      "21.0\n",
      "10.0\n"
     ]
    }
   ],
   "metadata": {}
  },
  {
   "cell_type": "markdown",
   "source": [
    "### Determinants"
   ],
   "metadata": {}
  },
  {
   "cell_type": "code",
   "execution_count": 47,
   "source": [
    "x = np.array([[6, 8], [3, 4]])\r\n",
    "np.linalg.det(x)"
   ],
   "outputs": [
    {
     "output_type": "execute_result",
     "data": {
      "text/plain": [
       "0.0"
      ]
     },
     "metadata": {},
     "execution_count": 47
    }
   ],
   "metadata": {}
  },
  {
   "cell_type": "markdown",
   "source": [
    "### Inverse"
   ],
   "metadata": {}
  },
  {
   "cell_type": "code",
   "execution_count": 49,
   "source": [
    "'''xinv = np.linalg.inv(x)\r\n",
    "print(xinv)\r\n",
    "print(np.dot(x, xinv))\r\n",
    "'''\r\n",
    "pinv = np.linalg.pinv(x)\r\n",
    "print(pinv)\r\n",
    "print(np.dot(x, pinv))"
   ],
   "outputs": [
    {
     "output_type": "stream",
     "name": "stdout",
     "text": [
      "[[0.048 0.024]\n",
      " [0.064 0.032]]\n",
      "[[0.8 0.4]\n",
      " [0.4 0.2]]\n"
     ]
    }
   ],
   "metadata": {}
  },
  {
   "cell_type": "markdown",
   "source": [
    "### Solving system of linear equations"
   ],
   "metadata": {}
  },
  {
   "cell_type": "code",
   "execution_count": 50,
   "source": [
    "a = np.array([[2, 3], [3, 1]])\r\n",
    "b = np.array([8, 5])\r\n",
    "\r\n",
    "np.linalg.solve(a, b)"
   ],
   "outputs": [
    {
     "output_type": "execute_result",
     "data": {
      "text/plain": [
       "array([1., 2.])"
      ]
     },
     "metadata": {},
     "execution_count": 50
    }
   ],
   "metadata": {}
  },
  {
   "cell_type": "markdown",
   "source": [
    "# Quiz"
   ],
   "metadata": {}
  },
  {
   "cell_type": "code",
   "execution_count": 51,
   "source": [
    "l = np.array([[2, -2, 1], [-1, 2, -1], [2, -4, 1]])\r\n",
    "print(np.linalg.norm(l, ord=np.inf))"
   ],
   "outputs": [
    {
     "output_type": "stream",
     "name": "stdout",
     "text": [
      "7.0\n"
     ]
    }
   ],
   "metadata": {}
  },
  {
   "cell_type": "code",
   "execution_count": 52,
   "source": [
    "print(np.linalg.norm(l))"
   ],
   "outputs": [
    {
     "output_type": "stream",
     "name": "stdout",
     "text": [
      "6.0\n"
     ]
    }
   ],
   "metadata": {}
  },
  {
   "cell_type": "code",
   "execution_count": 55,
   "source": [
    "A = np.array([[1, -3, 4], [-2, 10, -7], [0, 1, 0], [0, 0, 0]])\r\n",
    "B = np.array([[5, 0], [-2, 11], [-3, 12]])\r\n",
    "print(np.dot(A, B))"
   ],
   "outputs": [
    {
     "output_type": "stream",
     "name": "stdout",
     "text": [
      "[[-1 15]\n",
      " [-9 26]\n",
      " [-2 11]\n",
      " [ 0  0]]\n"
     ]
    }
   ],
   "metadata": {}
  }
 ],
 "metadata": {
  "orig_nbformat": 4,
  "language_info": {
   "name": "python",
   "version": "3.8.5",
   "mimetype": "text/x-python",
   "codemirror_mode": {
    "name": "ipython",
    "version": 3
   },
   "pygments_lexer": "ipython3",
   "nbconvert_exporter": "python",
   "file_extension": ".py"
  },
  "kernelspec": {
   "name": "python3",
   "display_name": "Python 3.8.5 64-bit ('base': conda)"
  },
  "interpreter": {
   "hash": "cd8ac7ed5329ff1f59a8356dfddf06d159cf18414acbfd7b13d1d5cd1cbb5d7d"
  }
 },
 "nbformat": 4,
 "nbformat_minor": 2
}