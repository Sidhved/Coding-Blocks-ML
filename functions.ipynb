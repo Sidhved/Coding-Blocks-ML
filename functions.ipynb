{
 "metadata": {
  "language_info": {
   "codemirror_mode": {
    "name": "ipython",
    "version": 3
   },
   "file_extension": ".py",
   "mimetype": "text/x-python",
   "name": "python",
   "nbconvert_exporter": "python",
   "pygments_lexer": "ipython3",
   "version": "3.8.5-final"
  },
  "orig_nbformat": 2,
  "kernelspec": {
   "name": "python3",
   "display_name": "Python 3.8.5 64-bit (conda)",
   "metadata": {
    "interpreter": {
     "hash": "cd8ac7ed5329ff1f59a8356dfddf06d159cf18414acbfd7b13d1d5cd1cbb5d7d"
    }
   }
  }
 },
 "nbformat": 4,
 "nbformat_minor": 2,
 "cells": [
  {
   "source": [
    "FUNCTIONS"
   ],
   "cell_type": "markdown",
   "metadata": {}
  },
  {
   "cell_type": "code",
   "execution_count": 10,
   "metadata": {},
   "outputs": [],
   "source": [
    "#reusable code\n",
    "#sheldon knock\n",
    "def sheldon_knock(name, no = 3):\n",
    "    print((\"knock \"*3 + name+\"\\n\")*no)"
   ]
  },
  {
   "cell_type": "code",
   "execution_count": 11,
   "metadata": {},
   "outputs": [
    {
     "output_type": "stream",
     "name": "stdout",
     "text": [
      "knock knock knock Penny\nknock knock knock Penny\nknock knock knock Penny\n\n"
     ]
    }
   ],
   "source": [
    "sheldon_knock(input())"
   ]
  },
  {
   "cell_type": "code",
   "execution_count": 13,
   "metadata": {},
   "outputs": [],
   "source": [
    "def fac(a):\n",
    "    f = 1\n",
    "    while(a):\n",
    "        f *= a\n",
    "        a -= 1\n",
    "    return f "
   ]
  },
  {
   "cell_type": "code",
   "execution_count": 14,
   "metadata": {},
   "outputs": [
    {
     "output_type": "execute_result",
     "data": {
      "text/plain": [
       "120"
      ]
     },
     "metadata": {},
     "execution_count": 14
    }
   ],
   "source": [
    "fac(5)"
   ]
  },
  {
   "cell_type": "code",
   "execution_count": 15,
   "metadata": {},
   "outputs": [],
   "source": [
    "#use try, except and finally block and incorporate return statements accordingly to see the variations\n",
    "#NOTE if the return statement is also present in the finally block, then all other returns are discarded and the return statement of finally block overwrite the previous successful return"
   ]
  },
  {
   "cell_type": "code",
   "execution_count": 20,
   "metadata": {},
   "outputs": [],
   "source": [
    "#enclosure\n",
    "def outer():\n",
    "    x = \"parent\"\n",
    "\n",
    "    def inner():\n",
    "        nonlocal x\n",
    "        print(x)\n",
    "\n",
    "    inner(x)\n",
    "    print(x)"
   ]
  },
  {
   "cell_type": "code",
   "execution_count": 21,
   "metadata": {},
   "outputs": [
    {
     "output_type": "error",
     "ename": "TypeError",
     "evalue": "inner() takes 0 positional arguments but 1 was given",
     "traceback": [
      "\u001b[1;31m---------------------------------------------------------------------------\u001b[0m",
      "\u001b[1;31mTypeError\u001b[0m                                 Traceback (most recent call last)",
      "\u001b[1;32m<ipython-input-21-0811df1b6f71>\u001b[0m in \u001b[0;36m<module>\u001b[1;34m\u001b[0m\n\u001b[1;32m----> 1\u001b[1;33m \u001b[0mouter\u001b[0m\u001b[1;33m(\u001b[0m\u001b[1;33m)\u001b[0m\u001b[1;33m\u001b[0m\u001b[1;33m\u001b[0m\u001b[0m\n\u001b[0m",
      "\u001b[1;32m<ipython-input-20-ac9dfa84467c>\u001b[0m in \u001b[0;36mouter\u001b[1;34m()\u001b[0m\n\u001b[0;32m      7\u001b[0m         \u001b[0mprint\u001b[0m\u001b[1;33m(\u001b[0m\u001b[0mx\u001b[0m\u001b[1;33m)\u001b[0m\u001b[1;33m\u001b[0m\u001b[1;33m\u001b[0m\u001b[0m\n\u001b[0;32m      8\u001b[0m \u001b[1;33m\u001b[0m\u001b[0m\n\u001b[1;32m----> 9\u001b[1;33m     \u001b[0minner\u001b[0m\u001b[1;33m(\u001b[0m\u001b[0mx\u001b[0m\u001b[1;33m)\u001b[0m\u001b[1;33m\u001b[0m\u001b[1;33m\u001b[0m\u001b[0m\n\u001b[0m\u001b[0;32m     10\u001b[0m     \u001b[0mprint\u001b[0m\u001b[1;33m(\u001b[0m\u001b[0mx\u001b[0m\u001b[1;33m)\u001b[0m\u001b[1;33m\u001b[0m\u001b[1;33m\u001b[0m\u001b[0m\n",
      "\u001b[1;31mTypeError\u001b[0m: inner() takes 0 positional arguments but 1 was given"
     ]
    }
   ],
   "source": [
    "outer()"
   ]
  },
  {
   "source": [
    "ARGUEMENTS"
   ],
   "cell_type": "markdown",
   "metadata": {}
  },
  {
   "cell_type": "code",
   "execution_count": 24,
   "metadata": {},
   "outputs": [],
   "source": [
    "#default arguements\n",
    "def ab(a, b, c, d = 1, e = 0):\n",
    "    print(a, b, c, d, e, f)"
   ]
  },
  {
   "cell_type": "code",
   "execution_count": 30,
   "metadata": {},
   "outputs": [
    {
     "output_type": "stream",
     "name": "stdout",
     "text": [
      "hello hi hallo ()\n"
     ]
    }
   ],
   "source": [
    "#keyworded args\n",
    "def d(a, b, c, *args):\n",
    "    print(a, b, c, args)\n",
    "\n",
    "d(b = \"hi\", a = \"hello\", c = \"hallo\")"
   ]
  },
  {
   "cell_type": "code",
   "execution_count": 27,
   "metadata": {},
   "outputs": [
    {
     "output_type": "stream",
     "name": "stdout",
     "text": [
      "(1, 9, 8.0, 'boii')\n"
     ]
    }
   ],
   "source": [
    "#positional arguments packing\n",
    "def sh(*args):\n",
    "    print(args)\n",
    "\n",
    "sh(1,9, 8.00, \"boii\")\n"
   ]
  },
  {
   "cell_type": "code",
   "execution_count": 33,
   "metadata": {},
   "outputs": [
    {
     "output_type": "stream",
     "name": "stdout",
     "text": [
      "hi (10, 10, 10, 'noice') yoo supp 0 90 {}\n"
     ]
    }
   ],
   "source": [
    "def sho(a, b, c, *args, d= 0,e = 90, **kwargs):\n",
    "    print(a, args, b, c, d, e, kwargs)\n",
    "\n",
    "sho(\"hi\", \"yoo\", \"supp\", 10, 10, 10, \"noice\")"
   ]
  },
  {
   "source": [
    "LAMBDA FUNCTIONS aka Syntactical sungars"
   ],
   "cell_type": "markdown",
   "metadata": {}
  },
  {
   "cell_type": "code",
   "execution_count": 39,
   "metadata": {},
   "outputs": [],
   "source": [
    "#single line functions\n",
    "add = lambda a, b: a+b"
   ]
  },
  {
   "cell_type": "code",
   "execution_count": 40,
   "metadata": {},
   "outputs": [],
   "source": [
    "k = [(\"idk\", 5), (\"um\", 10), (\"oh\", 15), (\"kk\", 20)]"
   ]
  },
  {
   "cell_type": "code",
   "execution_count": 44,
   "metadata": {},
   "outputs": [
    {
     "output_type": "execute_result",
     "data": {
      "text/plain": [
       "[('idk', 5), ('um', 10), ('oh', 15), ('kk', 20)]"
      ]
     },
     "metadata": {},
     "execution_count": 44
    }
   ],
   "source": [
    "sorted(k, key = lambda x:x[1])"
   ]
  },
  {
   "source": [
    "DECORATOR"
   ],
   "cell_type": "markdown",
   "metadata": {}
  },
  {
   "cell_type": "code",
   "execution_count": 53,
   "metadata": {},
   "outputs": [],
   "source": [
    "users ={\n",
    "    \"hi\":\"Password\",\n",
    "    \"sup\":\"go away\"\n",
    "}"
   ]
  },
  {
   "cell_type": "code",
   "execution_count": 54,
   "metadata": {},
   "outputs": [],
   "source": [
    "def show(username, password):\n",
    "    if username in users and users[username] == password:\n",
    "        print(\"Toit\")\n",
    "    else:\n",
    "        print(\"bleh!\")"
   ]
  },
  {
   "cell_type": "code",
   "execution_count": 55,
   "metadata": {},
   "outputs": [
    {
     "output_type": "stream",
     "name": "stdout",
     "text": [
      "Toit\n"
     ]
    }
   ],
   "source": [
    "show(\"hi\", \"Password\")"
   ]
  },
  {
   "cell_type": "code",
   "execution_count": 58,
   "metadata": {},
   "outputs": [],
   "source": [
    "#to use the authentication snippet over and over again,we use decorators\n",
    "def login(fn):\n",
    "    def wrapper(username, password, *args, **kwargs):\n",
    "        if username in users and users[username] == password:\n",
    "            print(\"log in successful\")\n",
    "            fn(*args)\n",
    "        else:\n",
    "            print(\"login failed!\")\n",
    "    return wrapper"
   ]
  },
  {
   "cell_type": "code",
   "execution_count": 59,
   "metadata": {},
   "outputs": [],
   "source": [
    "def ad(a, b):\n",
    "    print(a+b)"
   ]
  },
  {
   "cell_type": "code",
   "execution_count": 61,
   "metadata": {},
   "outputs": [
    {
     "output_type": "stream",
     "name": "stdout",
     "text": [
      "log in successful\n69\n"
     ]
    }
   ],
   "source": [
    "protected_ad = login(ad)\n",
    "protected_ad(\"hi\", \"Password\", 10, 59)"
   ]
  },
  {
   "cell_type": "code",
   "execution_count": 62,
   "metadata": {},
   "outputs": [],
   "source": [
    "@login\n",
    "def addd(a, b):\n",
    "    print(a*b)"
   ]
  },
  {
   "cell_type": "code",
   "execution_count": 63,
   "metadata": {},
   "outputs": [
    {
     "output_type": "stream",
     "name": "stdout",
     "text": [
      "log in successful\n2898\n"
     ]
    }
   ],
   "source": [
    "addd(\"hi\", \"Password\", 69, 42)"
   ]
  },
  {
   "source": [
    "**ARGS AND KWARGS**"
   ],
   "cell_type": "markdown",
   "metadata": {}
  },
  {
   "cell_type": "code",
   "execution_count": 73,
   "metadata": {},
   "outputs": [],
   "source": [
    "def fu(a, b, *args, **kwargs):\n",
    "    print(args)\n",
    "    print(kwargs)"
   ]
  },
  {
   "cell_type": "code",
   "execution_count": 74,
   "metadata": {},
   "outputs": [
    {
     "output_type": "stream",
     "name": "stdout",
     "text": [
      "(3, 4)\n{'umhm': 'cools', 'noice': 'smort', 'toit': 'no doubt'}\n"
     ]
    }
   ],
   "source": [
    "fu(1, 2, 3, 4, umhm = \"cools\", noice = \"smort\", toit = \"no doubt\")"
   ]
  }
 ]
}